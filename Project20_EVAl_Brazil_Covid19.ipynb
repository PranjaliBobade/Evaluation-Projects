{
 "cells": [
  {
   "cell_type": "code",
   "execution_count": 2,
   "metadata": {},
   "outputs": [],
   "source": [
    "#Import all required libraries as below\n",
    "\n",
    "import pandas as pd\n",
    "from sklearn import preprocessing\n",
    "from matplotlib import pyplot as plt\n",
    "from sklearn.model_selection import train_test_split\n",
    "\n",
    "from sklearn.model_selection import StratifiedKFold\n",
    "from sklearn.metrics import classification_report\n",
    "from sklearn.metrics import confusion_matrix\n",
    "from sklearn.metrics import accuracy_score\n",
    "from sklearn.linear_model import LogisticRegression\n",
    "from sklearn.tree import DecisionTreeClassifier\n",
    "from sklearn.neighbors import KNeighborsClassifier\n",
    "from sklearn.discriminant_analysis import LinearDiscriminantAnalysis\n",
    "from sklearn.naive_bayes import GaussianNB\n",
    "from sklearn.svm import SVC\n",
    "\n",
    "import seaborn as sns\n",
    "import warnings\n",
    "warnings.filterwarnings('ignore')"
   ]
  },
  {
   "cell_type": "code",
   "execution_count": 3,
   "metadata": {},
   "outputs": [],
   "source": [
    "#import Skyserver data files using pandas\n",
    "\n",
    "df=pd.read_excel(\"F:/Pranjali/Data Science/Eval Project/Data Files/covid19_Brazil.xlsx\")"
   ]
  },
  {
   "cell_type": "code",
   "execution_count": 4,
   "metadata": {},
   "outputs": [
    {
     "data": {
      "text/html": [
       "<div>\n",
       "<style scoped>\n",
       "    .dataframe tbody tr th:only-of-type {\n",
       "        vertical-align: middle;\n",
       "    }\n",
       "\n",
       "    .dataframe tbody tr th {\n",
       "        vertical-align: top;\n",
       "    }\n",
       "\n",
       "    .dataframe thead th {\n",
       "        text-align: right;\n",
       "    }\n",
       "</style>\n",
       "<table border=\"1\" class=\"dataframe\">\n",
       "  <thead>\n",
       "    <tr style=\"text-align: right;\">\n",
       "      <th></th>\n",
       "      <th>PatientID</th>\n",
       "      <th>Patientagequantile</th>\n",
       "      <th>SARSCov2examresult</th>\n",
       "      <th>Patientaddmitedtoregularward(1=yes,0=no)</th>\n",
       "      <th>Patientaddmitedtosemiintensiveunit(1=yes,0=no)</th>\n",
       "      <th>Patientaddmitedtointensivecareunit(1=yes,0=no)</th>\n",
       "      <th>Hematocrit</th>\n",
       "      <th>Hemoglobin</th>\n",
       "      <th>Platelets</th>\n",
       "      <th>Meanplateletvolume</th>\n",
       "      <th>...</th>\n",
       "      <th>Hbsaturation(arterialbloodgases)</th>\n",
       "      <th>pCO2(arterialbloodgasanalysis)</th>\n",
       "      <th>Baseexcess(arterialbloodgasanalysis)</th>\n",
       "      <th>pH(arterialbloodgasanalysis)</th>\n",
       "      <th>TotalCO2(arterialbloodgasanalysis)</th>\n",
       "      <th>HCO3(arterialbloodgasanalysis)</th>\n",
       "      <th>pO2(arterialbloodgasanalysis)</th>\n",
       "      <th>ArteiralFio2</th>\n",
       "      <th>Phosphor</th>\n",
       "      <th>ctO2(arterialbloodgasanalysis)</th>\n",
       "    </tr>\n",
       "  </thead>\n",
       "  <tbody>\n",
       "    <tr>\n",
       "      <th>0</th>\n",
       "      <td>44477f75e8169d2</td>\n",
       "      <td>13</td>\n",
       "      <td>0</td>\n",
       "      <td>0</td>\n",
       "      <td>0</td>\n",
       "      <td>0</td>\n",
       "      <td>NaN</td>\n",
       "      <td>NaN</td>\n",
       "      <td>NaN</td>\n",
       "      <td>NaN</td>\n",
       "      <td>...</td>\n",
       "      <td>NaN</td>\n",
       "      <td>NaN</td>\n",
       "      <td>NaN</td>\n",
       "      <td>NaN</td>\n",
       "      <td>NaN</td>\n",
       "      <td>NaN</td>\n",
       "      <td>NaN</td>\n",
       "      <td>NaN</td>\n",
       "      <td>NaN</td>\n",
       "      <td>NaN</td>\n",
       "    </tr>\n",
       "    <tr>\n",
       "      <th>1</th>\n",
       "      <td>126e9dd13932f68</td>\n",
       "      <td>17</td>\n",
       "      <td>0</td>\n",
       "      <td>0</td>\n",
       "      <td>0</td>\n",
       "      <td>0</td>\n",
       "      <td>0.236515</td>\n",
       "      <td>0.02234</td>\n",
       "      <td>0.517413</td>\n",
       "      <td>0.010677</td>\n",
       "      <td>...</td>\n",
       "      <td>NaN</td>\n",
       "      <td>NaN</td>\n",
       "      <td>NaN</td>\n",
       "      <td>NaN</td>\n",
       "      <td>NaN</td>\n",
       "      <td>NaN</td>\n",
       "      <td>NaN</td>\n",
       "      <td>NaN</td>\n",
       "      <td>NaN</td>\n",
       "      <td>NaN</td>\n",
       "    </tr>\n",
       "    <tr>\n",
       "      <th>2</th>\n",
       "      <td>a46b4402a0e5696</td>\n",
       "      <td>8</td>\n",
       "      <td>0</td>\n",
       "      <td>0</td>\n",
       "      <td>0</td>\n",
       "      <td>0</td>\n",
       "      <td>NaN</td>\n",
       "      <td>NaN</td>\n",
       "      <td>NaN</td>\n",
       "      <td>NaN</td>\n",
       "      <td>...</td>\n",
       "      <td>NaN</td>\n",
       "      <td>NaN</td>\n",
       "      <td>NaN</td>\n",
       "      <td>NaN</td>\n",
       "      <td>NaN</td>\n",
       "      <td>NaN</td>\n",
       "      <td>NaN</td>\n",
       "      <td>NaN</td>\n",
       "      <td>NaN</td>\n",
       "      <td>NaN</td>\n",
       "    </tr>\n",
       "    <tr>\n",
       "      <th>3</th>\n",
       "      <td>f7d619a94f97c45</td>\n",
       "      <td>5</td>\n",
       "      <td>0</td>\n",
       "      <td>0</td>\n",
       "      <td>0</td>\n",
       "      <td>0</td>\n",
       "      <td>NaN</td>\n",
       "      <td>NaN</td>\n",
       "      <td>NaN</td>\n",
       "      <td>NaN</td>\n",
       "      <td>...</td>\n",
       "      <td>NaN</td>\n",
       "      <td>NaN</td>\n",
       "      <td>NaN</td>\n",
       "      <td>NaN</td>\n",
       "      <td>NaN</td>\n",
       "      <td>NaN</td>\n",
       "      <td>NaN</td>\n",
       "      <td>NaN</td>\n",
       "      <td>NaN</td>\n",
       "      <td>NaN</td>\n",
       "    </tr>\n",
       "    <tr>\n",
       "      <th>4</th>\n",
       "      <td>d9e41465789c2b5</td>\n",
       "      <td>15</td>\n",
       "      <td>0</td>\n",
       "      <td>0</td>\n",
       "      <td>0</td>\n",
       "      <td>0</td>\n",
       "      <td>NaN</td>\n",
       "      <td>NaN</td>\n",
       "      <td>NaN</td>\n",
       "      <td>NaN</td>\n",
       "      <td>...</td>\n",
       "      <td>NaN</td>\n",
       "      <td>NaN</td>\n",
       "      <td>NaN</td>\n",
       "      <td>NaN</td>\n",
       "      <td>NaN</td>\n",
       "      <td>NaN</td>\n",
       "      <td>NaN</td>\n",
       "      <td>NaN</td>\n",
       "      <td>NaN</td>\n",
       "      <td>NaN</td>\n",
       "    </tr>\n",
       "  </tbody>\n",
       "</table>\n",
       "<p>5 rows × 111 columns</p>\n",
       "</div>"
      ],
      "text/plain": [
       "         PatientID  Patientagequantile  SARSCov2examresult  \\\n",
       "0  44477f75e8169d2                  13                   0   \n",
       "1  126e9dd13932f68                  17                   0   \n",
       "2  a46b4402a0e5696                   8                   0   \n",
       "3  f7d619a94f97c45                   5                   0   \n",
       "4  d9e41465789c2b5                  15                   0   \n",
       "\n",
       "   Patientaddmitedtoregularward(1=yes,0=no)  \\\n",
       "0                                         0   \n",
       "1                                         0   \n",
       "2                                         0   \n",
       "3                                         0   \n",
       "4                                         0   \n",
       "\n",
       "   Patientaddmitedtosemiintensiveunit(1=yes,0=no)  \\\n",
       "0                                               0   \n",
       "1                                               0   \n",
       "2                                               0   \n",
       "3                                               0   \n",
       "4                                               0   \n",
       "\n",
       "   Patientaddmitedtointensivecareunit(1=yes,0=no)  Hematocrit  Hemoglobin  \\\n",
       "0                                               0         NaN         NaN   \n",
       "1                                               0    0.236515     0.02234   \n",
       "2                                               0         NaN         NaN   \n",
       "3                                               0         NaN         NaN   \n",
       "4                                               0         NaN         NaN   \n",
       "\n",
       "   Platelets  Meanplateletvolume  ...  Hbsaturation(arterialbloodgases)  \\\n",
       "0        NaN                 NaN  ...                               NaN   \n",
       "1   0.517413            0.010677  ...                               NaN   \n",
       "2        NaN                 NaN  ...                               NaN   \n",
       "3        NaN                 NaN  ...                               NaN   \n",
       "4        NaN                 NaN  ...                               NaN   \n",
       "\n",
       "   pCO2(arterialbloodgasanalysis)  Baseexcess(arterialbloodgasanalysis)  \\\n",
       "0                             NaN                                   NaN   \n",
       "1                             NaN                                   NaN   \n",
       "2                             NaN                                   NaN   \n",
       "3                             NaN                                   NaN   \n",
       "4                             NaN                                   NaN   \n",
       "\n",
       "   pH(arterialbloodgasanalysis)  TotalCO2(arterialbloodgasanalysis)  \\\n",
       "0                           NaN                                 NaN   \n",
       "1                           NaN                                 NaN   \n",
       "2                           NaN                                 NaN   \n",
       "3                           NaN                                 NaN   \n",
       "4                           NaN                                 NaN   \n",
       "\n",
       "   HCO3(arterialbloodgasanalysis)  pO2(arterialbloodgasanalysis)  \\\n",
       "0                             NaN                            NaN   \n",
       "1                             NaN                            NaN   \n",
       "2                             NaN                            NaN   \n",
       "3                             NaN                            NaN   \n",
       "4                             NaN                            NaN   \n",
       "\n",
       "   ArteiralFio2  Phosphor  ctO2(arterialbloodgasanalysis)  \n",
       "0           NaN       NaN                             NaN  \n",
       "1           NaN       NaN                             NaN  \n",
       "2           NaN       NaN                             NaN  \n",
       "3           NaN       NaN                             NaN  \n",
       "4           NaN       NaN                             NaN  \n",
       "\n",
       "[5 rows x 111 columns]"
      ]
     },
     "execution_count": 4,
     "metadata": {},
     "output_type": "execute_result"
    }
   ],
   "source": [
    "df.head()"
   ]
  },
  {
   "cell_type": "code",
   "execution_count": 5,
   "metadata": {},
   "outputs": [
    {
     "data": {
      "text/html": [
       "<div>\n",
       "<style scoped>\n",
       "    .dataframe tbody tr th:only-of-type {\n",
       "        vertical-align: middle;\n",
       "    }\n",
       "\n",
       "    .dataframe tbody tr th {\n",
       "        vertical-align: top;\n",
       "    }\n",
       "\n",
       "    .dataframe thead th {\n",
       "        text-align: right;\n",
       "    }\n",
       "</style>\n",
       "<table border=\"1\" class=\"dataframe\">\n",
       "  <thead>\n",
       "    <tr style=\"text-align: right;\">\n",
       "      <th></th>\n",
       "      <th>PatientID</th>\n",
       "      <th>Patientagequantile</th>\n",
       "      <th>SARSCov2examresult</th>\n",
       "      <th>Patientaddmitedtoregularward(1=yes,0=no)</th>\n",
       "      <th>Patientaddmitedtosemiintensiveunit(1=yes,0=no)</th>\n",
       "      <th>Patientaddmitedtointensivecareunit(1=yes,0=no)</th>\n",
       "      <th>Hematocrit</th>\n",
       "      <th>Hemoglobin</th>\n",
       "      <th>Platelets</th>\n",
       "      <th>Meanplateletvolume</th>\n",
       "      <th>...</th>\n",
       "      <th>Hbsaturation(arterialbloodgases)</th>\n",
       "      <th>pCO2(arterialbloodgasanalysis)</th>\n",
       "      <th>Baseexcess(arterialbloodgasanalysis)</th>\n",
       "      <th>pH(arterialbloodgasanalysis)</th>\n",
       "      <th>TotalCO2(arterialbloodgasanalysis)</th>\n",
       "      <th>HCO3(arterialbloodgasanalysis)</th>\n",
       "      <th>pO2(arterialbloodgasanalysis)</th>\n",
       "      <th>ArteiralFio2</th>\n",
       "      <th>Phosphor</th>\n",
       "      <th>ctO2(arterialbloodgasanalysis)</th>\n",
       "    </tr>\n",
       "  </thead>\n",
       "  <tbody>\n",
       "    <tr>\n",
       "      <th>0</th>\n",
       "      <td>44477f75e8169d2</td>\n",
       "      <td>13</td>\n",
       "      <td>0</td>\n",
       "      <td>0</td>\n",
       "      <td>0</td>\n",
       "      <td>0</td>\n",
       "      <td>NaN</td>\n",
       "      <td>NaN</td>\n",
       "      <td>NaN</td>\n",
       "      <td>NaN</td>\n",
       "      <td>...</td>\n",
       "      <td>NaN</td>\n",
       "      <td>NaN</td>\n",
       "      <td>NaN</td>\n",
       "      <td>NaN</td>\n",
       "      <td>NaN</td>\n",
       "      <td>NaN</td>\n",
       "      <td>NaN</td>\n",
       "      <td>NaN</td>\n",
       "      <td>NaN</td>\n",
       "      <td>NaN</td>\n",
       "    </tr>\n",
       "  </tbody>\n",
       "</table>\n",
       "<p>1 rows × 111 columns</p>\n",
       "</div>"
      ],
      "text/plain": [
       "         PatientID  Patientagequantile  SARSCov2examresult  \\\n",
       "0  44477f75e8169d2                  13                   0   \n",
       "\n",
       "   Patientaddmitedtoregularward(1=yes,0=no)  \\\n",
       "0                                         0   \n",
       "\n",
       "   Patientaddmitedtosemiintensiveunit(1=yes,0=no)  \\\n",
       "0                                               0   \n",
       "\n",
       "   Patientaddmitedtointensivecareunit(1=yes,0=no)  Hematocrit  Hemoglobin  \\\n",
       "0                                               0         NaN         NaN   \n",
       "\n",
       "   Platelets  Meanplateletvolume  ...  Hbsaturation(arterialbloodgases)  \\\n",
       "0        NaN                 NaN  ...                               NaN   \n",
       "\n",
       "   pCO2(arterialbloodgasanalysis)  Baseexcess(arterialbloodgasanalysis)  \\\n",
       "0                             NaN                                   NaN   \n",
       "\n",
       "   pH(arterialbloodgasanalysis)  TotalCO2(arterialbloodgasanalysis)  \\\n",
       "0                           NaN                                 NaN   \n",
       "\n",
       "   HCO3(arterialbloodgasanalysis)  pO2(arterialbloodgasanalysis)  \\\n",
       "0                             NaN                            NaN   \n",
       "\n",
       "   ArteiralFio2  Phosphor  ctO2(arterialbloodgasanalysis)  \n",
       "0           NaN       NaN                             NaN  \n",
       "\n",
       "[1 rows x 111 columns]"
      ]
     },
     "execution_count": 5,
     "metadata": {},
     "output_type": "execute_result"
    }
   ],
   "source": [
    "df.head(1)"
   ]
  },
  {
   "cell_type": "code",
   "execution_count": 6,
   "metadata": {},
   "outputs": [
    {
     "name": "stdout",
     "output_type": "stream",
     "text": [
      "<class 'pandas.core.frame.DataFrame'>\n",
      "RangeIndex: 5644 entries, 0 to 5643\n",
      "Columns: 111 entries, PatientID to ctO2(arterialbloodgasanalysis)\n",
      "dtypes: float64(105), int64(5), object(1)\n",
      "memory usage: 4.8+ MB\n"
     ]
    }
   ],
   "source": [
    "df.info()"
   ]
  },
  {
   "cell_type": "code",
   "execution_count": 7,
   "metadata": {},
   "outputs": [
    {
     "data": {
      "text/plain": [
       "<matplotlib.axes._subplots.AxesSubplot at 0x2510bc77b48>"
      ]
     },
     "execution_count": 7,
     "metadata": {},
     "output_type": "execute_result"
    },
    {
     "data": {
      "image/png": "[encoded data removed]",
      "text/plain": [
       "<Figure size 432x288 with 2 Axes>"
      ]
     },
     "metadata": {
      "needs_background": "light"
     },
     "output_type": "display_data"
    }
   ],
   "source": [
    "# check missing values\n",
    "sns.heatmap(df.isnull())"
   ]
  },
  {
   "cell_type": "code",
   "execution_count": 8,
   "metadata": {},
   "outputs": [
    {
     "data": {
      "text/plain": [
       "['PatientID',\n",
       " 'Patientagequantile',\n",
       " 'SARSCov2examresult',\n",
       " 'Patientaddmitedtoregularward(1=yes,0=no)',\n",
       " 'Patientaddmitedtosemiintensiveunit(1=yes,0=no)',\n",
       " 'Patientaddmitedtointensivecareunit(1=yes,0=no)',\n",
       " 'Hematocrit',\n",
       " 'Hemoglobin',\n",
       " 'Platelets',\n",
       " 'Meanplateletvolume',\n",
       " 'RedbloodCells',\n",
       " 'Lymphocytes',\n",
       " 'Meancorpuscularhemoglobinconcentration\\xa0(MCHC)',\n",
       " 'Leukocytes',\n",
       " 'Basophils',\n",
       " 'Meancorpuscularhemoglobin(MCH)',\n",
       " 'Eosinophils',\n",
       " 'Meancorpuscularvolume(MCV)',\n",
       " 'Monocytes',\n",
       " 'Redbloodcelldistributionwidth(RDW)',\n",
       " 'SerumGlucose',\n",
       " 'RespiratorySyncytialVirus',\n",
       " 'InfluenzaA',\n",
       " 'InfluenzaB',\n",
       " 'Parainfluenza1',\n",
       " 'CoronavirusNL63',\n",
       " 'Rhinovirus/Enterovirus',\n",
       " 'Mycoplasmapneumoniae',\n",
       " 'CoronavirusHKU1',\n",
       " 'Parainfluenza3',\n",
       " 'Chlamydophilapneumoniae',\n",
       " 'Adenovirus',\n",
       " 'Parainfluenza4',\n",
       " 'Coronavirus229E',\n",
       " 'CoronavirusOC43',\n",
       " 'InfAH1N12009',\n",
       " 'Bordetellapertussis',\n",
       " 'Metapneumovirus',\n",
       " 'Parainfluenza2',\n",
       " 'Neutrophils',\n",
       " 'Urea',\n",
       " 'ProteinaCreativamg/dL',\n",
       " 'Creatinine',\n",
       " 'Potassium',\n",
       " 'Sodium',\n",
       " 'InfluenzaB,rapidtest',\n",
       " 'InfluenzaA,rapidtest',\n",
       " 'Alaninetransaminase',\n",
       " 'Aspartatetransaminase',\n",
       " 'Gammaglutamyltransferase\\xa0',\n",
       " 'TotalBilirubin',\n",
       " 'DirectBilirubin',\n",
       " 'IndirectBilirubin',\n",
       " 'Alkalinephosphatase',\n",
       " 'Ionizedcalcium\\xa0',\n",
       " 'StreptoA',\n",
       " 'Magnesium',\n",
       " 'pCO2(venousbloodgasanalysis)',\n",
       " 'Hbsaturation(venousbloodgasanalysis)',\n",
       " 'Baseexcess(venousbloodgasanalysis)',\n",
       " 'pO2(venousbloodgasanalysis)',\n",
       " 'Fio2(venousbloodgasanalysis)',\n",
       " 'TotalCO2(venousbloodgasanalysis)',\n",
       " 'pH(venousbloodgasanalysis)',\n",
       " 'HCO3(venousbloodgasanalysis)',\n",
       " 'Rods#',\n",
       " 'Segmented',\n",
       " 'Promyelocytes',\n",
       " 'Metamyelocytes',\n",
       " 'Myelocytes',\n",
       " 'Myeloblasts',\n",
       " 'UrineEsterase',\n",
       " 'UrineAspect',\n",
       " 'UrinepH',\n",
       " 'UrineHemoglobin',\n",
       " 'UrineBilepigments',\n",
       " 'UrineKetoneBodies',\n",
       " 'UrineNitrite',\n",
       " 'UrineDensity',\n",
       " 'UrineUrobilinogen',\n",
       " 'UrineProtein',\n",
       " 'UrineSugar',\n",
       " 'UrineLeukocytes',\n",
       " 'UrineCrystals',\n",
       " 'UrineRedbloodcells',\n",
       " 'UrineHyalinecylinders',\n",
       " 'UrineGranularcylinders',\n",
       " 'UrineYeasts',\n",
       " 'UrineColor',\n",
       " 'Partialthromboplastintime\\xa0(PTT)\\xa0',\n",
       " 'Relationship(Patient/1)',\n",
       " 'International1izedratio(INR)',\n",
       " 'LacticDehydrogenase',\n",
       " 'Prothrombintime(PT),Activity',\n",
       " 'VitaminB12',\n",
       " 'Creatinephosphokinase\\xa0(CPK)\\xa0',\n",
       " 'Ferritin',\n",
       " 'ArterialLacticAcid',\n",
       " 'Lipasedosage',\n",
       " 'DDimer',\n",
       " 'Albumin',\n",
       " 'Hbsaturation(arterialbloodgases)',\n",
       " 'pCO2(arterialbloodgasanalysis)',\n",
       " 'Baseexcess(arterialbloodgasanalysis)',\n",
       " 'pH(arterialbloodgasanalysis)',\n",
       " 'TotalCO2(arterialbloodgasanalysis)',\n",
       " 'HCO3(arterialbloodgasanalysis)',\n",
       " 'pO2(arterialbloodgasanalysis)',\n",
       " 'ArteiralFio2',\n",
       " 'Phosphor',\n",
       " 'ctO2(arterialbloodgasanalysis)']"
      ]
     },
     "execution_count": 8,
     "metadata": {},
     "output_type": "execute_result"
    }
   ],
   "source": [
    "list(df.columns.values) "
   ]
  },
  {
   "cell_type": "code",
   "execution_count": 9,
   "metadata": {},
   "outputs": [],
   "source": [
    "cols=('PatientID',\n",
    " 'Patientagequantile',\n",
    " 'SARSCov2examresult',\n",
    " 'Patientaddmitedtoregularward(1=yes,0=no)',\n",
    " 'Patientaddmitedtosemiintensiveunit(1=yes,0=no)',\n",
    " 'Patientaddmitedtointensivecareunit(1=yes,0=no)',\n",
    " 'Hematocrit',\n",
    " 'Hemoglobin',\n",
    " 'Platelets',\n",
    " 'Meanplateletvolume',\n",
    " 'RedbloodCells',\n",
    " 'Lymphocytes',\n",
    " 'Meancorpuscularhemoglobinconcentration\\xa0(MCHC)',\n",
    " 'Leukocytes',\n",
    " 'Basophils',\n",
    " 'Meancorpuscularhemoglobin(MCH)',\n",
    " 'Eosinophils',\n",
    " 'Meancorpuscularvolume(MCV)',\n",
    " 'Monocytes',\n",
    " 'Redbloodcelldistributionwidth(RDW)',\n",
    " 'SerumGlucose',\n",
    " 'RespiratorySyncytialVirus',\n",
    " 'InfluenzaA',\n",
    " 'InfluenzaB',\n",
    " 'Parainfluenza1',\n",
    " 'CoronavirusNL63',\n",
    " 'Rhinovirus/Enterovirus',\n",
    " 'Mycoplasmapneumoniae',\n",
    " 'CoronavirusHKU1',\n",
    " 'Parainfluenza3',\n",
    " 'Chlamydophilapneumoniae',\n",
    " 'Adenovirus',\n",
    " 'Parainfluenza4',\n",
    " 'Coronavirus229E',\n",
    " 'CoronavirusOC43',\n",
    " 'InfAH1N12009',\n",
    " 'Bordetellapertussis',\n",
    " 'Metapneumovirus',\n",
    " 'Parainfluenza2',\n",
    " 'Neutrophils',\n",
    " 'Urea',\n",
    " 'ProteinaCreativamg/dL',\n",
    " 'Creatinine',\n",
    " 'Potassium',\n",
    " 'Sodium',\n",
    " 'InfluenzaB,rapidtest',\n",
    " 'InfluenzaA,rapidtest',\n",
    " 'Alaninetransaminase',\n",
    " 'Aspartatetransaminase',\n",
    " 'Gammaglutamyltransferase\\xa0',\n",
    " 'TotalBilirubin',\n",
    " 'DirectBilirubin',\n",
    " 'IndirectBilirubin',\n",
    " 'Alkalinephosphatase',\n",
    " 'Ionizedcalcium\\xa0',\n",
    " 'StreptoA',\n",
    " 'Magnesium',\n",
    " 'pCO2(venousbloodgasanalysis)',\n",
    " 'Hbsaturation(venousbloodgasanalysis)',\n",
    " 'Baseexcess(venousbloodgasanalysis)',\n",
    " 'pO2(venousbloodgasanalysis)',\n",
    " 'Fio2(venousbloodgasanalysis)',\n",
    " 'TotalCO2(venousbloodgasanalysis)',\n",
    " 'pH(venousbloodgasanalysis)',\n",
    " 'HCO3(venousbloodgasanalysis)',\n",
    " 'Rods#',\n",
    " 'Segmented',\n",
    " 'Promyelocytes',\n",
    " 'Metamyelocytes',\n",
    " 'Myelocytes',\n",
    " 'Myeloblasts',\n",
    " 'UrineEsterase',\n",
    " 'UrineAspect',\n",
    " 'UrinepH',\n",
    " 'UrineHemoglobin',\n",
    " 'UrineBilepigments',\n",
    " 'UrineKetoneBodies',\n",
    " 'UrineNitrite',\n",
    " 'UrineDensity',\n",
    " 'UrineUrobilinogen',\n",
    " 'UrineProtein',\n",
    " 'UrineSugar',\n",
    " 'UrineLeukocytes',\n",
    " 'UrineCrystals',\n",
    " 'UrineRedbloodcells',\n",
    " 'UrineHyalinecylinders',\n",
    " 'UrineGranularcylinders',\n",
    " 'UrineYeasts',\n",
    " 'UrineColor',\n",
    " 'Partialthromboplastintime\\xa0(PTT)\\xa0',\n",
    " 'Relationship(Patient/Normal)',\n",
    " 'Internationalnormalizedratio(INR)',\n",
    " 'LacticDehydrogenase',\n",
    " 'Prothrombintime(PT),Activity',\n",
    " 'VitaminB12',\n",
    " 'Creatinephosphokinase\\xa0(CPK)\\xa0',\n",
    " 'Ferritin',\n",
    " 'ArterialLacticAcid',\n",
    " 'Lipasedosage',\n",
    " 'DDimer',\n",
    " 'Albumin',\n",
    " 'Hbsaturation(arterialbloodgases)',\n",
    " 'pCO2(arterialbloodgasanalysis)',\n",
    " 'Baseexcess(arterialbloodgasanalysis)',\n",
    " 'pH(arterialbloodgasanalysis)',\n",
    " 'TotalCO2(arterialbloodgasanalysis)',\n",
    " 'HCO3(arterialbloodgasanalysis)',\n",
    " 'pO2(arterialbloodgasanalysis)',\n",
    " 'ArteiralFio2',\n",
    " 'Phosphor',\n",
    " 'ctO2(arterialbloodgasanalysis)')"
   ]
  },
  {
   "cell_type": "code",
   "execution_count": 10,
   "metadata": {},
   "outputs": [],
   "source": [
    " def replace_vals(row):\n",
    "        for col in cols:\n",
    "               if row[col] == 'NaN':\n",
    "                    row[col] = 1\n",
    "                     "
   ]
  },
  {
   "cell_type": "code",
   "execution_count": 11,
   "metadata": {},
   "outputs": [
    {
     "data": {
      "text/html": [
       "<div>\n",
       "<style scoped>\n",
       "    .dataframe tbody tr th:only-of-type {\n",
       "        vertical-align: middle;\n",
       "    }\n",
       "\n",
       "    .dataframe tbody tr th {\n",
       "        vertical-align: top;\n",
       "    }\n",
       "\n",
       "    .dataframe thead th {\n",
       "        text-align: right;\n",
       "    }\n",
       "</style>\n",
       "<table border=\"1\" class=\"dataframe\">\n",
       "  <thead>\n",
       "    <tr style=\"text-align: right;\">\n",
       "      <th></th>\n",
       "      <th>PatientID</th>\n",
       "      <th>Patientagequantile</th>\n",
       "      <th>SARSCov2examresult</th>\n",
       "      <th>Patientaddmitedtoregularward(1=yes,0=no)</th>\n",
       "      <th>Patientaddmitedtosemiintensiveunit(1=yes,0=no)</th>\n",
       "      <th>Patientaddmitedtointensivecareunit(1=yes,0=no)</th>\n",
       "      <th>Hematocrit</th>\n",
       "      <th>Hemoglobin</th>\n",
       "      <th>Platelets</th>\n",
       "      <th>Meanplateletvolume</th>\n",
       "      <th>...</th>\n",
       "      <th>Hbsaturation(arterialbloodgases)</th>\n",
       "      <th>pCO2(arterialbloodgasanalysis)</th>\n",
       "      <th>Baseexcess(arterialbloodgasanalysis)</th>\n",
       "      <th>pH(arterialbloodgasanalysis)</th>\n",
       "      <th>TotalCO2(arterialbloodgasanalysis)</th>\n",
       "      <th>HCO3(arterialbloodgasanalysis)</th>\n",
       "      <th>pO2(arterialbloodgasanalysis)</th>\n",
       "      <th>ArteiralFio2</th>\n",
       "      <th>Phosphor</th>\n",
       "      <th>ctO2(arterialbloodgasanalysis)</th>\n",
       "    </tr>\n",
       "  </thead>\n",
       "  <tbody>\n",
       "    <tr>\n",
       "      <th>0</th>\n",
       "      <td>44477f75e8169d2</td>\n",
       "      <td>13</td>\n",
       "      <td>0</td>\n",
       "      <td>0</td>\n",
       "      <td>0</td>\n",
       "      <td>0</td>\n",
       "      <td>NaN</td>\n",
       "      <td>NaN</td>\n",
       "      <td>NaN</td>\n",
       "      <td>NaN</td>\n",
       "      <td>...</td>\n",
       "      <td>NaN</td>\n",
       "      <td>NaN</td>\n",
       "      <td>NaN</td>\n",
       "      <td>NaN</td>\n",
       "      <td>NaN</td>\n",
       "      <td>NaN</td>\n",
       "      <td>NaN</td>\n",
       "      <td>NaN</td>\n",
       "      <td>NaN</td>\n",
       "      <td>NaN</td>\n",
       "    </tr>\n",
       "    <tr>\n",
       "      <th>1</th>\n",
       "      <td>126e9dd13932f68</td>\n",
       "      <td>17</td>\n",
       "      <td>0</td>\n",
       "      <td>0</td>\n",
       "      <td>0</td>\n",
       "      <td>0</td>\n",
       "      <td>0.236515</td>\n",
       "      <td>0.02234</td>\n",
       "      <td>0.517413</td>\n",
       "      <td>0.010677</td>\n",
       "      <td>...</td>\n",
       "      <td>NaN</td>\n",
       "      <td>NaN</td>\n",
       "      <td>NaN</td>\n",
       "      <td>NaN</td>\n",
       "      <td>NaN</td>\n",
       "      <td>NaN</td>\n",
       "      <td>NaN</td>\n",
       "      <td>NaN</td>\n",
       "      <td>NaN</td>\n",
       "      <td>NaN</td>\n",
       "    </tr>\n",
       "    <tr>\n",
       "      <th>2</th>\n",
       "      <td>a46b4402a0e5696</td>\n",
       "      <td>8</td>\n",
       "      <td>0</td>\n",
       "      <td>0</td>\n",
       "      <td>0</td>\n",
       "      <td>0</td>\n",
       "      <td>NaN</td>\n",
       "      <td>NaN</td>\n",
       "      <td>NaN</td>\n",
       "      <td>NaN</td>\n",
       "      <td>...</td>\n",
       "      <td>NaN</td>\n",
       "      <td>NaN</td>\n",
       "      <td>NaN</td>\n",
       "      <td>NaN</td>\n",
       "      <td>NaN</td>\n",
       "      <td>NaN</td>\n",
       "      <td>NaN</td>\n",
       "      <td>NaN</td>\n",
       "      <td>NaN</td>\n",
       "      <td>NaN</td>\n",
       "    </tr>\n",
       "    <tr>\n",
       "      <th>3</th>\n",
       "      <td>f7d619a94f97c45</td>\n",
       "      <td>5</td>\n",
       "      <td>0</td>\n",
       "      <td>0</td>\n",
       "      <td>0</td>\n",
       "      <td>0</td>\n",
       "      <td>NaN</td>\n",
       "      <td>NaN</td>\n",
       "      <td>NaN</td>\n",
       "      <td>NaN</td>\n",
       "      <td>...</td>\n",
       "      <td>NaN</td>\n",
       "      <td>NaN</td>\n",
       "      <td>NaN</td>\n",
       "      <td>NaN</td>\n",
       "      <td>NaN</td>\n",
       "      <td>NaN</td>\n",
       "      <td>NaN</td>\n",
       "      <td>NaN</td>\n",
       "      <td>NaN</td>\n",
       "      <td>NaN</td>\n",
       "    </tr>\n",
       "    <tr>\n",
       "      <th>4</th>\n",
       "      <td>d9e41465789c2b5</td>\n",
       "      <td>15</td>\n",
       "      <td>0</td>\n",
       "      <td>0</td>\n",
       "      <td>0</td>\n",
       "      <td>0</td>\n",
       "      <td>NaN</td>\n",
       "      <td>NaN</td>\n",
       "      <td>NaN</td>\n",
       "      <td>NaN</td>\n",
       "      <td>...</td>\n",
       "      <td>NaN</td>\n",
       "      <td>NaN</td>\n",
       "      <td>NaN</td>\n",
       "      <td>NaN</td>\n",
       "      <td>NaN</td>\n",
       "      <td>NaN</td>\n",
       "      <td>NaN</td>\n",
       "      <td>NaN</td>\n",
       "      <td>NaN</td>\n",
       "      <td>NaN</td>\n",
       "    </tr>\n",
       "  </tbody>\n",
       "</table>\n",
       "<p>5 rows × 111 columns</p>\n",
       "</div>"
      ],
      "text/plain": [
       "         PatientID  Patientagequantile  SARSCov2examresult  \\\n",
       "0  44477f75e8169d2                  13                   0   \n",
       "1  126e9dd13932f68                  17                   0   \n",
       "2  a46b4402a0e5696                   8                   0   \n",
       "3  f7d619a94f97c45                   5                   0   \n",
       "4  d9e41465789c2b5                  15                   0   \n",
       "\n",
       "   Patientaddmitedtoregularward(1=yes,0=no)  \\\n",
       "0                                         0   \n",
       "1                                         0   \n",
       "2                                         0   \n",
       "3                                         0   \n",
       "4                                         0   \n",
       "\n",
       "   Patientaddmitedtosemiintensiveunit(1=yes,0=no)  \\\n",
       "0                                               0   \n",
       "1                                               0   \n",
       "2                                               0   \n",
       "3                                               0   \n",
       "4                                               0   \n",
       "\n",
       "   Patientaddmitedtointensivecareunit(1=yes,0=no)  Hematocrit  Hemoglobin  \\\n",
       "0                                               0         NaN         NaN   \n",
       "1                                               0    0.236515     0.02234   \n",
       "2                                               0         NaN         NaN   \n",
       "3                                               0         NaN         NaN   \n",
       "4                                               0         NaN         NaN   \n",
       "\n",
       "   Platelets  Meanplateletvolume  ...  Hbsaturation(arterialbloodgases)  \\\n",
       "0        NaN                 NaN  ...                               NaN   \n",
       "1   0.517413            0.010677  ...                               NaN   \n",
       "2        NaN                 NaN  ...                               NaN   \n",
       "3        NaN                 NaN  ...                               NaN   \n",
       "4        NaN                 NaN  ...                               NaN   \n",
       "\n",
       "   pCO2(arterialbloodgasanalysis)  Baseexcess(arterialbloodgasanalysis)  \\\n",
       "0                             NaN                                   NaN   \n",
       "1                             NaN                                   NaN   \n",
       "2                             NaN                                   NaN   \n",
       "3                             NaN                                   NaN   \n",
       "4                             NaN                                   NaN   \n",
       "\n",
       "   pH(arterialbloodgasanalysis)  TotalCO2(arterialbloodgasanalysis)  \\\n",
       "0                           NaN                                 NaN   \n",
       "1                           NaN                                 NaN   \n",
       "2                           NaN                                 NaN   \n",
       "3                           NaN                                 NaN   \n",
       "4                           NaN                                 NaN   \n",
       "\n",
       "   HCO3(arterialbloodgasanalysis)  pO2(arterialbloodgasanalysis)  \\\n",
       "0                             NaN                            NaN   \n",
       "1                             NaN                            NaN   \n",
       "2                             NaN                            NaN   \n",
       "3                             NaN                            NaN   \n",
       "4                             NaN                            NaN   \n",
       "\n",
       "   ArteiralFio2  Phosphor  ctO2(arterialbloodgasanalysis)  \n",
       "0           NaN       NaN                             NaN  \n",
       "1           NaN       NaN                             NaN  \n",
       "2           NaN       NaN                             NaN  \n",
       "3           NaN       NaN                             NaN  \n",
       "4           NaN       NaN                             NaN  \n",
       "\n",
       "[5 rows x 111 columns]"
      ]
     },
     "execution_count": 11,
     "metadata": {},
     "output_type": "execute_result"
    }
   ],
   "source": [
    "df.head()"
   ]
  },
  {
   "cell_type": "code",
   "execution_count": 12,
   "metadata": {},
   "outputs": [
    {
     "name": "stdout",
     "output_type": "stream",
     "text": [
      "['PatientID', 'Patientagequantile', 'SARSCov2examresult', 'Patientaddmitedtoregularward(1=yes,0=no)', 'Patientaddmitedtosemiintensiveunit(1=yes,0=no)', 'Patientaddmitedtointensivecareunit(1=yes,0=no)', 'Hematocrit', 'Hemoglobin', 'Platelets', 'Meanplateletvolume', 'RedbloodCells', 'Lymphocytes', 'Meancorpuscularhemoglobinconcentration\\xa0(MCHC)', 'Leukocytes', 'Basophils', 'Meancorpuscularhemoglobin(MCH)', 'Eosinophils', 'Meancorpuscularvolume(MCV)', 'Monocytes', 'Redbloodcelldistributionwidth(RDW)', 'SerumGlucose', 'RespiratorySyncytialVirus', 'InfluenzaA', 'InfluenzaB', 'Parainfluenza1', 'CoronavirusNL63', 'Rhinovirus/Enterovirus', 'Mycoplasmapneumoniae', 'CoronavirusHKU1', 'Parainfluenza3', 'Chlamydophilapneumoniae', 'Adenovirus', 'Parainfluenza4', 'Coronavirus229E', 'CoronavirusOC43', 'InfAH1N12009', 'Bordetellapertussis', 'Metapneumovirus', 'Parainfluenza2', 'Neutrophils', 'Urea', 'ProteinaCreativamg/dL', 'Creatinine', 'Potassium', 'Sodium', 'InfluenzaB,rapidtest', 'InfluenzaA,rapidtest', 'Alaninetransaminase', 'Aspartatetransaminase', 'Gammaglutamyltransferase\\xa0', 'TotalBilirubin', 'DirectBilirubin', 'IndirectBilirubin', 'Alkalinephosphatase', 'Ionizedcalcium\\xa0', 'StreptoA', 'Magnesium', 'pCO2(venousbloodgasanalysis)', 'Hbsaturation(venousbloodgasanalysis)', 'Baseexcess(venousbloodgasanalysis)', 'pO2(venousbloodgasanalysis)', 'Fio2(venousbloodgasanalysis)', 'TotalCO2(venousbloodgasanalysis)', 'pH(venousbloodgasanalysis)', 'HCO3(venousbloodgasanalysis)', 'Rods#', 'Segmented', 'Promyelocytes', 'Metamyelocytes', 'Myelocytes', 'Myeloblasts', 'UrineEsterase', 'UrineAspect', 'UrinepH', 'UrineHemoglobin', 'UrineBilepigments', 'UrineKetoneBodies', 'UrineNitrite', 'UrineDensity', 'UrineUrobilinogen', 'UrineProtein', 'UrineSugar', 'UrineLeukocytes', 'UrineCrystals', 'UrineRedbloodcells', 'UrineHyalinecylinders', 'UrineGranularcylinders', 'UrineYeasts', 'UrineColor', 'Partialthromboplastintime\\xa0(PTT)\\xa0', 'Relationship(Patient/1)', 'International1izedratio(INR)', 'LacticDehydrogenase', 'Prothrombintime(PT),Activity', 'VitaminB12', 'Creatinephosphokinase\\xa0(CPK)\\xa0', 'Ferritin', 'ArterialLacticAcid', 'Lipasedosage', 'DDimer', 'Albumin', 'Hbsaturation(arterialbloodgases)', 'pCO2(arterialbloodgasanalysis)', 'Baseexcess(arterialbloodgasanalysis)', 'pH(arterialbloodgasanalysis)', 'TotalCO2(arterialbloodgasanalysis)', 'HCO3(arterialbloodgasanalysis)', 'pO2(arterialbloodgasanalysis)', 'ArteiralFio2', 'Phosphor', 'ctO2(arterialbloodgasanalysis)']\n"
     ]
    }
   ],
   "source": [
    "L1=list(df.columns.values)\n",
    "print(L1)"
   ]
  },
  {
   "cell_type": "code",
   "execution_count": 13,
   "metadata": {},
   "outputs": [],
   "source": [
    "# Use for loop to convert all data types into interger data types for all columns\n",
    "\n",
    "from sklearn.preprocessing import LabelEncoder\n",
    "label_encoders = LabelEncoder()\n",
    "\n",
    "label_encoders = {}\n",
    "categorical_columns = ['SARSCov2examresult','Hemoglobin','Leukocytes','Redbloodcelldistributionwidth(RDW)','ProteinaCreativamg/dL','InfluenzaB,rapidtest','InfluenzaA,rapidtest','TotalBilirubin','DirectBilirubin','IndirectBilirubin','StreptoA','Magnesium','pH(venousbloodgasanalysis)','UrineEsterase','UrineAspect','UrinepH','UrineHemoglobin','UrineBilepigments','UrineKetoneBodies','UrineNitrite','UrineDensity','UrineUrobilinogen','UrineProtein','UrineSugar','UrineLeukocytes','UrineCrystals','UrineRedbloodcells','UrineHyalinecylinders','UrineGranularcylinders','UrineYeasts','UrineColor','Phosphor']\n",
    "\n",
    "for column in categorical_columns:\n",
    "    label_encoders[column] = LabelEncoder()\n",
    "    df[column] = label_encoders[column].fit_transform(df[column])  # if numpy instead of pandas use X[:, column] instead"
   ]
  },
  {
   "cell_type": "code",
   "execution_count": 14,
   "metadata": {},
   "outputs": [],
   "source": [
    "features = df.columns.values"
   ]
  },
  {
   "cell_type": "code",
   "execution_count": 15,
   "metadata": {},
   "outputs": [],
   "source": [
    "from sklearn.preprocessing import StandardScaler\n",
    "x = df.loc[:, features].values\n",
    "# x = StandardScaler().fit_transform(x) # normalizing the features"
   ]
  },
  {
   "cell_type": "code",
   "execution_count": 16,
   "metadata": {},
   "outputs": [],
   "source": [
    "# Preparing x & y as per no of correlated columns \n",
    "\n",
    "import pandas as pd\n",
    "\n",
    "x = df[['Hemoglobin',\n",
    " 'Leukocytes',\n",
    " 'Redbloodcelldistributionwidth(RDW)',\n",
    " 'ProteinaCreativamg/dL',\n",
    " 'InfluenzaB,rapidtest',\n",
    " 'InfluenzaA,rapidtest',\n",
    " 'TotalBilirubin',\n",
    " 'DirectBilirubin',\n",
    " 'IndirectBilirubin',\n",
    " 'StreptoA',\n",
    " 'Magnesium',\n",
    " 'pH(venousbloodgasanalysis)',\n",
    " 'UrineEsterase',\n",
    " 'UrineAspect',\n",
    " 'UrinepH',\n",
    " 'UrineHemoglobin',\n",
    " 'UrineBilepigments',\n",
    " 'UrineKetoneBodies',\n",
    " 'UrineNitrite',\n",
    " 'UrineDensity',\n",
    " 'UrineUrobilinogen',\n",
    " 'UrineProtein',\n",
    " 'UrineSugar',\n",
    " 'UrineLeukocytes',\n",
    " 'UrineCrystals',\n",
    " 'UrineRedbloodcells',\n",
    " 'UrineHyalinecylinders',\n",
    " 'UrineGranularcylinders',\n",
    " 'UrineYeasts',\n",
    " 'UrineColor',\n",
    " 'Phosphor']]\n",
    "\n",
    "y = df.SARSCov2examresult        # y is a vector, hence we use dot to access 'label'\n"
   ]
  },
  {
   "cell_type": "code",
   "execution_count": 17,
   "metadata": {},
   "outputs": [
    {
     "name": "stdout",
     "output_type": "stream",
     "text": [
      "<class 'pandas.core.frame.DataFrame'>\n",
      "(5644, 31)\n"
     ]
    }
   ],
   "source": [
    "print(type(x))\n",
    "print(x.shape)"
   ]
  },
  {
   "cell_type": "code",
   "execution_count": 18,
   "metadata": {},
   "outputs": [
    {
     "name": "stdout",
     "output_type": "stream",
     "text": [
      "<class 'pandas.core.series.Series'>\n",
      "(5644,)\n"
     ]
    }
   ],
   "source": [
    "print(type(y))\n",
    "print(y.shape)"
   ]
  },
  {
   "cell_type": "code",
   "execution_count": 19,
   "metadata": {},
   "outputs": [
    {
     "data": {
      "text/plain": [
       "(5644, 31)"
      ]
     },
     "execution_count": 19,
     "metadata": {},
     "output_type": "execute_result"
    }
   ],
   "source": [
    "x.shape"
   ]
  },
  {
   "cell_type": "code",
   "execution_count": 20,
   "metadata": {},
   "outputs": [
    {
     "data": {
      "text/plain": [
       "(Hemoglobin                            2328.343019\n",
       " Leukocytes                            2699.846208\n",
       " Redbloodcelldistributionwidth(RDW)    2307.613572\n",
       " ProteinaCreativamg/dL                 2592.265060\n",
       " InfluenzaB,rapidtest                  2062.858434\n",
       " InfluenzaA,rapidtest                  2062.858965\n",
       " TotalBilirubin                        2660.959072\n",
       " DirectBilirubin                       2652.177534\n",
       " IndirectBilirubin                     2652.194543\n",
       " StreptoA                              2501.182495\n",
       " Magnesium                             2790.598866\n",
       " pH(venousbloodgasanalysis)            2774.930014\n",
       " UrineEsterase                         2762.813607\n",
       " UrineAspect                           2755.904855\n",
       " UrinepH                               2759.865521\n",
       " UrineHemoglobin                       2753.918320\n",
       " UrineBilepigments                     2752.927888\n",
       " UrineKetoneBodies                     2765.782778\n",
       " UrineNitrite                          2821.500000\n",
       " UrineDensity                          2775.752658\n",
       " UrineUrobilinogen                     2754.915485\n",
       " UrineProtein                          2762.813607\n",
       " UrineSugar                            2821.500000\n",
       " UrineLeukocytes                       2782.674699\n",
       " UrineCrystals                         2756.880227\n",
       " UrineRedbloodcells                    2783.797307\n",
       " UrineHyalinecylinders                 2755.891743\n",
       " UrineGranularcylinders                2753.915663\n",
       " UrineYeasts                           2752.927888\n",
       " UrineColor                            2753.915663\n",
       " Phosphor                              2817.505670\n",
       " dtype: float64,\n",
       " Hemoglobin                            1589.549180\n",
       " Leukocytes                            1620.649838\n",
       " Redbloodcelldistributionwidth(RDW)    1587.704425\n",
       " ProteinaCreativamg/dL                 1610.580668\n",
       " InfluenzaB,rapidtest                  1542.985195\n",
       " InfluenzaA,rapidtest                  1542.984485\n",
       " TotalBilirubin                        1625.183869\n",
       " DirectBilirubin                       1624.826999\n",
       " IndirectBilirubin                     1624.799260\n",
       " StreptoA                              1613.718546\n",
       " Magnesium                             1629.112539\n",
       " pH(venousbloodgasanalysis)            1628.550773\n",
       " UrineEsterase                         1628.746767\n",
       " UrineAspect                           1628.592208\n",
       " UrinepH                               1628.658790\n",
       " UrineHemoglobin                       1628.569435\n",
       " UrineBilepigments                     1628.553259\n",
       " UrineKetoneBodies                     1628.799089\n",
       " UrineNitrite                          1629.282434\n",
       " UrineDensity                          1628.850369\n",
       " UrineUrobilinogen                     1628.574228\n",
       " UrineProtein                          1628.746767\n",
       " UrineSugar                            1629.282434\n",
       " UrineLeukocytes                       1628.983051\n",
       " UrineCrystals                         1628.633881\n",
       " UrineRedbloodcells                    1628.774644\n",
       " UrineHyalinecylinders                 1628.614390\n",
       " UrineGranularcylinders                1628.573929\n",
       " UrineYeasts                           1628.553259\n",
       " UrineColor                            1628.573929\n",
       " Phosphor                              1629.272637\n",
       " dtype: float64)"
      ]
     },
     "execution_count": 20,
     "metadata": {},
     "output_type": "execute_result"
    }
   ],
   "source": [
    "import numpy as np\n",
    "np.mean(x),np.std(x)"
   ]
  },
  {
   "cell_type": "code",
   "execution_count": 21,
   "metadata": {},
   "outputs": [],
   "source": [
    "Applying Principle component Analysis as no of columns in dataset are more than 100\n",
    "\n",
    "from sklearn.decomposition import PCA\n",
    "pca_df = PCA(n_components=2)\n",
    "# principalComponents_df = pca_df.fit_transform(x)"
   ]
  },
  {
   "cell_type": "code",
   "execution_count": 22,
   "metadata": {},
   "outputs": [],
   "source": [
    "principal_Df = pd.DataFrame(data = df , columns = ['principalcomponent1', 'principalcomponent2'])"
   ]
  },
  {
   "cell_type": "code",
   "execution_count": 23,
   "metadata": {},
   "outputs": [
    {
     "data": {
      "text/html": [
       "<div>\n",
       "<style scoped>\n",
       "    .dataframe tbody tr th:only-of-type {\n",
       "        vertical-align: middle;\n",
       "    }\n",
       "\n",
       "    .dataframe tbody tr th {\n",
       "        vertical-align: top;\n",
       "    }\n",
       "\n",
       "    .dataframe thead th {\n",
       "        text-align: right;\n",
       "    }\n",
       "</style>\n",
       "<table border=\"1\" class=\"dataframe\">\n",
       "  <thead>\n",
       "    <tr style=\"text-align: right;\">\n",
       "      <th></th>\n",
       "      <th>principalcomponent1</th>\n",
       "      <th>principalcomponent2</th>\n",
       "    </tr>\n",
       "  </thead>\n",
       "  <tbody>\n",
       "    <tr>\n",
       "      <th>5639</th>\n",
       "      <td>NaN</td>\n",
       "      <td>NaN</td>\n",
       "    </tr>\n",
       "    <tr>\n",
       "      <th>5640</th>\n",
       "      <td>NaN</td>\n",
       "      <td>NaN</td>\n",
       "    </tr>\n",
       "    <tr>\n",
       "      <th>5641</th>\n",
       "      <td>NaN</td>\n",
       "      <td>NaN</td>\n",
       "    </tr>\n",
       "    <tr>\n",
       "      <th>5642</th>\n",
       "      <td>NaN</td>\n",
       "      <td>NaN</td>\n",
       "    </tr>\n",
       "    <tr>\n",
       "      <th>5643</th>\n",
       "      <td>NaN</td>\n",
       "      <td>NaN</td>\n",
       "    </tr>\n",
       "  </tbody>\n",
       "</table>\n",
       "</div>"
      ],
      "text/plain": [
       "      principalcomponent1  principalcomponent2\n",
       "5639                  NaN                  NaN\n",
       "5640                  NaN                  NaN\n",
       "5641                  NaN                  NaN\n",
       "5642                  NaN                  NaN\n",
       "5643                  NaN                  NaN"
      ]
     },
     "execution_count": 23,
     "metadata": {},
     "output_type": "execute_result"
    }
   ],
   "source": [
    "principal_Df.tail()"
   ]
  },
  {
   "cell_type": "code",
   "execution_count": 24,
   "metadata": {},
   "outputs": [],
   "source": [
    "# replace NaN values\n",
    "import numpy as np\n",
    "\n",
    "principal_Df['principalcomponent1'].replace(np.NaN , principal_Df['principalcomponent1'].mean,inplace=True)\n",
    "principal_Df['principalcomponent2'].replace(np.NaN , principal_Df['principalcomponent2'].mean,inplace=True)"
   ]
  },
  {
   "cell_type": "code",
   "execution_count": 25,
   "metadata": {},
   "outputs": [],
   "source": [
    "targets=df['SARSCov2examresult']"
   ]
  },
  {
   "cell_type": "code",
   "execution_count": 27,
   "metadata": {},
   "outputs": [
    {
     "data": {
      "text/plain": [
       "<matplotlib.legend.Legend at 0x2510ba10b48>"
      ]
     },
     "execution_count": 27,
     "metadata": {},
     "output_type": "execute_result"
    },
    {
     "data": {
      "image/png": "[encoded data removed]",
      "text/plain": [
       "<Figure size 720x720 with 1 Axes>"
      ]
     },
     "metadata": {
      "needs_background": "light"
     },
     "output_type": "display_data"
    }
   ],
   "source": [
    "plt.figure(figsize=(10,10))\n",
    "plt.xticks(fontsize=12)\n",
    "plt.yticks(fontsize=14)\n",
    "plt.xlabel('principalcomponent1',fontsize=20)\n",
    "plt.ylabel('principalcomponent2',fontsize=20)\n",
    "plt.title(\"Principal Component Analysis of covid Dataset\",fontsize=20)\n",
    "targets = ['1', '0']\n",
    "colors = ['g', 'r']\n",
    "for targets, color in zip(targets,colors):\n",
    "    indicesToKeep = df['SARSCov2examresult'] == targets\n",
    "    plt.scatter(principal_Df.loc[indicesToKeep, 'principalcomponent1']\n",
    "               , principal_Df.loc[indicesToKeep, 'principalcomponent2'], c = color, s = 100)\n",
    "\n",
    "plt.legend(targets,prop={'size': 25})"
   ]
  },
  {
   "cell_type": "code",
   "execution_count": 28,
   "metadata": {},
   "outputs": [
    {
     "name": "stdout",
     "output_type": "stream",
     "text": [
      "SARSCov2examresult\n",
      "0    5086\n",
      "1     558\n",
      "dtype: int64\n"
     ]
    }
   ],
   "source": [
    "# class distribution of target \n",
    "print(df.groupby('SARSCov2examresult').size())"
   ]
  },
  {
   "cell_type": "markdown",
   "metadata": {},
   "source": [
    "Covid19 positive cases are 9% & negative cases are 91%."
   ]
  },
  {
   "cell_type": "code",
   "execution_count": 29,
   "metadata": {},
   "outputs": [
    {
     "data": {
      "text/plain": [
       "<matplotlib.axes._subplots.AxesSubplot at 0x2510b885148>"
      ]
     },
     "execution_count": 29,
     "metadata": {},
     "output_type": "execute_result"
    },
    {
     "data": {
      "image/png": "[encoded data removed]",
      "text/plain": [
       "<Figure size 432x288 with 2 Axes>"
      ]
     },
     "metadata": {
      "needs_background": "light"
     },
     "output_type": "display_data"
    }
   ],
   "source": [
    "# checking correlation using heatmap\n",
    "dfcor=df.corr()\n",
    "sns.heatmap(dfcor)"
   ]
  },
  {
   "cell_type": "code",
   "execution_count": 30,
   "metadata": {},
   "outputs": [],
   "source": [
    "import pandas as pd\n",
    "\n",
    "x = df[['Hemoglobin','Leukocytes','Redbloodcelldistributionwidth(RDW)','ProteinaCreativamg/dL','InfluenzaB,rapidtest','InfluenzaA,rapidtest','TotalBilirubin','DirectBilirubin','IndirectBilirubin','StreptoA','Magnesium','pH(venousbloodgasanalysis)','UrineEsterase','UrineAspect','UrinepH','UrineHemoglobin','UrineBilepigments','UrineKetoneBodies','UrineNitrite','UrineDensity','UrineUrobilinogen','UrineProtein','UrineSugar','UrineLeukocytes','UrineCrystals','UrineRedbloodcells','UrineHyalinecylinders','UrineGranularcylinders','UrineYeasts','UrineColor','Phosphor']]\n",
    "    \n",
    "y = df.SARSCov2examresult"
   ]
  },
  {
   "cell_type": "code",
   "execution_count": 31,
   "metadata": {},
   "outputs": [
    {
     "name": "stdout",
     "output_type": "stream",
     "text": [
      "(3950, 31)\n",
      "(1694, 31)\n",
      "(3950,)\n",
      "(1694,)\n"
     ]
    }
   ],
   "source": [
    "# Splitting X and y into training and testing sets\n",
    "\n",
    "from sklearn.model_selection import train_test_split\n",
    "x_train, x_test, y_train, y_test = train_test_split(x, y, random_state=45, test_size=0.30)\n",
    "\n",
    "# default split is 75% for training and 25% for testing\n",
    "print(x_train.shape)\n",
    "print(x_test.shape)\n",
    "print(y_train.shape)\n",
    "print(y_test.shape)"
   ]
  },
  {
   "cell_type": "code",
   "execution_count": 32,
   "metadata": {},
   "outputs": [
    {
     "data": {
      "text/plain": [
       "(Hemoglobin                            0\n",
       " Leukocytes                            0\n",
       " Redbloodcelldistributionwidth(RDW)    0\n",
       " ProteinaCreativamg/dL                 0\n",
       " InfluenzaB,rapidtest                  0\n",
       " InfluenzaA,rapidtest                  0\n",
       " TotalBilirubin                        0\n",
       " DirectBilirubin                       0\n",
       " IndirectBilirubin                     0\n",
       " StreptoA                              0\n",
       " Magnesium                             0\n",
       " pH(venousbloodgasanalysis)            0\n",
       " UrineEsterase                         0\n",
       " UrineAspect                           0\n",
       " UrinepH                               0\n",
       " UrineHemoglobin                       0\n",
       " UrineBilepigments                     0\n",
       " UrineKetoneBodies                     0\n",
       " UrineNitrite                          0\n",
       " UrineDensity                          0\n",
       " UrineUrobilinogen                     0\n",
       " UrineProtein                          0\n",
       " UrineSugar                            0\n",
       " UrineLeukocytes                       0\n",
       " UrineCrystals                         0\n",
       " UrineRedbloodcells                    0\n",
       " UrineHyalinecylinders                 0\n",
       " UrineGranularcylinders                0\n",
       " UrineYeasts                           0\n",
       " UrineColor                            0\n",
       " Phosphor                              0\n",
       " dtype: int64,\n",
       " Hemoglobin                            5123\n",
       " Leukocytes                            5515\n",
       " Redbloodcelldistributionwidth(RDW)    5101\n",
       " ProteinaCreativamg/dL                 5401\n",
       " InfluenzaB,rapidtest                  4825\n",
       " InfluenzaA,rapidtest                  4825\n",
       " TotalBilirubin                        5479\n",
       " DirectBilirubin                       5470\n",
       " IndirectBilirubin                     5470\n",
       " StreptoA                              5313\n",
       " Magnesium                             5612\n",
       " pH(venousbloodgasanalysis)            5596\n",
       " UrineEsterase                         5584\n",
       " UrineAspect                           5577\n",
       " UrinepH                               5581\n",
       " UrineHemoglobin                       5575\n",
       " UrineBilepigments                     5574\n",
       " UrineKetoneBodies                     5587\n",
       " UrineNitrite                          5643\n",
       " UrineDensity                          5597\n",
       " UrineUrobilinogen                     5576\n",
       " UrineProtein                          5584\n",
       " UrineSugar                            5643\n",
       " UrineLeukocytes                       5604\n",
       " UrineCrystals                         5578\n",
       " UrineRedbloodcells                    5605\n",
       " UrineHyalinecylinders                 5577\n",
       " UrineGranularcylinders                5575\n",
       " UrineYeasts                           5574\n",
       " UrineColor                            5575\n",
       " Phosphor                              5639\n",
       " dtype: int64)"
      ]
     },
     "execution_count": 32,
     "metadata": {},
     "output_type": "execute_result"
    }
   ],
   "source": [
    "np.min(x_train),np.max(x_train)"
   ]
  },
  {
   "cell_type": "code",
   "execution_count": 33,
   "metadata": {},
   "outputs": [
    {
     "data": {
      "text/plain": [
       "(0, 1)"
      ]
     },
     "execution_count": 33,
     "metadata": {},
     "output_type": "execute_result"
    }
   ],
   "source": [
    "np.min(y_train),np.max(y_train)"
   ]
  },
  {
   "cell_type": "markdown",
   "metadata": {},
   "source": [
    "# Apply Classification algorithm as target values are categorical in to positive(0) & negative(0)\n",
    "Train/Test this dataset for all possible classificxation algorithms "
   ]
  },
  {
   "cell_type": "code",
   "execution_count": 34,
   "metadata": {},
   "outputs": [
    {
     "name": "stdout",
     "output_type": "stream",
     "text": [
      "0.8813459268004723\n",
      "[[1468   50]\n",
      " [ 151   25]]\n",
      "              precision    recall  f1-score   support\n",
      "\n",
      "           0       0.91      0.97      0.94      1518\n",
      "           1       0.33      0.14      0.20       176\n",
      "\n",
      "    accuracy                           0.88      1694\n",
      "   macro avg       0.62      0.55      0.57      1694\n",
      "weighted avg       0.85      0.88      0.86      1694\n",
      "\n"
     ]
    }
   ],
   "source": [
    "# k=10\n",
    "dtc=KNeighborsClassifier()\n",
    "dtc.fit(x_train,y_train)\n",
    "dtc.score(x_train,y_train)\n",
    "preddtc=dtc.predict(x_test)\n",
    "print(accuracy_score(y_test,preddtc))\n",
    "print(confusion_matrix(y_test,preddtc))\n",
    "print(classification_report(y_test,preddtc))"
   ]
  },
  {
   "cell_type": "code",
   "execution_count": 35,
   "metadata": {},
   "outputs": [],
   "source": [
    "# Load libraries\n",
    "\n",
    "from pandas import read_csv\n",
    "from sklearn.model_selection import train_test_split\n",
    "from sklearn.model_selection import cross_val_score\n",
    "from sklearn.metrics import classification_report\n",
    "from sklearn.metrics import confusion_matrix\n",
    "from sklearn.metrics import accuracy_score\n",
    "from sklearn.linear_model import LogisticRegression\n",
    "from sklearn.tree import DecisionTreeClassifier\n",
    "from sklearn.neighbors import KNeighborsClassifier\n",
    "from sklearn.discriminant_analysis import LinearDiscriminantAnalysis\n",
    "from sklearn.naive_bayes import GaussianNB\n",
    "from sklearn.svm import SVC"
   ]
  },
  {
   "cell_type": "code",
   "execution_count": 36,
   "metadata": {},
   "outputs": [
    {
     "name": "stdout",
     "output_type": "stream",
     "text": [
      "GridSearchCV(cv=None, error_score=nan,\n",
      "             estimator=Ridge(alpha=1.0, copy_X=True, fit_intercept=True,\n",
      "                             max_iter=None, normalize=False, random_state=None,\n",
      "                             solver='auto', tol=0.001),\n",
      "             iid='deprecated', n_jobs=None,\n",
      "             param_grid={'alpha': array([1.e+00, 1.e-01, 1.e-02, 1.e-03, 1.e-04, 0.e+00])},\n",
      "             pre_dispatch='2*n_jobs', refit=True, return_train_score=False,\n",
      "             scoring=None, verbose=0)\n",
      "0.008000121975741892\n",
      "1.0\n"
     ]
    }
   ],
   "source": [
    "# Grid Search for Algorithm Tuning\n",
    "\n",
    "import numpy as np\n",
    "from sklearn import datasets\n",
    "from sklearn.linear_model import Ridge\n",
    "from sklearn.model_selection import GridSearchCV\n",
    "\n",
    "# load the diabetes datasets\n",
    "dataset = df\n",
    "\n",
    "# prepare a range of alpha values to test\n",
    "alphas = np.array([1,0.1,0.01,0.001,0.0001,0])\n",
    "\n",
    "# create and fit a ridge regression model, testing each alpha\n",
    "model = Ridge()\n",
    "grid = GridSearchCV(estimator=model, param_grid=dict(alpha=alphas))\n",
    "grid.fit(x_train, y_train)    \n",
    "print(grid)\n",
    "\n",
    "# summarize the results of the grid search\n",
    "print(grid.best_score_)\n",
    "print(grid.best_estimator_.alpha)"
   ]
  },
  {
   "cell_type": "code",
   "execution_count": 37,
   "metadata": {},
   "outputs": [
    {
     "name": "stdout",
     "output_type": "stream",
     "text": [
      "RandomizedSearchCV(cv=None, error_score=nan,\n",
      "                   estimator=Ridge(alpha=1.0, copy_X=True, fit_intercept=True,\n",
      "                                   max_iter=None, normalize=False,\n",
      "                                   random_state=None, solver='auto',\n",
      "                                   tol=0.001),\n",
      "                   iid='deprecated', n_iter=100, n_jobs=None,\n",
      "                   param_distributions={'alpha': <scipy.stats._distn_infrastructure.rv_frozen object at 0x000002510BA15588>},\n",
      "                   pre_dispatch='2*n_jobs', random_state=None, refit=True,\n",
      "                   return_train_score=False, scoring=None, verbose=0)\n",
      "0.008000051413368191\n",
      "0.9875271625284501\n"
     ]
    }
   ],
   "source": [
    "# Randomized Search for Algorithm Tuning\n",
    "\n",
    "import numpy as np\n",
    "from scipy.stats import uniform as sp_rand\n",
    "from sklearn import datasets\n",
    "from sklearn.linear_model import Ridge\n",
    "from sklearn.model_selection import RandomizedSearchCV\n",
    "\n",
    "# load the diabetes datasets\n",
    "dataset = df\n",
    "\n",
    "# prepare a uniform distribution to sample for the alpha parameter\n",
    "param_grid = {'alpha': sp_rand()}\n",
    "\n",
    "# create and fit a ridge regression model, testing random alpha values\n",
    "model = Ridge()\n",
    "rsearch = RandomizedSearchCV(estimator=model, param_distributions=param_grid, n_iter=100)\n",
    "rsearch.fit(x_train, y_train) \n",
    "print(rsearch)\n",
    "\n",
    "# summarize the results of the random parameter search\n",
    "print(rsearch.best_score_)\n",
    "print(rsearch.best_estimator_.alpha)"
   ]
  },
  {
   "cell_type": "code",
   "execution_count": 38,
   "metadata": {},
   "outputs": [
    {
     "name": "stdout",
     "output_type": "stream",
     "text": [
      "LR: 0.900253 (0.002025)\n",
      "LDA: 0.897468 (0.005095)\n",
      "KNN: 0.894177 (0.008608)\n",
      "CART: 0.840506 (0.016524)\n",
      "NB: 0.556709 (0.026466)\n",
      "SVM: 0.903291 (0.001013)\n"
     ]
    }
   ],
   "source": [
    "# Spot Check Algorithms\n",
    "\n",
    "models = []\n",
    "models.append(('LR', LogisticRegression(solver='liblinear', multi_class='ovr')))\n",
    "models.append(('LDA', LinearDiscriminantAnalysis()))\n",
    "models.append(('KNN', KNeighborsClassifier()))\n",
    "models.append(('CART', DecisionTreeClassifier()))\n",
    "models.append(('NB', GaussianNB()))\n",
    "models.append(('SVM', SVC(gamma='auto')))\n",
    "# evaluate each model in turn\n",
    "results = []\n",
    "names = []\n",
    "for name, model in models:    \n",
    "    kfold = StratifiedKFold(n_splits=10, random_state=42, shuffle=True)\n",
    "    cv_results = cross_val_score(model, x_train, y_train, cv=kfold, scoring='accuracy')\n",
    "    results.append(cv_results)\n",
    "    names.append(name)\n",
    "    print('%s: %f (%f)' % (name, cv_results.mean(), cv_results.std()))"
   ]
  },
  {
   "cell_type": "code",
   "execution_count": 39,
   "metadata": {},
   "outputs": [],
   "source": [
    "# Import required libraries \n",
    "\n",
    "import seaborn as sb\n",
    "from sklearn.naive_bayes import MultinomialNB\n",
    "from sklearn.svm import SVC\n",
    "from sklearn.tree import DecisionTreeClassifier\n",
    "from sklearn.neighbors import KNeighborsClassifier\n",
    "\n",
    "# From sklearn matrics import accuracy_score,confusion_matrix,classification_reports\n",
    "# Cross validation Libraries\n",
    "from sklearn.model_selection import cross_val_score\n",
    "from sklearn.model_selection import cross_val_predict\n",
    "from sklearn.metrics import confusion_matrix\n",
    "\n",
    "import warnings\n",
    "warnings.filterwarnings('ignore')"
   ]
  },
  {
   "cell_type": "code",
   "execution_count": 40,
   "metadata": {},
   "outputs": [
    {
     "name": "stdout",
     "output_type": "stream",
     "text": [
      "accuracy score= [0.90106007 0.90106007 0.90106007 0.90106007 0.90425532 0.90425532\n",
      " 0.90070922 0.90070922 0.90070922 0.90070922 0.90070922 0.90070922\n",
      " 0.90070922 0.90070922 0.90070922 0.90070922 0.90070922 0.90070922\n",
      " 0.90070922 0.90070922]\n",
      "mean scores <built-in method mean of numpy.ndarray object at 0x000002510D676DF0>\n",
      "std 0.0010496014244994066\n",
      "Y prediction values\n",
      "[0 0 0 ... 0 0 0]\n"
     ]
    },
    {
     "data": {
      "text/plain": [
       "0.9011339475549256"
      ]
     },
     "execution_count": 40,
     "metadata": {},
     "output_type": "execute_result"
    }
   ],
   "source": [
    "# scoring parameters for classification\n",
    "# scoring =[accuracy,f1,f1_micro,f1_macro,roc_auc]\n",
    "# scoring =[r2,neg_mean_squared_error,explained_variance]\n",
    "\n",
    "sv=SVC()\n",
    "score=cross_val_score(sv,x,y,cv=20,scoring='accuracy')\n",
    "print('accuracy score=',score)\n",
    "print ('mean scores',score.mean)\n",
    "print('std',score.std())\n",
    "y_pred = cross_val_predict(sv,x,y,cv=20)\n",
    "\n",
    "print('Y prediction values')\n",
    "print(y_pred)\n",
    "\n",
    "conf_mat = confusion_matrix(y,y_pred)\n",
    "conf_mat\n",
    "\n",
    "from sklearn.metrics import accuracy_score\n",
    "accuracy_score(y,y_pred)"
   ]
  },
  {
   "cell_type": "code",
   "execution_count": 41,
   "metadata": {},
   "outputs": [
    {
     "name": "stdout",
     "output_type": "stream",
     "text": [
      "accuracy score: [0.90079717 0.18246236 0.2081488  0.05757307 0.22960993]\n",
      "mean score: 0.3157182657093141\n",
      "stn deviation: 0.2985629687415466\n",
      "Y prediction values\n",
      "[0 0 0 ... 1 0 0]\n",
      "y_pred.shape (5644,)\n"
     ]
    },
    {
     "data": {
      "text/plain": [
       "0.3157335223245925"
      ]
     },
     "execution_count": 41,
     "metadata": {},
     "output_type": "execute_result"
    }
   ],
   "source": [
    "knn=KNeighborsClassifier()\n",
    "score=cross_val_score(knn,x,y,cv=5,scoring='accuracy')\n",
    "\n",
    "print('accuracy score:',score)\n",
    "print('mean score:',score.mean())\n",
    "print('stn deviation:',score.std())\n",
    "\n",
    "y_pred = cross_val_predict(knn, x, y, cv=5)\n",
    "\n",
    "print('Y prediction values')\n",
    "print(y_pred)\n",
    "\n",
    "print(\"y_pred.shape\",y_pred.shape)\n",
    "\n",
    "conf_mat = confusion_matrix(y, y_pred)\n",
    "conf_mat\n",
    "\n",
    "from sklearn.metrics import accuracy_score\n",
    "accuracy_score(y,y_pred)"
   ]
  },
  {
   "cell_type": "code",
   "execution_count": 51,
   "metadata": {},
   "outputs": [
    {
     "name": "stdout",
     "output_type": "stream",
     "text": [
      "[0.90168291 0.62001771 0.90079717 0.53941541 0.90159574]\n"
     ]
    }
   ],
   "source": [
    "from sklearn.externals import joblib \n",
    "from sklearn.neighbors import KNeighborsClassifier\n",
    "from sklearn.svm import SVC\n",
    "\n",
    "score=cross_val_score(sv,x,y,cv=5,scoring='accuracy') # Calculate the accuracy and predictions\n",
    "\n",
    "joblib_file = \"joblib_sv.pkl\"             # Save to file in the current working directory\n",
    "joblib.dump(sv, joblib_file)\n",
    "joblib_sv = joblib.load(joblib_file)      # Load from file\n",
    "\n",
    "print(score)  "
   ]
  },
  {
   "cell_type": "markdown",
   "metadata": {},
   "source": [
    "Conclusion-COVID19 Brazil dataset gives best accuracy & test score for classification model i.e Support Vector Machine\n",
    "Test Score - 90%\n",
    "Accuracy Score - 90%\n",
    "Number of positive cases in Brazil are only 9% % negative cases are 91 % affected by COVID19. "
   ]
  }
 ],
 "metadata": {
  "kernelspec": {
   "display_name": "Python 3",
   "language": "python",
   "name": "python3"
  },
  "language_info": {
   "codemirror_mode": {
    "name": "ipython",
    "version": 3
   },
   "file_extension": ".py",
   "mimetype": "text/x-python",
   "name": "python",
   "nbconvert_exporter": "python",
   "pygments_lexer": "ipython3",
   "version": "3.7.6"
  }
 },
 "nbformat": 4,
 "nbformat_minor": 4
}
