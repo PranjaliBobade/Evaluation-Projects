{
 "cells": [
  {
   "cell_type": "code",
   "execution_count": 1,
   "metadata": {},
   "outputs": [],
   "source": [
    "#Import all required libraries as below\n",
    "\n",
    "import pandas as pd\n",
    "from sklearn import preprocessing\n",
    "from matplotlib import pyplot as plt\n",
    "from sklearn.model_selection import train_test_split\n",
    "\n",
    "from sklearn.model_selection import StratifiedKFold\n",
    "from sklearn.metrics import classification_report\n",
    "from sklearn.metrics import confusion_matrix\n",
    "from sklearn.metrics import accuracy_score\n",
    "from sklearn.linear_model import LogisticRegression\n",
    "from sklearn.tree import DecisionTreeClassifier\n",
    "from sklearn.neighbors import KNeighborsClassifier\n",
    "from sklearn.discriminant_analysis import LinearDiscriminantAnalysis\n",
    "from sklearn.naive_bayes import GaussianNB\n",
    "from sklearn.svm import SVC\n",
    "\n",
    "import seaborn as sns\n",
    "import warnings\n",
    "warnings.filterwarnings('ignore')"
   ]
  },
  {
   "cell_type": "code",
   "execution_count": 2,
   "metadata": {},
   "outputs": [
    {
     "data": {
      "text/html": [
       "<div>\n",
       "<style scoped>\n",
       "    .dataframe tbody tr th:only-of-type {\n",
       "        vertical-align: middle;\n",
       "    }\n",
       "\n",
       "    .dataframe tbody tr th {\n",
       "        vertical-align: top;\n",
       "    }\n",
       "\n",
       "    .dataframe thead th {\n",
       "        text-align: right;\n",
       "    }\n",
       "</style>\n",
       "<table border=\"1\" class=\"dataframe\">\n",
       "  <thead>\n",
       "    <tr style=\"text-align: right;\">\n",
       "      <th></th>\n",
       "      <th>ID</th>\n",
       "      <th>Reasonforabsence</th>\n",
       "      <th>Monthofabsence</th>\n",
       "      <th>Dayoftheweek</th>\n",
       "      <th>Seasons</th>\n",
       "      <th>Transportationexpense</th>\n",
       "      <th>DistancefromResidencetoWork</th>\n",
       "      <th>Servicetime</th>\n",
       "      <th>Age</th>\n",
       "      <th>WorkloadAverage/day</th>\n",
       "      <th>...</th>\n",
       "      <th>Disciplinaryfailure</th>\n",
       "      <th>Education</th>\n",
       "      <th>Son</th>\n",
       "      <th>Socialdrinker</th>\n",
       "      <th>Socialsmoker</th>\n",
       "      <th>Pet</th>\n",
       "      <th>Weight</th>\n",
       "      <th>Height</th>\n",
       "      <th>Bodymassindex</th>\n",
       "      <th>Absenteeismtimeinhours</th>\n",
       "    </tr>\n",
       "  </thead>\n",
       "  <tbody>\n",
       "    <tr>\n",
       "      <th>0</th>\n",
       "      <td>11</td>\n",
       "      <td>26</td>\n",
       "      <td>7</td>\n",
       "      <td>3</td>\n",
       "      <td>1</td>\n",
       "      <td>289</td>\n",
       "      <td>36</td>\n",
       "      <td>13</td>\n",
       "      <td>33</td>\n",
       "      <td>239554</td>\n",
       "      <td>...</td>\n",
       "      <td>1</td>\n",
       "      <td>1</td>\n",
       "      <td>2</td>\n",
       "      <td>1</td>\n",
       "      <td>1</td>\n",
       "      <td>1</td>\n",
       "      <td>90</td>\n",
       "      <td>172</td>\n",
       "      <td>30</td>\n",
       "      <td>4</td>\n",
       "    </tr>\n",
       "    <tr>\n",
       "      <th>1</th>\n",
       "      <td>36</td>\n",
       "      <td>20</td>\n",
       "      <td>7</td>\n",
       "      <td>3</td>\n",
       "      <td>1</td>\n",
       "      <td>118</td>\n",
       "      <td>13</td>\n",
       "      <td>18</td>\n",
       "      <td>50</td>\n",
       "      <td>239554</td>\n",
       "      <td>...</td>\n",
       "      <td>1</td>\n",
       "      <td>1</td>\n",
       "      <td>1</td>\n",
       "      <td>1</td>\n",
       "      <td>1</td>\n",
       "      <td>1</td>\n",
       "      <td>98</td>\n",
       "      <td>178</td>\n",
       "      <td>31</td>\n",
       "      <td>7</td>\n",
       "    </tr>\n",
       "    <tr>\n",
       "      <th>2</th>\n",
       "      <td>3</td>\n",
       "      <td>23</td>\n",
       "      <td>7</td>\n",
       "      <td>4</td>\n",
       "      <td>1</td>\n",
       "      <td>179</td>\n",
       "      <td>51</td>\n",
       "      <td>18</td>\n",
       "      <td>38</td>\n",
       "      <td>239554</td>\n",
       "      <td>...</td>\n",
       "      <td>1</td>\n",
       "      <td>1</td>\n",
       "      <td>1</td>\n",
       "      <td>1</td>\n",
       "      <td>1</td>\n",
       "      <td>1</td>\n",
       "      <td>89</td>\n",
       "      <td>170</td>\n",
       "      <td>31</td>\n",
       "      <td>2</td>\n",
       "    </tr>\n",
       "    <tr>\n",
       "      <th>3</th>\n",
       "      <td>7</td>\n",
       "      <td>7</td>\n",
       "      <td>7</td>\n",
       "      <td>5</td>\n",
       "      <td>1</td>\n",
       "      <td>279</td>\n",
       "      <td>5</td>\n",
       "      <td>14</td>\n",
       "      <td>39</td>\n",
       "      <td>239554</td>\n",
       "      <td>...</td>\n",
       "      <td>1</td>\n",
       "      <td>1</td>\n",
       "      <td>2</td>\n",
       "      <td>1</td>\n",
       "      <td>1</td>\n",
       "      <td>1</td>\n",
       "      <td>68</td>\n",
       "      <td>168</td>\n",
       "      <td>24</td>\n",
       "      <td>4</td>\n",
       "    </tr>\n",
       "    <tr>\n",
       "      <th>4</th>\n",
       "      <td>11</td>\n",
       "      <td>23</td>\n",
       "      <td>7</td>\n",
       "      <td>5</td>\n",
       "      <td>1</td>\n",
       "      <td>289</td>\n",
       "      <td>36</td>\n",
       "      <td>13</td>\n",
       "      <td>33</td>\n",
       "      <td>239554</td>\n",
       "      <td>...</td>\n",
       "      <td>1</td>\n",
       "      <td>1</td>\n",
       "      <td>2</td>\n",
       "      <td>1</td>\n",
       "      <td>1</td>\n",
       "      <td>1</td>\n",
       "      <td>90</td>\n",
       "      <td>172</td>\n",
       "      <td>30</td>\n",
       "      <td>2</td>\n",
       "    </tr>\n",
       "  </tbody>\n",
       "</table>\n",
       "<p>5 rows × 21 columns</p>\n",
       "</div>"
      ],
      "text/plain": [
       "   ID  Reasonforabsence  Monthofabsence  Dayoftheweek  Seasons  \\\n",
       "0  11                26               7             3        1   \n",
       "1  36                20               7             3        1   \n",
       "2   3                23               7             4        1   \n",
       "3   7                 7               7             5        1   \n",
       "4  11                23               7             5        1   \n",
       "\n",
       "   Transportationexpense  DistancefromResidencetoWork  Servicetime  Age  \\\n",
       "0                    289                           36           13   33   \n",
       "1                    118                           13           18   50   \n",
       "2                    179                           51           18   38   \n",
       "3                    279                            5           14   39   \n",
       "4                    289                           36           13   33   \n",
       "\n",
       "   WorkloadAverage/day  ...  Disciplinaryfailure  Education  Son  \\\n",
       "0               239554  ...                    1          1    2   \n",
       "1               239554  ...                    1          1    1   \n",
       "2               239554  ...                    1          1    1   \n",
       "3               239554  ...                    1          1    2   \n",
       "4               239554  ...                    1          1    2   \n",
       "\n",
       "   Socialdrinker  Socialsmoker  Pet  Weight  Height  Bodymassindex  \\\n",
       "0              1             1    1      90     172             30   \n",
       "1              1             1    1      98     178             31   \n",
       "2              1             1    1      89     170             31   \n",
       "3              1             1    1      68     168             24   \n",
       "4              1             1    1      90     172             30   \n",
       "\n",
       "   Absenteeismtimeinhours  \n",
       "0                       4  \n",
       "1                       7  \n",
       "2                       2  \n",
       "3                       4  \n",
       "4                       2  \n",
       "\n",
       "[5 rows x 21 columns]"
      ]
     },
     "execution_count": 2,
     "metadata": {},
     "output_type": "execute_result"
    }
   ],
   "source": [
    "#import Skyserver data files using pandas\n",
    "\n",
    "df=pd.read_excel(\"F:/Pranjali/Data Science/Eval Project/Data Files/Absenteeism_at_work_AAA/Absenteeism_at_work.xls\")\n",
    "df.head()"
   ]
  },
  {
   "cell_type": "code",
   "execution_count": 3,
   "metadata": {},
   "outputs": [],
   "source": [
    "# replace NaN values\n",
    "import numpy as np\n",
    "\n",
    "df['Reasonforabsence'].replace(np.NaN , df['Reasonforabsence'].mean,inplace=True)\n",
    "df['Monthofabsence'].replace(np.NaN , df['Monthofabsence'].mean,inplace=True)\n",
    "df['Son'].replace(np.NaN , df['Son'].mean,inplace=True)\n",
    "df['Pet'].replace(np.NaN , df['Pet'].mean,inplace=True)\n",
    "df['Absenteeismtimeinhours'].replace(np.NaN , df['Absenteeismtimeinhours'].mean,inplace=True)"
   ]
  },
  {
   "cell_type": "code",
   "execution_count": 4,
   "metadata": {},
   "outputs": [
    {
     "data": {
      "text/html": [
       "<div>\n",
       "<style scoped>\n",
       "    .dataframe tbody tr th:only-of-type {\n",
       "        vertical-align: middle;\n",
       "    }\n",
       "\n",
       "    .dataframe tbody tr th {\n",
       "        vertical-align: top;\n",
       "    }\n",
       "\n",
       "    .dataframe thead th {\n",
       "        text-align: right;\n",
       "    }\n",
       "</style>\n",
       "<table border=\"1\" class=\"dataframe\">\n",
       "  <thead>\n",
       "    <tr style=\"text-align: right;\">\n",
       "      <th></th>\n",
       "      <th>ID</th>\n",
       "      <th>Reasonforabsence</th>\n",
       "      <th>Monthofabsence</th>\n",
       "      <th>Dayoftheweek</th>\n",
       "      <th>Seasons</th>\n",
       "      <th>Transportationexpense</th>\n",
       "      <th>DistancefromResidencetoWork</th>\n",
       "      <th>Servicetime</th>\n",
       "      <th>Age</th>\n",
       "      <th>WorkloadAverage/day</th>\n",
       "      <th>...</th>\n",
       "      <th>Disciplinaryfailure</th>\n",
       "      <th>Education</th>\n",
       "      <th>Son</th>\n",
       "      <th>Socialdrinker</th>\n",
       "      <th>Socialsmoker</th>\n",
       "      <th>Pet</th>\n",
       "      <th>Weight</th>\n",
       "      <th>Height</th>\n",
       "      <th>Bodymassindex</th>\n",
       "      <th>Absenteeismtimeinhours</th>\n",
       "    </tr>\n",
       "  </thead>\n",
       "  <tbody>\n",
       "    <tr>\n",
       "      <th>735</th>\n",
       "      <td>11</td>\n",
       "      <td>14</td>\n",
       "      <td>7</td>\n",
       "      <td>3</td>\n",
       "      <td>1</td>\n",
       "      <td>289</td>\n",
       "      <td>36</td>\n",
       "      <td>13</td>\n",
       "      <td>33</td>\n",
       "      <td>264604</td>\n",
       "      <td>...</td>\n",
       "      <td>1</td>\n",
       "      <td>1</td>\n",
       "      <td>2</td>\n",
       "      <td>1</td>\n",
       "      <td>1</td>\n",
       "      <td>1</td>\n",
       "      <td>90</td>\n",
       "      <td>172</td>\n",
       "      <td>30</td>\n",
       "      <td>8</td>\n",
       "    </tr>\n",
       "    <tr>\n",
       "      <th>736</th>\n",
       "      <td>1</td>\n",
       "      <td>11</td>\n",
       "      <td>7</td>\n",
       "      <td>3</td>\n",
       "      <td>1</td>\n",
       "      <td>235</td>\n",
       "      <td>11</td>\n",
       "      <td>14</td>\n",
       "      <td>37</td>\n",
       "      <td>264604</td>\n",
       "      <td>...</td>\n",
       "      <td>1</td>\n",
       "      <td>3</td>\n",
       "      <td>1</td>\n",
       "      <td>1</td>\n",
       "      <td>1</td>\n",
       "      <td>1</td>\n",
       "      <td>88</td>\n",
       "      <td>172</td>\n",
       "      <td>29</td>\n",
       "      <td>4</td>\n",
       "    </tr>\n",
       "    <tr>\n",
       "      <th>737</th>\n",
       "      <td>4</td>\n",
       "      <td>20</td>\n",
       "      <td>6</td>\n",
       "      <td>3</td>\n",
       "      <td>1</td>\n",
       "      <td>118</td>\n",
       "      <td>14</td>\n",
       "      <td>13</td>\n",
       "      <td>40</td>\n",
       "      <td>271219</td>\n",
       "      <td>...</td>\n",
       "      <td>1</td>\n",
       "      <td>1</td>\n",
       "      <td>1</td>\n",
       "      <td>1</td>\n",
       "      <td>1</td>\n",
       "      <td>8</td>\n",
       "      <td>98</td>\n",
       "      <td>170</td>\n",
       "      <td>34</td>\n",
       "      <td>7</td>\n",
       "    </tr>\n",
       "    <tr>\n",
       "      <th>738</th>\n",
       "      <td>8</td>\n",
       "      <td>20</td>\n",
       "      <td>6</td>\n",
       "      <td>4</td>\n",
       "      <td>2</td>\n",
       "      <td>231</td>\n",
       "      <td>35</td>\n",
       "      <td>14</td>\n",
       "      <td>39</td>\n",
       "      <td>271219</td>\n",
       "      <td>...</td>\n",
       "      <td>1</td>\n",
       "      <td>1</td>\n",
       "      <td>2</td>\n",
       "      <td>1</td>\n",
       "      <td>1</td>\n",
       "      <td>2</td>\n",
       "      <td>100</td>\n",
       "      <td>170</td>\n",
       "      <td>35</td>\n",
       "      <td>7</td>\n",
       "    </tr>\n",
       "    <tr>\n",
       "      <th>739</th>\n",
       "      <td>35</td>\n",
       "      <td>20</td>\n",
       "      <td>6</td>\n",
       "      <td>6</td>\n",
       "      <td>3</td>\n",
       "      <td>179</td>\n",
       "      <td>45</td>\n",
       "      <td>14</td>\n",
       "      <td>53</td>\n",
       "      <td>271219</td>\n",
       "      <td>...</td>\n",
       "      <td>1</td>\n",
       "      <td>1</td>\n",
       "      <td>1</td>\n",
       "      <td>1</td>\n",
       "      <td>1</td>\n",
       "      <td>1</td>\n",
       "      <td>77</td>\n",
       "      <td>175</td>\n",
       "      <td>25</td>\n",
       "      <td>7</td>\n",
       "    </tr>\n",
       "  </tbody>\n",
       "</table>\n",
       "<p>5 rows × 21 columns</p>\n",
       "</div>"
      ],
      "text/plain": [
       "     ID  Reasonforabsence  Monthofabsence  Dayoftheweek  Seasons  \\\n",
       "735  11                14               7             3        1   \n",
       "736   1                11               7             3        1   \n",
       "737   4                20               6             3        1   \n",
       "738   8                20               6             4        2   \n",
       "739  35                20               6             6        3   \n",
       "\n",
       "     Transportationexpense  DistancefromResidencetoWork  Servicetime  Age  \\\n",
       "735                    289                           36           13   33   \n",
       "736                    235                           11           14   37   \n",
       "737                    118                           14           13   40   \n",
       "738                    231                           35           14   39   \n",
       "739                    179                           45           14   53   \n",
       "\n",
       "     WorkloadAverage/day  ...  Disciplinaryfailure  Education  Son  \\\n",
       "735               264604  ...                    1          1    2   \n",
       "736               264604  ...                    1          3    1   \n",
       "737               271219  ...                    1          1    1   \n",
       "738               271219  ...                    1          1    2   \n",
       "739               271219  ...                    1          1    1   \n",
       "\n",
       "     Socialdrinker  Socialsmoker  Pet  Weight  Height  Bodymassindex  \\\n",
       "735              1             1    1      90     172             30   \n",
       "736              1             1    1      88     172             29   \n",
       "737              1             1    8      98     170             34   \n",
       "738              1             1    2     100     170             35   \n",
       "739              1             1    1      77     175             25   \n",
       "\n",
       "     Absenteeismtimeinhours  \n",
       "735                       8  \n",
       "736                       4  \n",
       "737                       7  \n",
       "738                       7  \n",
       "739                       7  \n",
       "\n",
       "[5 rows x 21 columns]"
      ]
     },
     "execution_count": 4,
     "metadata": {},
     "output_type": "execute_result"
    }
   ],
   "source": [
    "df.tail()"
   ]
  },
  {
   "cell_type": "markdown",
   "metadata": {},
   "source": [
    "# Data Statistics"
   ]
  },
  {
   "cell_type": "code",
   "execution_count": 5,
   "metadata": {},
   "outputs": [
    {
     "name": "stdout",
     "output_type": "stream",
     "text": [
      "<class 'pandas.core.frame.DataFrame'>\n",
      "RangeIndex: 740 entries, 0 to 739\n",
      "Data columns (total 21 columns):\n",
      " #   Column                       Non-Null Count  Dtype\n",
      "---  ------                       --------------  -----\n",
      " 0   ID                           740 non-null    int64\n",
      " 1   Reasonforabsence             740 non-null    int64\n",
      " 2   Monthofabsence               740 non-null    int64\n",
      " 3   Dayoftheweek                 740 non-null    int64\n",
      " 4   Seasons                      740 non-null    int64\n",
      " 5   Transportationexpense        740 non-null    int64\n",
      " 6   DistancefromResidencetoWork  740 non-null    int64\n",
      " 7   Servicetime                  740 non-null    int64\n",
      " 8   Age                          740 non-null    int64\n",
      " 9   WorkloadAverage/day          740 non-null    int64\n",
      " 10  Hittarget                    740 non-null    int64\n",
      " 11  Disciplinaryfailure          740 non-null    int64\n",
      " 12  Education                    740 non-null    int64\n",
      " 13  Son                          740 non-null    int64\n",
      " 14  Socialdrinker                740 non-null    int64\n",
      " 15  Socialsmoker                 740 non-null    int64\n",
      " 16  Pet                          740 non-null    int64\n",
      " 17  Weight                       740 non-null    int64\n",
      " 18  Height                       740 non-null    int64\n",
      " 19  Bodymassindex                740 non-null    int64\n",
      " 20  Absenteeismtimeinhours       740 non-null    int64\n",
      "dtypes: int64(21)\n",
      "memory usage: 121.5 KB\n"
     ]
    }
   ],
   "source": [
    "#Checking not null values & data types for all columns \n",
    "\n",
    "df.info()"
   ]
  },
  {
   "cell_type": "markdown",
   "metadata": {},
   "source": [
    "Above stats shows that all column in dataset are of integer datatype & null not present at all."
   ]
  },
  {
   "cell_type": "code",
   "execution_count": 6,
   "metadata": {},
   "outputs": [
    {
     "data": {
      "text/plain": [
       "['ID',\n",
       " 'Reasonforabsence',\n",
       " 'Monthofabsence',\n",
       " 'Dayoftheweek',\n",
       " 'Seasons',\n",
       " 'Transportationexpense',\n",
       " 'DistancefromResidencetoWork',\n",
       " 'Servicetime',\n",
       " 'Age',\n",
       " 'WorkloadAverage/day',\n",
       " 'Hittarget',\n",
       " 'Disciplinaryfailure',\n",
       " 'Education',\n",
       " 'Son',\n",
       " 'Socialdrinker',\n",
       " 'Socialsmoker',\n",
       " 'Pet',\n",
       " 'Weight',\n",
       " 'Height',\n",
       " 'Bodymassindex',\n",
       " 'Absenteeismtimeinhours']"
      ]
     },
     "execution_count": 6,
     "metadata": {},
     "output_type": "execute_result"
    }
   ],
   "source": [
    "list(df.columns.values)"
   ]
  },
  {
   "cell_type": "code",
   "execution_count": 7,
   "metadata": {},
   "outputs": [
    {
     "data": {
      "text/html": [
       "<div>\n",
       "<style scoped>\n",
       "    .dataframe tbody tr th:only-of-type {\n",
       "        vertical-align: middle;\n",
       "    }\n",
       "\n",
       "    .dataframe tbody tr th {\n",
       "        vertical-align: top;\n",
       "    }\n",
       "\n",
       "    .dataframe thead th {\n",
       "        text-align: right;\n",
       "    }\n",
       "</style>\n",
       "<table border=\"1\" class=\"dataframe\">\n",
       "  <thead>\n",
       "    <tr style=\"text-align: right;\">\n",
       "      <th></th>\n",
       "      <th>ID</th>\n",
       "      <th>Reasonforabsence</th>\n",
       "      <th>Monthofabsence</th>\n",
       "      <th>Dayoftheweek</th>\n",
       "      <th>Seasons</th>\n",
       "      <th>Transportationexpense</th>\n",
       "      <th>DistancefromResidencetoWork</th>\n",
       "      <th>Servicetime</th>\n",
       "      <th>Age</th>\n",
       "      <th>WorkloadAverage/day</th>\n",
       "      <th>...</th>\n",
       "      <th>Disciplinaryfailure</th>\n",
       "      <th>Education</th>\n",
       "      <th>Son</th>\n",
       "      <th>Socialdrinker</th>\n",
       "      <th>Socialsmoker</th>\n",
       "      <th>Pet</th>\n",
       "      <th>Weight</th>\n",
       "      <th>Height</th>\n",
       "      <th>Bodymassindex</th>\n",
       "      <th>Absenteeismtimeinhours</th>\n",
       "    </tr>\n",
       "  </thead>\n",
       "  <tbody>\n",
       "    <tr>\n",
       "      <th>count</th>\n",
       "      <td>740.000000</td>\n",
       "      <td>740.000000</td>\n",
       "      <td>740.000000</td>\n",
       "      <td>740.000000</td>\n",
       "      <td>740.000000</td>\n",
       "      <td>740.000000</td>\n",
       "      <td>740.000000</td>\n",
       "      <td>740.000000</td>\n",
       "      <td>740.000000</td>\n",
       "      <td>740.000000</td>\n",
       "      <td>...</td>\n",
       "      <td>740.0</td>\n",
       "      <td>740.000000</td>\n",
       "      <td>740.000000</td>\n",
       "      <td>740.0</td>\n",
       "      <td>740.0</td>\n",
       "      <td>740.000000</td>\n",
       "      <td>740.000000</td>\n",
       "      <td>740.000000</td>\n",
       "      <td>740.000000</td>\n",
       "      <td>740.000000</td>\n",
       "    </tr>\n",
       "    <tr>\n",
       "      <th>mean</th>\n",
       "      <td>18.017568</td>\n",
       "      <td>20.378378</td>\n",
       "      <td>6.348649</td>\n",
       "      <td>3.914865</td>\n",
       "      <td>2.544595</td>\n",
       "      <td>221.329730</td>\n",
       "      <td>29.631081</td>\n",
       "      <td>12.554054</td>\n",
       "      <td>36.450000</td>\n",
       "      <td>271490.235135</td>\n",
       "      <td>...</td>\n",
       "      <td>1.0</td>\n",
       "      <td>1.291892</td>\n",
       "      <td>1.421622</td>\n",
       "      <td>1.0</td>\n",
       "      <td>1.0</td>\n",
       "      <td>1.367568</td>\n",
       "      <td>79.035135</td>\n",
       "      <td>172.114865</td>\n",
       "      <td>26.677027</td>\n",
       "      <td>7.340541</td>\n",
       "    </tr>\n",
       "    <tr>\n",
       "      <th>std</th>\n",
       "      <td>11.021247</td>\n",
       "      <td>6.951217</td>\n",
       "      <td>3.412555</td>\n",
       "      <td>1.421675</td>\n",
       "      <td>1.111831</td>\n",
       "      <td>66.952223</td>\n",
       "      <td>14.836788</td>\n",
       "      <td>4.384873</td>\n",
       "      <td>6.478772</td>\n",
       "      <td>39058.116188</td>\n",
       "      <td>...</td>\n",
       "      <td>0.0</td>\n",
       "      <td>0.673238</td>\n",
       "      <td>0.791065</td>\n",
       "      <td>0.0</td>\n",
       "      <td>0.0</td>\n",
       "      <td>1.022098</td>\n",
       "      <td>12.883211</td>\n",
       "      <td>6.034995</td>\n",
       "      <td>4.285452</td>\n",
       "      <td>13.216946</td>\n",
       "    </tr>\n",
       "    <tr>\n",
       "      <th>min</th>\n",
       "      <td>1.000000</td>\n",
       "      <td>1.000000</td>\n",
       "      <td>1.000000</td>\n",
       "      <td>2.000000</td>\n",
       "      <td>1.000000</td>\n",
       "      <td>118.000000</td>\n",
       "      <td>5.000000</td>\n",
       "      <td>1.000000</td>\n",
       "      <td>27.000000</td>\n",
       "      <td>205917.000000</td>\n",
       "      <td>...</td>\n",
       "      <td>1.0</td>\n",
       "      <td>1.000000</td>\n",
       "      <td>1.000000</td>\n",
       "      <td>1.0</td>\n",
       "      <td>1.0</td>\n",
       "      <td>1.000000</td>\n",
       "      <td>56.000000</td>\n",
       "      <td>163.000000</td>\n",
       "      <td>19.000000</td>\n",
       "      <td>1.000000</td>\n",
       "    </tr>\n",
       "    <tr>\n",
       "      <th>25%</th>\n",
       "      <td>9.000000</td>\n",
       "      <td>14.000000</td>\n",
       "      <td>3.000000</td>\n",
       "      <td>3.000000</td>\n",
       "      <td>2.000000</td>\n",
       "      <td>179.000000</td>\n",
       "      <td>16.000000</td>\n",
       "      <td>9.000000</td>\n",
       "      <td>31.000000</td>\n",
       "      <td>244387.000000</td>\n",
       "      <td>...</td>\n",
       "      <td>1.0</td>\n",
       "      <td>1.000000</td>\n",
       "      <td>1.000000</td>\n",
       "      <td>1.0</td>\n",
       "      <td>1.0</td>\n",
       "      <td>1.000000</td>\n",
       "      <td>69.000000</td>\n",
       "      <td>169.000000</td>\n",
       "      <td>24.000000</td>\n",
       "      <td>2.000000</td>\n",
       "    </tr>\n",
       "    <tr>\n",
       "      <th>50%</th>\n",
       "      <td>18.000000</td>\n",
       "      <td>23.000000</td>\n",
       "      <td>6.000000</td>\n",
       "      <td>4.000000</td>\n",
       "      <td>3.000000</td>\n",
       "      <td>225.000000</td>\n",
       "      <td>26.000000</td>\n",
       "      <td>13.000000</td>\n",
       "      <td>37.000000</td>\n",
       "      <td>264249.000000</td>\n",
       "      <td>...</td>\n",
       "      <td>1.0</td>\n",
       "      <td>1.000000</td>\n",
       "      <td>1.000000</td>\n",
       "      <td>1.0</td>\n",
       "      <td>1.0</td>\n",
       "      <td>1.000000</td>\n",
       "      <td>83.000000</td>\n",
       "      <td>170.000000</td>\n",
       "      <td>25.000000</td>\n",
       "      <td>4.000000</td>\n",
       "    </tr>\n",
       "    <tr>\n",
       "      <th>75%</th>\n",
       "      <td>28.000000</td>\n",
       "      <td>26.000000</td>\n",
       "      <td>9.000000</td>\n",
       "      <td>5.000000</td>\n",
       "      <td>4.000000</td>\n",
       "      <td>260.000000</td>\n",
       "      <td>50.000000</td>\n",
       "      <td>16.000000</td>\n",
       "      <td>40.000000</td>\n",
       "      <td>294217.000000</td>\n",
       "      <td>...</td>\n",
       "      <td>1.0</td>\n",
       "      <td>1.000000</td>\n",
       "      <td>2.000000</td>\n",
       "      <td>1.0</td>\n",
       "      <td>1.0</td>\n",
       "      <td>1.000000</td>\n",
       "      <td>89.000000</td>\n",
       "      <td>172.000000</td>\n",
       "      <td>31.000000</td>\n",
       "      <td>8.000000</td>\n",
       "    </tr>\n",
       "    <tr>\n",
       "      <th>max</th>\n",
       "      <td>36.000000</td>\n",
       "      <td>28.000000</td>\n",
       "      <td>12.000000</td>\n",
       "      <td>6.000000</td>\n",
       "      <td>4.000000</td>\n",
       "      <td>388.000000</td>\n",
       "      <td>52.000000</td>\n",
       "      <td>29.000000</td>\n",
       "      <td>58.000000</td>\n",
       "      <td>378884.000000</td>\n",
       "      <td>...</td>\n",
       "      <td>1.0</td>\n",
       "      <td>4.000000</td>\n",
       "      <td>4.000000</td>\n",
       "      <td>1.0</td>\n",
       "      <td>1.0</td>\n",
       "      <td>8.000000</td>\n",
       "      <td>108.000000</td>\n",
       "      <td>196.000000</td>\n",
       "      <td>38.000000</td>\n",
       "      <td>120.000000</td>\n",
       "    </tr>\n",
       "  </tbody>\n",
       "</table>\n",
       "<p>8 rows × 21 columns</p>\n",
       "</div>"
      ],
      "text/plain": [
       "               ID  Reasonforabsence  Monthofabsence  Dayoftheweek     Seasons  \\\n",
       "count  740.000000        740.000000      740.000000    740.000000  740.000000   \n",
       "mean    18.017568         20.378378        6.348649      3.914865    2.544595   \n",
       "std     11.021247          6.951217        3.412555      1.421675    1.111831   \n",
       "min      1.000000          1.000000        1.000000      2.000000    1.000000   \n",
       "25%      9.000000         14.000000        3.000000      3.000000    2.000000   \n",
       "50%     18.000000         23.000000        6.000000      4.000000    3.000000   \n",
       "75%     28.000000         26.000000        9.000000      5.000000    4.000000   \n",
       "max     36.000000         28.000000       12.000000      6.000000    4.000000   \n",
       "\n",
       "       Transportationexpense  DistancefromResidencetoWork  Servicetime  \\\n",
       "count             740.000000                   740.000000   740.000000   \n",
       "mean              221.329730                    29.631081    12.554054   \n",
       "std                66.952223                    14.836788     4.384873   \n",
       "min               118.000000                     5.000000     1.000000   \n",
       "25%               179.000000                    16.000000     9.000000   \n",
       "50%               225.000000                    26.000000    13.000000   \n",
       "75%               260.000000                    50.000000    16.000000   \n",
       "max               388.000000                    52.000000    29.000000   \n",
       "\n",
       "              Age  WorkloadAverage/day  ...  Disciplinaryfailure   Education  \\\n",
       "count  740.000000           740.000000  ...                740.0  740.000000   \n",
       "mean    36.450000        271490.235135  ...                  1.0    1.291892   \n",
       "std      6.478772         39058.116188  ...                  0.0    0.673238   \n",
       "min     27.000000        205917.000000  ...                  1.0    1.000000   \n",
       "25%     31.000000        244387.000000  ...                  1.0    1.000000   \n",
       "50%     37.000000        264249.000000  ...                  1.0    1.000000   \n",
       "75%     40.000000        294217.000000  ...                  1.0    1.000000   \n",
       "max     58.000000        378884.000000  ...                  1.0    4.000000   \n",
       "\n",
       "              Son  Socialdrinker  Socialsmoker         Pet      Weight  \\\n",
       "count  740.000000          740.0         740.0  740.000000  740.000000   \n",
       "mean     1.421622            1.0           1.0    1.367568   79.035135   \n",
       "std      0.791065            0.0           0.0    1.022098   12.883211   \n",
       "min      1.000000            1.0           1.0    1.000000   56.000000   \n",
       "25%      1.000000            1.0           1.0    1.000000   69.000000   \n",
       "50%      1.000000            1.0           1.0    1.000000   83.000000   \n",
       "75%      2.000000            1.0           1.0    1.000000   89.000000   \n",
       "max      4.000000            1.0           1.0    8.000000  108.000000   \n",
       "\n",
       "           Height  Bodymassindex  Absenteeismtimeinhours  \n",
       "count  740.000000     740.000000              740.000000  \n",
       "mean   172.114865      26.677027                7.340541  \n",
       "std      6.034995       4.285452               13.216946  \n",
       "min    163.000000      19.000000                1.000000  \n",
       "25%    169.000000      24.000000                2.000000  \n",
       "50%    170.000000      25.000000                4.000000  \n",
       "75%    172.000000      31.000000                8.000000  \n",
       "max    196.000000      38.000000              120.000000  \n",
       "\n",
       "[8 rows x 21 columns]"
      ]
     },
     "execution_count": 7,
     "metadata": {},
     "output_type": "execute_result"
    }
   ],
   "source": [
    "df.describe()"
   ]
  },
  {
   "cell_type": "markdown",
   "metadata": {},
   "source": [
    "Above stats shows that target value is interger for column 'Absenteeism time in hours' , Hence need to train this model with Linear Rgression "
   ]
  },
  {
   "cell_type": "code",
   "execution_count": 8,
   "metadata": {},
   "outputs": [
    {
     "data": {
      "text/plain": [
       "<matplotlib.axes._subplots.AxesSubplot at 0x21907c1ff48>"
      ]
     },
     "execution_count": 8,
     "metadata": {},
     "output_type": "execute_result"
    },
    {
     "data": {
      "image/png": "[encoded data removed]",
      "text/plain": [
       "<Figure size 432x288 with 2 Axes>"
      ]
     },
     "metadata": {
      "needs_background": "light"
     },
     "output_type": "display_data"
    }
   ],
   "source": [
    "# check missing values\n",
    "sns.heatmap(df.isnull())"
   ]
  },
  {
   "cell_type": "markdown",
   "metadata": {},
   "source": [
    "it shows no null value present "
   ]
  },
  {
   "cell_type": "markdown",
   "metadata": {},
   "source": [
    "# EDA - Analyse the data set stats using plots"
   ]
  },
  {
   "cell_type": "code",
   "execution_count": 9,
   "metadata": {},
   "outputs": [
    {
     "data": {
      "text/plain": [
       "<matplotlib.axes._subplots.AxesSubplot at 0x21907cf9708>"
      ]
     },
     "execution_count": 9,
     "metadata": {},
     "output_type": "execute_result"
    },
    {
     "data": {
      "image/png": "[encoded data removed]",
      "text/plain": [
       "<Figure size 432x288 with 2 Axes>"
      ]
     },
     "metadata": {
      "needs_background": "light"
     },
     "output_type": "display_data"
    }
   ],
   "source": [
    "# checking correlation using heatmap\n",
    "\n",
    "dfcor=df.corr()\n",
    "sns.heatmap(dfcor)"
   ]
  },
  {
   "cell_type": "markdown",
   "metadata": {},
   "source": [
    "Above plot shows that column name 'Transportation expense','Distance from Residence to Work' are less correlated ,however column name 'Service time',\n",
    "'Age' are correlated & correlation exist between column  'Weight','Height'."
   ]
  },
  {
   "cell_type": "code",
   "execution_count": 10,
   "metadata": {},
   "outputs": [
    {
     "data": {
      "text/plain": [
       "ID                             0.016606\n",
       "Reasonforabsence              -0.909478\n",
       "Monthofabsence                 0.075290\n",
       "Dayoftheweek                   0.102440\n",
       "Seasons                       -0.038532\n",
       "Transportationexpense          0.396189\n",
       "DistancefromResidencetoWork    0.312083\n",
       "Servicetime                   -0.004720\n",
       "Age                            0.697703\n",
       "WorkloadAverage/day            0.961457\n",
       "Hittarget                     -1.261708\n",
       "Disciplinaryfailure            0.000000\n",
       "Education                      2.108953\n",
       "Son                            2.109392\n",
       "Socialdrinker                  0.000000\n",
       "Socialsmoker                   0.000000\n",
       "Pet                            4.066262\n",
       "Weight                         0.017001\n",
       "Height                         2.566060\n",
       "Bodymassindex                  0.305046\n",
       "Absenteeismtimeinhours         5.783930\n",
       "dtype: float64"
      ]
     },
     "execution_count": 10,
     "metadata": {},
     "output_type": "execute_result"
    }
   ],
   "source": [
    "# Checking for skewness for each of the column\n",
    "df.skew()"
   ]
  },
  {
   "cell_type": "markdown",
   "metadata": {},
   "source": [
    "Skewness exist in all below columns ; Column name - Work load Average/day , Disciplinary failure , Education , Son , Social smoker , Pet , Height ,Absenteeism time in hours"
   ]
  },
  {
   "cell_type": "markdown",
   "metadata": {},
   "source": [
    "# Data Visualization-Univariate"
   ]
  },
  {
   "cell_type": "code",
   "execution_count": 17,
   "metadata": {},
   "outputs": [
    {
     "data": {
      "image/png": "[encoded data removed]",
      "text/plain": [
       "<Figure size 432x288 with 21 Axes>"
      ]
     },
     "metadata": {
      "needs_background": "light"
     },
     "output_type": "display_data"
    }
   ],
   "source": [
    "# Visualization - box and whisker plots - Univariate Analysis\n",
    "df.plot(kind='box', subplots=True, layout=(3,7), sharex=False, sharey=False)\n",
    "plt.show()"
   ]
  },
  {
   "cell_type": "markdown",
   "metadata": {},
   "source": [
    "As per above graph all below column have outliers - 'Education',\n",
    " 'Son',\n",
    " 'Pet',\n",
    " 'Weight',\n",
    " 'Height',\n",
    " 'Absenteeism time in hours'"
   ]
  },
  {
   "cell_type": "markdown",
   "metadata": {},
   "source": [
    "# Data Visualization-Multivariate"
   ]
  },
  {
   "cell_type": "code",
   "execution_count": 18,
   "metadata": {
    "scrolled": true
   },
   "outputs": [
    {
     "data": {
      "image/png": "[encoded data removed]",
      "text/plain": [
       "<Figure size 648x720 with 9 Axes>"
      ]
     },
     "metadata": {
      "needs_background": "light"
     },
     "output_type": "display_data"
    }
   ],
   "source": [
    "# draw Scatter plot for linear regression\n",
    "\n",
    "sns.pairplot(df, x_vars=['Monthofabsence','Transportationexpense','Servicetime','Age','WorkloadAverage/day','Son','Socialdrinker','Height','Bodymassindex'], y_vars='Absenteeismtimeinhours', size=10, aspect=0.1, kind='reg')\n",
    "plt.show()"
   ]
  },
  {
   "cell_type": "markdown",
   "metadata": {},
   "source": [
    "multivariate analysis shows that below columns having positive linear relation & rest column having negative linear relation-  'Month of absence',\n",
    " 'Transportation expense',\n",
    " 'Service time', \n",
    " 'Age',\n",
    " 'Work load Average/day '\n",
    " 'Son',\n",
    " 'Social drinker',\n",
    " 'Social smoker',\n",
    " 'Weight',\n",
    " 'Height'"
   ]
  },
  {
   "cell_type": "markdown",
   "metadata": {},
   "source": [
    "# Preparing X & Y for Regression model "
   ]
  },
  {
   "cell_type": "code",
   "execution_count": 19,
   "metadata": {},
   "outputs": [],
   "source": [
    "import pandas as pd\n",
    "x = df[['ID',\n",
    " 'Reasonforabsence',\n",
    " 'Monthofabsence',\n",
    " 'Dayoftheweek',\n",
    " 'Seasons',\n",
    " 'Transportationexpense',\n",
    " 'DistancefromResidencetoWork',\n",
    " 'Servicetime',\n",
    " 'Age',\n",
    " 'WorkloadAverage/day',\n",
    " 'Hittarget',\n",
    " 'Disciplinaryfailure',\n",
    " 'Education',\n",
    " 'Son',\n",
    " 'Socialdrinker',\n",
    " 'Socialsmoker',\n",
    " 'Pet',\n",
    " 'Weight',\n",
    " 'Height',\n",
    " 'Bodymassindex']]\n",
    "y = df.Absenteeismtimeinhours        # y is a vector, hence we use dot to access 'label'"
   ]
  },
  {
   "cell_type": "code",
   "execution_count": 20,
   "metadata": {},
   "outputs": [
    {
     "name": "stdout",
     "output_type": "stream",
     "text": [
      "<class 'pandas.core.frame.DataFrame'>\n",
      "(740, 20)\n"
     ]
    }
   ],
   "source": [
    "print(type(x))\n",
    "print(x.shape)"
   ]
  },
  {
   "cell_type": "code",
   "execution_count": 21,
   "metadata": {},
   "outputs": [
    {
     "name": "stdout",
     "output_type": "stream",
     "text": [
      "<class 'pandas.core.series.Series'>\n",
      "(740,)\n"
     ]
    }
   ],
   "source": [
    "print(type(y))\n",
    "print(y.shape)"
   ]
  },
  {
   "cell_type": "code",
   "execution_count": 22,
   "metadata": {},
   "outputs": [],
   "source": [
    "# Split data using train_test_split method\n",
    "\n",
    "x_train, x_test, y_train, y_test = train_test_split(x, y,random_state = 45,test_size=0.10)"
   ]
  },
  {
   "cell_type": "code",
   "execution_count": 23,
   "metadata": {},
   "outputs": [
    {
     "name": "stdout",
     "output_type": "stream",
     "text": [
      "92.2239770865012\n",
      "[-1.83861281e-01 -5.13177725e-01  3.93660363e-02 -8.58281180e-01\n",
      "  4.71041048e-01 -3.26314805e-03 -4.80715833e-02 -3.29012183e-01\n",
      "  4.01338998e-01 -4.72058342e-06  9.04256901e-02  4.44089210e-15\n",
      " -2.50735450e+00  1.24636993e+00 -6.66133815e-16  0.00000000e+00\n",
      " -7.06001810e-01  8.10384162e-01 -4.39414252e-01 -2.65523429e+00]\n"
     ]
    }
   ],
   "source": [
    "# Interpreting model coefficients\n",
    "# print the intercept and coefficients\n",
    "\n",
    "from sklearn.model_selection import train_test_split\n",
    "# Linear regression in scikit-learn\n",
    "\n",
    "from sklearn.linear_model import LinearRegression\n",
    "\n",
    "linreg = LinearRegression()\n",
    "\n",
    "# fit the model to the training data (learn the coefficients)\n",
    "linreg.fit(x_train, y_train)\n",
    "\n",
    "print(linreg.intercept_)\n",
    "print(linreg.coef_)"
   ]
  },
  {
   "cell_type": "code",
   "execution_count": 24,
   "metadata": {},
   "outputs": [],
   "source": [
    "# make predictions on the testing set\n",
    "y_pred = linreg.predict(x_test)"
   ]
  },
  {
   "cell_type": "code",
   "execution_count": 25,
   "metadata": {},
   "outputs": [
    {
     "name": "stdout",
     "output_type": "stream",
     "text": [
      "GridSearchCV(cv=None, error_score=nan,\n",
      "             estimator=Ridge(alpha=1.0, copy_X=True, fit_intercept=True,\n",
      "                             max_iter=None, normalize=False, random_state=None,\n",
      "                             solver='auto', tol=0.001),\n",
      "             iid='deprecated', n_jobs=None,\n",
      "             param_grid={'alpha': array([1.e+00, 1.e-01, 1.e-02, 1.e-03, 1.e-04, 0.e+00])},\n",
      "             pre_dispatch='2*n_jobs', refit=True, return_train_score=False,\n",
      "             scoring=None, verbose=0)\n",
      "0.05444877396229495\n",
      "1.0\n"
     ]
    }
   ],
   "source": [
    "# Grid Search for Algorithm Tuning\n",
    "\n",
    "import numpy as np\n",
    "from sklearn import datasets\n",
    "from sklearn.linear_model import Ridge\n",
    "from sklearn.model_selection import GridSearchCV\n",
    "\n",
    "# load the datasets\n",
    "dataset = df\n",
    "\n",
    "# prepare a range of alpha values to test\n",
    "alphas = np.array([1,0.1,0.01,0.001,0.0001,0])\n",
    "\n",
    "# create and fit a ridge regression model, testing each alpha\n",
    "model = Ridge()\n",
    "grid = GridSearchCV(estimator=model, param_grid=dict(alpha=alphas))\n",
    "grid.fit(x_train, y_train)    \n",
    "print(grid)\n",
    "\n",
    "# summarize the results of the grid search\n",
    "print(grid.best_score_)\n",
    "print(grid.best_estimator_.alpha)"
   ]
  },
  {
   "cell_type": "code",
   "execution_count": 26,
   "metadata": {},
   "outputs": [
    {
     "name": "stdout",
     "output_type": "stream",
     "text": [
      "RandomizedSearchCV(cv=None, error_score=nan,\n",
      "                   estimator=Ridge(alpha=1.0, copy_X=True, fit_intercept=True,\n",
      "                                   max_iter=None, normalize=False,\n",
      "                                   random_state=None, solver='auto',\n",
      "                                   tol=0.001),\n",
      "                   iid='deprecated', n_iter=100, n_jobs=None,\n",
      "                   param_distributions={'alpha': <scipy.stats._distn_infrastructure.rv_frozen object at 0x000002190956CE08>},\n",
      "                   pre_dispatch='2*n_jobs', random_state=None, refit=True,\n",
      "                   return_train_score=False, scoring=None, verbose=0)\n",
      "0.05444322138317994\n",
      "0.9877856165252731\n"
     ]
    }
   ],
   "source": [
    "# Randomized Search for Algorithm Tuning\n",
    "\n",
    "import numpy as np\n",
    "from scipy.stats import uniform as sp_rand\n",
    "from sklearn import datasets\n",
    "from sklearn.linear_model import Ridge\n",
    "from sklearn.model_selection import RandomizedSearchCV\n",
    "\n",
    "# load the datasets\n",
    "dataset = df\n",
    "\n",
    "# prepare a uniform distribution to sample for the alpha parameter\n",
    "param_grid = {'alpha': sp_rand()}\n",
    "\n",
    "# create and fit a ridge regression model, testing random alpha values\n",
    "model = Ridge()\n",
    "rsearch = RandomizedSearchCV(estimator=model, param_distributions=param_grid, n_iter=100)\n",
    "rsearch.fit(x_train, y_train) \n",
    "print(rsearch)\n",
    "\n",
    "# summarize the results of the random parameter search\n",
    "print(rsearch.best_score_)\n",
    "print(rsearch.best_estimator_.alpha)"
   ]
  },
  {
   "cell_type": "code",
   "execution_count": 27,
   "metadata": {},
   "outputs": [
    {
     "name": "stdout",
     "output_type": "stream",
     "text": [
      "Mean Accuracy Error:  6.313079634854043\n",
      "Mean Sqr Error:    210.30338591996684\n",
      "Root mean sqr error:  14.50184077694852\n"
     ]
    }
   ],
   "source": [
    "# calculate MAE using scikit-learn\n",
    "from sklearn import metrics\n",
    "\n",
    "# Computing the MAE\n",
    "print(\"Mean Accuracy Error: \",metrics.mean_absolute_error(y_test, y_pred))\n",
    "\n",
    "# Computing the MSE\n",
    "print(\"Mean Sqr Error:   \",metrics.mean_squared_error(y_test, y_pred))\n",
    "\n",
    "# Computing the RMSE\n",
    "print(\"Root mean sqr error: \",np.sqrt(metrics.mean_squared_error(y_test, y_pred)))"
   ]
  },
  {
   "cell_type": "code",
   "execution_count": 28,
   "metadata": {},
   "outputs": [
    {
     "name": "stdout",
     "output_type": "stream",
     "text": [
      "max r2 score corresponds to 86  is  0.3973951546762855\n"
     ]
    }
   ],
   "source": [
    "# Use for loop to iterate rstate to get the r2score.\n",
    "\n",
    "from sklearn.metrics import mean_absolute_error\n",
    "from sklearn.metrics import mean_squared_error\n",
    "from sklearn.metrics import r2_score\n",
    "from sklearn import linear_model\n",
    "\n",
    "max_rscore=0\n",
    "for r_state in range(42,101):\n",
    "    x_train, x_test, y_train, y_test = train_test_split(x, y,random_state = r_state,test_size=0.1)\n",
    "    regrn = linear_model.LinearRegression()\n",
    "    regrn.fit(x_train,y_train)\n",
    "    y_pred = regrn.predict(x_test)\n",
    "    r2_scr=r2_score(y_test,y_pred)\n",
    "    if r2_scr>max_rscore:\n",
    "        max_rscore=r2_scr\n",
    "        final_r_state=r_state\n",
    "print(\"max r2 score corresponds to\",final_r_state,\" is \",max_rscore)"
   ]
  },
  {
   "cell_type": "code",
   "execution_count": 29,
   "metadata": {},
   "outputs": [
    {
     "name": "stdout",
     "output_type": "stream",
     "text": [
      "-827244.132833794\n",
      "-0.061844546967241294\n",
      "-0.06034007656352114\n"
     ]
    }
   ],
   "source": [
    "from sklearn.svm import SVR\n",
    "kernellist=['linear','poly','rbf']\n",
    "for i in kernellist:\n",
    "    sv=SVR(kernel=i)\n",
    "    sv.fit(x_train,y_train)\n",
    "    print(sv.score(x_train,y_train))"
   ]
  },
  {
   "cell_type": "code",
   "execution_count": 30,
   "metadata": {},
   "outputs": [
    {
     "name": "stdout",
     "output_type": "stream",
     "text": [
      "linear lasso train score: 0.1514276234940257\n",
      "linear lasso test score: 0.12017285581230308\n"
     ]
    }
   ],
   "source": [
    "from sklearn.linear_model import Lasso,Ridge\n",
    "from sklearn.model_selection import train_test_split\n",
    "\n",
    "# we can officially put values as 0.001,0.01,0.1,1.0 for alpha\n",
    "# will reduce the coefficient to zero (those feature are not informative)\n",
    "# Default value of alpha = 1.0\n",
    "# alpha =0.01\n",
    "\n",
    "ls=Lasso(alpha=0.001)\n",
    "ls.fit(x_train,y_train) \n",
    "ls.score(x_train,y_train)\n",
    "\n",
    "train_score=ls.score(x_train, y_train)\n",
    "test_score=ls.score(x_test, y_test)\n",
    "\n",
    "ls.coef_\n",
    "\n",
    "print (\"linear lasso train score:\", train_score)\n",
    "print (\"linear lasso test score:\", test_score)\n"
   ]
  },
  {
   "cell_type": "code",
   "execution_count": 31,
   "metadata": {},
   "outputs": [
    {
     "name": "stdout",
     "output_type": "stream",
     "text": [
      "Ridge train score: 0.1514276234940257\n",
      "Ridge test score: 0.12017285581230308\n"
     ]
    }
   ],
   "source": [
    "# check if shape mismatch error thrown then check value of feature_names,coef ,both valu should be same only\n",
    "# try to minimize coe variable\n",
    "\n",
    "from sklearn.model_selection import train_test_split\n",
    "from sklearn.linear_model import LinearRegression\n",
    "from sklearn.linear_model import Ridge\n",
    "\n",
    "rd=Ridge(alpha=0.001)\n",
    "rd.fit(x_train,y_train) \n",
    "rd.score(x_train,y_train)\n",
    "\n",
    "\n",
    "Ridge_train_score=ls.score(x_train, y_train)\n",
    "Ridge_test_score=ls.score(x_test, y_test)\n",
    "\n",
    "ls.coef_\n",
    "\n",
    "print (\"Ridge train score:\", Ridge_train_score)\n",
    "print (\"Ridge test score:\", Ridge_test_score)\n"
   ]
  },
  {
   "cell_type": "code",
   "execution_count": 32,
   "metadata": {},
   "outputs": [
    {
     "name": "stdout",
     "output_type": "stream",
     "text": [
      "EL train score: 0.1514276234940257\n",
      "EL test score: 0.12017285581230308\n"
     ]
    }
   ],
   "source": [
    "# check if shape mismatch error thrown then check value of feature_names,coef ,both valu should be same only\n",
    "# try to minimize coe variable\n",
    "\n",
    "# ElasticNet is a combination of both Lasso & Ridge\n",
    "\n",
    "from sklearn.model_selection import train_test_split\n",
    "from sklearn.linear_model import LinearRegression\n",
    "from sklearn.linear_model import Ridge\n",
    "from sklearn.linear_model import ElasticNet\n",
    "\n",
    "enr=ElasticNet(alpha=0.001)\n",
    "enr=ElasticNet()\n",
    "enr.fit(x_train,y_train)\n",
    "\n",
    "\n",
    "El_train_score=ls.score(x_train, y_train)\n",
    "El_test_score=ls.score(x_test, y_test)\n",
    "\n",
    "ls.coef_\n",
    "\n",
    "print (\"EL train score:\", El_train_score)\n",
    "print (\"EL test score:\", El_test_score)"
   ]
  },
  {
   "cell_type": "code",
   "execution_count": 33,
   "metadata": {},
   "outputs": [
    {
     "name": "stdout",
     "output_type": "stream",
     "text": [
      "Test score for linear regression: 12.02 %\n"
     ]
    }
   ],
   "source": [
    "from sklearn.externals import joblib\n",
    "\n",
    "joblib_file = \"joblib_regrn.pkl\"             # Save to file in the current working directory\n",
    "joblib.dump(regrn, joblib_file)\n",
    "joblib_regrn = joblib.load(joblib_file)      # Load from file\n",
    "score = joblib_regrn.score(x_test, y_test)   # Calculate the accuracy and predictions\n",
    "print(\"Test score for linear regression: {0:.2f} %\".format(100 * score))"
   ]
  },
  {
   "cell_type": "code",
   "execution_count": 34,
   "metadata": {},
   "outputs": [
    {
     "data": {
      "text/plain": [
       "<matplotlib.axes._subplots.AxesSubplot at 0x219095c3c48>"
      ]
     },
     "execution_count": 34,
     "metadata": {},
     "output_type": "execute_result"
    },
    {
     "data": {
      "image/png": "[encoded data removed]",
      "text/plain": [
       "<Figure size 432x288 with 1 Axes>"
      ]
     },
     "metadata": {
      "needs_background": "light"
     },
     "output_type": "display_data"
    }
   ],
   "source": [
    "# Visualization of predictions\n",
    "import seaborn as sns\n",
    "ax1 = sns.distplot(y_test, hist = False, color = 'r', label = 'actual')\n",
    "sns.distplot(y_pred, hist = False, color = 'b', label = 'prediction', ax = ax1)"
   ]
  },
  {
   "cell_type": "markdown",
   "metadata": {},
   "source": [
    "Conclusion-Absenteeism at work place gives these score -> Accuracy Score = 40% ; Test Score = 12%\n",
    "Model suffering from underfitting here even after applying cross validation."
   ]
  }
 ],
 "metadata": {
  "kernelspec": {
   "display_name": "Python 3",
   "language": "python",
   "name": "python3"
  },
  "language_info": {
   "codemirror_mode": {
    "name": "ipython",
    "version": 3
   },
   "file_extension": ".py",
   "mimetype": "text/x-python",
   "name": "python",
   "nbconvert_exporter": "python",
   "pygments_lexer": "ipython3",
   "version": "3.7.6"
  }
 },
 "nbformat": 4,
 "nbformat_minor": 4
}
