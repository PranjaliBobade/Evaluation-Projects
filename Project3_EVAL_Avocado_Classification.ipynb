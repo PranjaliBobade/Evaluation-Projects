{
 "cells": [
  {
   "cell_type": "code",
   "execution_count": 1,
   "metadata": {},
   "outputs": [],
   "source": [
    "# Import all required libraries \n",
    "\n",
    "import pandas as pd\n",
    "from sklearn import preprocessing\n",
    "from matplotlib import pyplot as plt\n",
    "from sklearn.model_selection import train_test_split\n",
    "\n",
    "from sklearn.model_selection import StratifiedKFold\n",
    "from sklearn.metrics import classification_report\n",
    "from sklearn.metrics import confusion_matrix\n",
    "from sklearn.metrics import accuracy_score\n",
    "from sklearn.linear_model import LogisticRegression\n",
    "from sklearn.tree import DecisionTreeClassifier\n",
    "from sklearn.neighbors import KNeighborsClassifier\n",
    "from sklearn.discriminant_analysis import LinearDiscriminantAnalysis\n",
    "from sklearn.naive_bayes import GaussianNB\n",
    "from sklearn.svm import SVC\n",
    "\n",
    "import seaborn as sns\n",
    "import warnings\n",
    "warnings.filterwarnings('ignore')\n",
    "from sklearn.externals import joblib"
   ]
  },
  {
   "cell_type": "markdown",
   "metadata": {},
   "source": [
    "# Load data & read data using pandas"
   ]
  },
  {
   "cell_type": "code",
   "execution_count": 2,
   "metadata": {},
   "outputs": [],
   "source": [
    "# Import avacado data files using pandas\n",
    "\n",
    "df=pd.read_csv(\"F:/Pranjali/Data Science/Eval Project/Data Files/avocado.csv\")"
   ]
  },
  {
   "cell_type": "code",
   "execution_count": 3,
   "metadata": {},
   "outputs": [
    {
     "data": {
      "text/html": [
       "<div>\n",
       "<style scoped>\n",
       "    .dataframe tbody tr th:only-of-type {\n",
       "        vertical-align: middle;\n",
       "    }\n",
       "\n",
       "    .dataframe tbody tr th {\n",
       "        vertical-align: top;\n",
       "    }\n",
       "\n",
       "    .dataframe thead th {\n",
       "        text-align: right;\n",
       "    }\n",
       "</style>\n",
       "<table border=\"1\" class=\"dataframe\">\n",
       "  <thead>\n",
       "    <tr style=\"text-align: right;\">\n",
       "      <th></th>\n",
       "      <th>Unnamed: 0</th>\n",
       "      <th>Date</th>\n",
       "      <th>AveragePrice</th>\n",
       "      <th>Total Volume</th>\n",
       "      <th>4046</th>\n",
       "      <th>4225</th>\n",
       "      <th>4770</th>\n",
       "      <th>Total Bags</th>\n",
       "      <th>Small Bags</th>\n",
       "      <th>Large Bags</th>\n",
       "      <th>XLarge Bags</th>\n",
       "      <th>type</th>\n",
       "      <th>year</th>\n",
       "      <th>region</th>\n",
       "    </tr>\n",
       "  </thead>\n",
       "  <tbody>\n",
       "    <tr>\n",
       "      <th>0</th>\n",
       "      <td>0</td>\n",
       "      <td>2015-12-27</td>\n",
       "      <td>1.33</td>\n",
       "      <td>64236.62</td>\n",
       "      <td>1036.74</td>\n",
       "      <td>54454.85</td>\n",
       "      <td>48.16</td>\n",
       "      <td>8696.87</td>\n",
       "      <td>8603.62</td>\n",
       "      <td>93.25</td>\n",
       "      <td>0.0</td>\n",
       "      <td>conventional</td>\n",
       "      <td>2015</td>\n",
       "      <td>Albany</td>\n",
       "    </tr>\n",
       "    <tr>\n",
       "      <th>1</th>\n",
       "      <td>1</td>\n",
       "      <td>2015-12-20</td>\n",
       "      <td>1.35</td>\n",
       "      <td>54876.98</td>\n",
       "      <td>674.28</td>\n",
       "      <td>44638.81</td>\n",
       "      <td>58.33</td>\n",
       "      <td>9505.56</td>\n",
       "      <td>9408.07</td>\n",
       "      <td>97.49</td>\n",
       "      <td>0.0</td>\n",
       "      <td>conventional</td>\n",
       "      <td>2015</td>\n",
       "      <td>Albany</td>\n",
       "    </tr>\n",
       "    <tr>\n",
       "      <th>2</th>\n",
       "      <td>2</td>\n",
       "      <td>2015-12-13</td>\n",
       "      <td>0.93</td>\n",
       "      <td>118220.22</td>\n",
       "      <td>794.70</td>\n",
       "      <td>109149.67</td>\n",
       "      <td>130.50</td>\n",
       "      <td>8145.35</td>\n",
       "      <td>8042.21</td>\n",
       "      <td>103.14</td>\n",
       "      <td>0.0</td>\n",
       "      <td>conventional</td>\n",
       "      <td>2015</td>\n",
       "      <td>Albany</td>\n",
       "    </tr>\n",
       "    <tr>\n",
       "      <th>3</th>\n",
       "      <td>3</td>\n",
       "      <td>2015-12-06</td>\n",
       "      <td>1.08</td>\n",
       "      <td>78992.15</td>\n",
       "      <td>1132.00</td>\n",
       "      <td>71976.41</td>\n",
       "      <td>72.58</td>\n",
       "      <td>5811.16</td>\n",
       "      <td>5677.40</td>\n",
       "      <td>133.76</td>\n",
       "      <td>0.0</td>\n",
       "      <td>conventional</td>\n",
       "      <td>2015</td>\n",
       "      <td>Albany</td>\n",
       "    </tr>\n",
       "    <tr>\n",
       "      <th>4</th>\n",
       "      <td>4</td>\n",
       "      <td>2015-11-29</td>\n",
       "      <td>1.28</td>\n",
       "      <td>51039.60</td>\n",
       "      <td>941.48</td>\n",
       "      <td>43838.39</td>\n",
       "      <td>75.78</td>\n",
       "      <td>6183.95</td>\n",
       "      <td>5986.26</td>\n",
       "      <td>197.69</td>\n",
       "      <td>0.0</td>\n",
       "      <td>conventional</td>\n",
       "      <td>2015</td>\n",
       "      <td>Albany</td>\n",
       "    </tr>\n",
       "  </tbody>\n",
       "</table>\n",
       "</div>"
      ],
      "text/plain": [
       "   Unnamed: 0        Date  AveragePrice  Total Volume     4046       4225  \\\n",
       "0           0  2015-12-27          1.33      64236.62  1036.74   54454.85   \n",
       "1           1  2015-12-20          1.35      54876.98   674.28   44638.81   \n",
       "2           2  2015-12-13          0.93     118220.22   794.70  109149.67   \n",
       "3           3  2015-12-06          1.08      78992.15  1132.00   71976.41   \n",
       "4           4  2015-11-29          1.28      51039.60   941.48   43838.39   \n",
       "\n",
       "     4770  Total Bags  Small Bags  Large Bags  XLarge Bags          type  \\\n",
       "0   48.16     8696.87     8603.62       93.25          0.0  conventional   \n",
       "1   58.33     9505.56     9408.07       97.49          0.0  conventional   \n",
       "2  130.50     8145.35     8042.21      103.14          0.0  conventional   \n",
       "3   72.58     5811.16     5677.40      133.76          0.0  conventional   \n",
       "4   75.78     6183.95     5986.26      197.69          0.0  conventional   \n",
       "\n",
       "   year  region  \n",
       "0  2015  Albany  \n",
       "1  2015  Albany  \n",
       "2  2015  Albany  \n",
       "3  2015  Albany  \n",
       "4  2015  Albany  "
      ]
     },
     "execution_count": 3,
     "metadata": {},
     "output_type": "execute_result"
    }
   ],
   "source": [
    "# Check dataframe's column wise data \n",
    "\n",
    "df.head()"
   ]
  },
  {
   "cell_type": "code",
   "execution_count": 4,
   "metadata": {},
   "outputs": [
    {
     "name": "stdout",
     "output_type": "stream",
     "text": [
      "Index(['Unnamed: 0', 'Date', 'AveragePrice', 'TotalVolume', 'PU_4046',\n",
      "       'PU_4225', 'PU_4770', 'TotalBags', 'SmallBags', 'LargeBags',\n",
      "       'XLargeBags', 'type', 'year', 'region'],\n",
      "      dtype='object')\n"
     ]
    }
   ],
   "source": [
    "# Rename dataframe's columns as below\n",
    "\n",
    "df.rename(columns={'Total Volume':'TotalVolume','4046':'PU_4046','4225':'PU_4225','4770':'PU_4770','Total Bags':'TotalBags','Small Bags':'SmallBags','Large Bags':'LargeBags','XLarge Bags':'XLargeBags'}, inplace=True)\n",
    "print(df.columns)"
   ]
  },
  {
   "cell_type": "code",
   "execution_count": 5,
   "metadata": {},
   "outputs": [
    {
     "data": {
      "text/html": [
       "<div>\n",
       "<style scoped>\n",
       "    .dataframe tbody tr th:only-of-type {\n",
       "        vertical-align: middle;\n",
       "    }\n",
       "\n",
       "    .dataframe tbody tr th {\n",
       "        vertical-align: top;\n",
       "    }\n",
       "\n",
       "    .dataframe thead th {\n",
       "        text-align: right;\n",
       "    }\n",
       "</style>\n",
       "<table border=\"1\" class=\"dataframe\">\n",
       "  <thead>\n",
       "    <tr style=\"text-align: right;\">\n",
       "      <th></th>\n",
       "      <th>Unnamed: 0</th>\n",
       "      <th>Date</th>\n",
       "      <th>AveragePrice</th>\n",
       "      <th>TotalVolume</th>\n",
       "      <th>PU_4046</th>\n",
       "      <th>PU_4225</th>\n",
       "      <th>PU_4770</th>\n",
       "      <th>TotalBags</th>\n",
       "      <th>SmallBags</th>\n",
       "      <th>LargeBags</th>\n",
       "      <th>XLargeBags</th>\n",
       "      <th>type</th>\n",
       "      <th>year</th>\n",
       "      <th>region</th>\n",
       "    </tr>\n",
       "  </thead>\n",
       "  <tbody>\n",
       "    <tr>\n",
       "      <th>0</th>\n",
       "      <td>0</td>\n",
       "      <td>2015-12-27</td>\n",
       "      <td>1.33</td>\n",
       "      <td>64236.62</td>\n",
       "      <td>1036.74</td>\n",
       "      <td>54454.85</td>\n",
       "      <td>48.16</td>\n",
       "      <td>8696.87</td>\n",
       "      <td>8603.62</td>\n",
       "      <td>93.25</td>\n",
       "      <td>0.0</td>\n",
       "      <td>conventional</td>\n",
       "      <td>2015</td>\n",
       "      <td>Albany</td>\n",
       "    </tr>\n",
       "  </tbody>\n",
       "</table>\n",
       "</div>"
      ],
      "text/plain": [
       "   Unnamed: 0        Date  AveragePrice  TotalVolume  PU_4046   PU_4225  \\\n",
       "0           0  2015-12-27          1.33     64236.62  1036.74  54454.85   \n",
       "\n",
       "   PU_4770  TotalBags  SmallBags  LargeBags  XLargeBags          type  year  \\\n",
       "0    48.16    8696.87    8603.62      93.25         0.0  conventional  2015   \n",
       "\n",
       "   region  \n",
       "0  Albany  "
      ]
     },
     "execution_count": 5,
     "metadata": {},
     "output_type": "execute_result"
    }
   ],
   "source": [
    "df.head(1)"
   ]
  },
  {
   "cell_type": "code",
   "execution_count": 6,
   "metadata": {},
   "outputs": [
    {
     "name": "stdout",
     "output_type": "stream",
     "text": [
      "<class 'pandas.core.frame.DataFrame'>\n",
      "RangeIndex: 18249 entries, 0 to 18248\n",
      "Data columns (total 14 columns):\n",
      " #   Column        Non-Null Count  Dtype  \n",
      "---  ------        --------------  -----  \n",
      " 0   Unnamed: 0    18249 non-null  int64  \n",
      " 1   Date          18249 non-null  object \n",
      " 2   AveragePrice  18249 non-null  float64\n",
      " 3   TotalVolume   18249 non-null  float64\n",
      " 4   PU_4046       18249 non-null  float64\n",
      " 5   PU_4225       18249 non-null  float64\n",
      " 6   PU_4770       18249 non-null  float64\n",
      " 7   TotalBags     18249 non-null  float64\n",
      " 8   SmallBags     18249 non-null  float64\n",
      " 9   LargeBags     18249 non-null  float64\n",
      " 10  XLargeBags    18249 non-null  float64\n",
      " 11  type          18249 non-null  object \n",
      " 12  year          18249 non-null  int64  \n",
      " 13  region        18249 non-null  object \n",
      "dtypes: float64(9), int64(2), object(3)\n",
      "memory usage: 1.9+ MB\n"
     ]
    }
   ],
   "source": [
    "# Checking for null values & data types of all columns\n",
    "\n",
    "df.info()"
   ]
  },
  {
   "cell_type": "code",
   "execution_count": 82,
   "metadata": {},
   "outputs": [
    {
     "data": {
      "text/html": [
       "<div>\n",
       "<style scoped>\n",
       "    .dataframe tbody tr th:only-of-type {\n",
       "        vertical-align: middle;\n",
       "    }\n",
       "\n",
       "    .dataframe tbody tr th {\n",
       "        vertical-align: top;\n",
       "    }\n",
       "\n",
       "    .dataframe thead th {\n",
       "        text-align: right;\n",
       "    }\n",
       "</style>\n",
       "<table border=\"1\" class=\"dataframe\">\n",
       "  <thead>\n",
       "    <tr style=\"text-align: right;\">\n",
       "      <th></th>\n",
       "      <th>Date</th>\n",
       "      <th>type</th>\n",
       "      <th>region</th>\n",
       "    </tr>\n",
       "  </thead>\n",
       "  <tbody>\n",
       "    <tr>\n",
       "      <th>count</th>\n",
       "      <td>18249</td>\n",
       "      <td>18249</td>\n",
       "      <td>18249</td>\n",
       "    </tr>\n",
       "    <tr>\n",
       "      <th>unique</th>\n",
       "      <td>169</td>\n",
       "      <td>2</td>\n",
       "      <td>54</td>\n",
       "    </tr>\n",
       "    <tr>\n",
       "      <th>top</th>\n",
       "      <td>2016-09-04</td>\n",
       "      <td>conventional</td>\n",
       "      <td>Detroit</td>\n",
       "    </tr>\n",
       "    <tr>\n",
       "      <th>freq</th>\n",
       "      <td>108</td>\n",
       "      <td>9126</td>\n",
       "      <td>338</td>\n",
       "    </tr>\n",
       "  </tbody>\n",
       "</table>\n",
       "</div>"
      ],
      "text/plain": [
       "              Date          type   region\n",
       "count        18249         18249    18249\n",
       "unique         169             2       54\n",
       "top     2016-09-04  conventional  Detroit\n",
       "freq           108          9126      338"
      ]
     },
     "execution_count": 82,
     "metadata": {},
     "output_type": "execute_result"
    }
   ],
   "source": [
    "# Check distribution of categorical feature\n",
    "\n",
    "df.describe(include=['O'])"
   ]
  },
  {
   "cell_type": "markdown",
   "metadata": {},
   "source": [
    "Above count shows that 'conventional' avacado type were highly available in region Detroit on 4th Sept2016  "
   ]
  },
  {
   "cell_type": "code",
   "execution_count": 7,
   "metadata": {},
   "outputs": [
    {
     "data": {
      "image/png": "[encoded data removed]",
      "text/plain": [
       "<Figure size 432x288 with 1 Axes>"
      ]
     },
     "metadata": {
      "needs_background": "light"
     },
     "output_type": "display_data"
    }
   ],
   "source": [
    "# Analysis of target value 'class' using plot to visualise % of  \n",
    "sns.countplot(x='region', data=df);"
   ]
  },
  {
   "cell_type": "markdown",
   "metadata": {},
   "source": [
    "# Statistical Data Analysis-"
   ]
  },
  {
   "cell_type": "code",
   "execution_count": 8,
   "metadata": {},
   "outputs": [
    {
     "data": {
      "text/html": [
       "<div>\n",
       "<style scoped>\n",
       "    .dataframe tbody tr th:only-of-type {\n",
       "        vertical-align: middle;\n",
       "    }\n",
       "\n",
       "    .dataframe tbody tr th {\n",
       "        vertical-align: top;\n",
       "    }\n",
       "\n",
       "    .dataframe thead th {\n",
       "        text-align: right;\n",
       "    }\n",
       "</style>\n",
       "<table border=\"1\" class=\"dataframe\">\n",
       "  <thead>\n",
       "    <tr style=\"text-align: right;\">\n",
       "      <th></th>\n",
       "      <th>Unnamed: 0</th>\n",
       "      <th>AveragePrice</th>\n",
       "      <th>TotalVolume</th>\n",
       "      <th>PU_4046</th>\n",
       "      <th>PU_4225</th>\n",
       "      <th>PU_4770</th>\n",
       "      <th>TotalBags</th>\n",
       "      <th>SmallBags</th>\n",
       "      <th>LargeBags</th>\n",
       "      <th>XLargeBags</th>\n",
       "      <th>year</th>\n",
       "    </tr>\n",
       "  </thead>\n",
       "  <tbody>\n",
       "    <tr>\n",
       "      <th>count</th>\n",
       "      <td>18249.000000</td>\n",
       "      <td>18249.000000</td>\n",
       "      <td>1.824900e+04</td>\n",
       "      <td>1.824900e+04</td>\n",
       "      <td>1.824900e+04</td>\n",
       "      <td>1.824900e+04</td>\n",
       "      <td>1.824900e+04</td>\n",
       "      <td>1.824900e+04</td>\n",
       "      <td>1.824900e+04</td>\n",
       "      <td>18249.000000</td>\n",
       "      <td>18249.000000</td>\n",
       "    </tr>\n",
       "    <tr>\n",
       "      <th>mean</th>\n",
       "      <td>24.232232</td>\n",
       "      <td>1.405978</td>\n",
       "      <td>8.506440e+05</td>\n",
       "      <td>2.930084e+05</td>\n",
       "      <td>2.951546e+05</td>\n",
       "      <td>2.283974e+04</td>\n",
       "      <td>2.396392e+05</td>\n",
       "      <td>1.821947e+05</td>\n",
       "      <td>5.433809e+04</td>\n",
       "      <td>3106.426507</td>\n",
       "      <td>2016.147899</td>\n",
       "    </tr>\n",
       "    <tr>\n",
       "      <th>std</th>\n",
       "      <td>15.481045</td>\n",
       "      <td>0.402677</td>\n",
       "      <td>3.453545e+06</td>\n",
       "      <td>1.264989e+06</td>\n",
       "      <td>1.204120e+06</td>\n",
       "      <td>1.074641e+05</td>\n",
       "      <td>9.862424e+05</td>\n",
       "      <td>7.461785e+05</td>\n",
       "      <td>2.439660e+05</td>\n",
       "      <td>17692.894652</td>\n",
       "      <td>0.939938</td>\n",
       "    </tr>\n",
       "    <tr>\n",
       "      <th>min</th>\n",
       "      <td>0.000000</td>\n",
       "      <td>0.440000</td>\n",
       "      <td>8.456000e+01</td>\n",
       "      <td>0.000000e+00</td>\n",
       "      <td>0.000000e+00</td>\n",
       "      <td>0.000000e+00</td>\n",
       "      <td>0.000000e+00</td>\n",
       "      <td>0.000000e+00</td>\n",
       "      <td>0.000000e+00</td>\n",
       "      <td>0.000000</td>\n",
       "      <td>2015.000000</td>\n",
       "    </tr>\n",
       "    <tr>\n",
       "      <th>25%</th>\n",
       "      <td>10.000000</td>\n",
       "      <td>1.100000</td>\n",
       "      <td>1.083858e+04</td>\n",
       "      <td>8.540700e+02</td>\n",
       "      <td>3.008780e+03</td>\n",
       "      <td>0.000000e+00</td>\n",
       "      <td>5.088640e+03</td>\n",
       "      <td>2.849420e+03</td>\n",
       "      <td>1.274700e+02</td>\n",
       "      <td>0.000000</td>\n",
       "      <td>2015.000000</td>\n",
       "    </tr>\n",
       "    <tr>\n",
       "      <th>50%</th>\n",
       "      <td>24.000000</td>\n",
       "      <td>1.370000</td>\n",
       "      <td>1.073768e+05</td>\n",
       "      <td>8.645300e+03</td>\n",
       "      <td>2.906102e+04</td>\n",
       "      <td>1.849900e+02</td>\n",
       "      <td>3.974383e+04</td>\n",
       "      <td>2.636282e+04</td>\n",
       "      <td>2.647710e+03</td>\n",
       "      <td>0.000000</td>\n",
       "      <td>2016.000000</td>\n",
       "    </tr>\n",
       "    <tr>\n",
       "      <th>75%</th>\n",
       "      <td>38.000000</td>\n",
       "      <td>1.660000</td>\n",
       "      <td>4.329623e+05</td>\n",
       "      <td>1.110202e+05</td>\n",
       "      <td>1.502069e+05</td>\n",
       "      <td>6.243420e+03</td>\n",
       "      <td>1.107834e+05</td>\n",
       "      <td>8.333767e+04</td>\n",
       "      <td>2.202925e+04</td>\n",
       "      <td>132.500000</td>\n",
       "      <td>2017.000000</td>\n",
       "    </tr>\n",
       "    <tr>\n",
       "      <th>max</th>\n",
       "      <td>52.000000</td>\n",
       "      <td>3.250000</td>\n",
       "      <td>6.250565e+07</td>\n",
       "      <td>2.274362e+07</td>\n",
       "      <td>2.047057e+07</td>\n",
       "      <td>2.546439e+06</td>\n",
       "      <td>1.937313e+07</td>\n",
       "      <td>1.338459e+07</td>\n",
       "      <td>5.719097e+06</td>\n",
       "      <td>551693.650000</td>\n",
       "      <td>2018.000000</td>\n",
       "    </tr>\n",
       "  </tbody>\n",
       "</table>\n",
       "</div>"
      ],
      "text/plain": [
       "         Unnamed: 0  AveragePrice   TotalVolume       PU_4046       PU_4225  \\\n",
       "count  18249.000000  18249.000000  1.824900e+04  1.824900e+04  1.824900e+04   \n",
       "mean      24.232232      1.405978  8.506440e+05  2.930084e+05  2.951546e+05   \n",
       "std       15.481045      0.402677  3.453545e+06  1.264989e+06  1.204120e+06   \n",
       "min        0.000000      0.440000  8.456000e+01  0.000000e+00  0.000000e+00   \n",
       "25%       10.000000      1.100000  1.083858e+04  8.540700e+02  3.008780e+03   \n",
       "50%       24.000000      1.370000  1.073768e+05  8.645300e+03  2.906102e+04   \n",
       "75%       38.000000      1.660000  4.329623e+05  1.110202e+05  1.502069e+05   \n",
       "max       52.000000      3.250000  6.250565e+07  2.274362e+07  2.047057e+07   \n",
       "\n",
       "            PU_4770     TotalBags     SmallBags     LargeBags     XLargeBags  \\\n",
       "count  1.824900e+04  1.824900e+04  1.824900e+04  1.824900e+04   18249.000000   \n",
       "mean   2.283974e+04  2.396392e+05  1.821947e+05  5.433809e+04    3106.426507   \n",
       "std    1.074641e+05  9.862424e+05  7.461785e+05  2.439660e+05   17692.894652   \n",
       "min    0.000000e+00  0.000000e+00  0.000000e+00  0.000000e+00       0.000000   \n",
       "25%    0.000000e+00  5.088640e+03  2.849420e+03  1.274700e+02       0.000000   \n",
       "50%    1.849900e+02  3.974383e+04  2.636282e+04  2.647710e+03       0.000000   \n",
       "75%    6.243420e+03  1.107834e+05  8.333767e+04  2.202925e+04     132.500000   \n",
       "max    2.546439e+06  1.937313e+07  1.338459e+07  5.719097e+06  551693.650000   \n",
       "\n",
       "               year  \n",
       "count  18249.000000  \n",
       "mean    2016.147899  \n",
       "std        0.939938  \n",
       "min     2015.000000  \n",
       "25%     2015.000000  \n",
       "50%     2016.000000  \n",
       "75%     2017.000000  \n",
       "max     2018.000000  "
      ]
     },
     "execution_count": 8,
     "metadata": {},
     "output_type": "execute_result"
    }
   ],
   "source": [
    "df.describe()"
   ]
  },
  {
   "cell_type": "code",
   "execution_count": 9,
   "metadata": {},
   "outputs": [
    {
     "data": {
      "text/html": [
       "<div>\n",
       "<style scoped>\n",
       "    .dataframe tbody tr th:only-of-type {\n",
       "        vertical-align: middle;\n",
       "    }\n",
       "\n",
       "    .dataframe tbody tr th {\n",
       "        vertical-align: top;\n",
       "    }\n",
       "\n",
       "    .dataframe thead th {\n",
       "        text-align: right;\n",
       "    }\n",
       "</style>\n",
       "<table border=\"1\" class=\"dataframe\">\n",
       "  <thead>\n",
       "    <tr style=\"text-align: right;\">\n",
       "      <th></th>\n",
       "      <th>Unnamed: 0</th>\n",
       "      <th>Date</th>\n",
       "      <th>AveragePrice</th>\n",
       "      <th>TotalVolume</th>\n",
       "      <th>PU_4046</th>\n",
       "      <th>PU_4225</th>\n",
       "      <th>PU_4770</th>\n",
       "      <th>TotalBags</th>\n",
       "      <th>SmallBags</th>\n",
       "      <th>LargeBags</th>\n",
       "      <th>XLargeBags</th>\n",
       "      <th>type</th>\n",
       "      <th>year</th>\n",
       "      <th>region</th>\n",
       "    </tr>\n",
       "  </thead>\n",
       "  <tbody>\n",
       "    <tr>\n",
       "      <th>0</th>\n",
       "      <td>0</td>\n",
       "      <td>2015-12-27</td>\n",
       "      <td>1.33</td>\n",
       "      <td>64236.62</td>\n",
       "      <td>1036.74</td>\n",
       "      <td>54454.85</td>\n",
       "      <td>48.16</td>\n",
       "      <td>8696.87</td>\n",
       "      <td>8603.62</td>\n",
       "      <td>93.25</td>\n",
       "      <td>0.0</td>\n",
       "      <td>conventional</td>\n",
       "      <td>2015</td>\n",
       "      <td>Albany</td>\n",
       "    </tr>\n",
       "    <tr>\n",
       "      <th>1</th>\n",
       "      <td>1</td>\n",
       "      <td>2015-12-20</td>\n",
       "      <td>1.35</td>\n",
       "      <td>54876.98</td>\n",
       "      <td>674.28</td>\n",
       "      <td>44638.81</td>\n",
       "      <td>58.33</td>\n",
       "      <td>9505.56</td>\n",
       "      <td>9408.07</td>\n",
       "      <td>97.49</td>\n",
       "      <td>0.0</td>\n",
       "      <td>conventional</td>\n",
       "      <td>2015</td>\n",
       "      <td>Albany</td>\n",
       "    </tr>\n",
       "  </tbody>\n",
       "</table>\n",
       "</div>"
      ],
      "text/plain": [
       "   Unnamed: 0        Date  AveragePrice  TotalVolume  PU_4046   PU_4225  \\\n",
       "0           0  2015-12-27          1.33     64236.62  1036.74  54454.85   \n",
       "1           1  2015-12-20          1.35     54876.98   674.28  44638.81   \n",
       "\n",
       "   PU_4770  TotalBags  SmallBags  LargeBags  XLargeBags          type  year  \\\n",
       "0    48.16    8696.87    8603.62      93.25         0.0  conventional  2015   \n",
       "1    58.33    9505.56    9408.07      97.49         0.0  conventional  2015   \n",
       "\n",
       "   region  \n",
       "0  Albany  \n",
       "1  Albany  "
      ]
     },
     "execution_count": 9,
     "metadata": {},
     "output_type": "execute_result"
    }
   ],
   "source": [
    "df.head(2)"
   ]
  },
  {
   "cell_type": "code",
   "execution_count": 10,
   "metadata": {},
   "outputs": [
    {
     "name": "stdout",
     "output_type": "stream",
     "text": [
      "type\n",
      "conventional    9126\n",
      "organic         9123\n",
      "dtype: int64\n"
     ]
    }
   ],
   "source": [
    "# class distribution of target \n",
    "print(df.groupby('type').size())"
   ]
  },
  {
   "cell_type": "code",
   "execution_count": 11,
   "metadata": {},
   "outputs": [
    {
     "name": "stdout",
     "output_type": "stream",
     "text": [
      "year\n",
      "2015    5615\n",
      "2016    5616\n",
      "2017    5722\n",
      "2018    1296\n",
      "dtype: int64\n"
     ]
    }
   ],
   "source": [
    "# class distribution of target \n",
    "print(df.groupby('year').size())"
   ]
  },
  {
   "cell_type": "markdown",
   "metadata": {},
   "source": [
    "Above count shows that in year 2017 more avacado available "
   ]
  },
  {
   "cell_type": "code",
   "execution_count": 12,
   "metadata": {},
   "outputs": [
    {
     "name": "stdout",
     "output_type": "stream",
     "text": [
      "region\n",
      "Albany                 338\n",
      "Atlanta                338\n",
      "BaltimoreWashington    338\n",
      "Boise                  338\n",
      "Boston                 338\n",
      "BuffaloRochester       338\n",
      "California             338\n",
      "Charlotte              338\n",
      "Chicago                338\n",
      "CincinnatiDayton       338\n",
      "Columbus               338\n",
      "DallasFtWorth          338\n",
      "Denver                 338\n",
      "Detroit                338\n",
      "GrandRapids            338\n",
      "GreatLakes             338\n",
      "HarrisburgScranton     338\n",
      "HartfordSpringfield    338\n",
      "Houston                338\n",
      "Indianapolis           338\n",
      "Jacksonville           338\n",
      "LasVegas               338\n",
      "LosAngeles             338\n",
      "Louisville             338\n",
      "MiamiFtLauderdale      338\n",
      "Midsouth               338\n",
      "Nashville              338\n",
      "NewOrleansMobile       338\n",
      "NewYork                338\n",
      "Northeast              338\n",
      "NorthernNewEngland     338\n",
      "Orlando                338\n",
      "Philadelphia           338\n",
      "PhoenixTucson          338\n",
      "Pittsburgh             338\n",
      "Plains                 338\n",
      "Portland               338\n",
      "RaleighGreensboro      338\n",
      "RichmondNorfolk        338\n",
      "Roanoke                338\n",
      "Sacramento             338\n",
      "SanDiego               338\n",
      "SanFrancisco           338\n",
      "Seattle                338\n",
      "SouthCarolina          338\n",
      "SouthCentral           338\n",
      "Southeast              338\n",
      "Spokane                338\n",
      "StLouis                338\n",
      "Syracuse               338\n",
      "Tampa                  338\n",
      "TotalUS                338\n",
      "West                   338\n",
      "WestTexNewMexico       335\n",
      "dtype: int64\n"
     ]
    }
   ],
   "source": [
    "# class distribution of target \n",
    "print(df.groupby('region').size())"
   ]
  },
  {
   "cell_type": "markdown",
   "metadata": {},
   "source": [
    "Its shows all region having equal avacado availability except 'WestTexNewMexico'.       "
   ]
  },
  {
   "cell_type": "markdown",
   "metadata": {},
   "source": [
    "# Convert all columns datatypes into interger using LabelEncoder"
   ]
  },
  {
   "cell_type": "code",
   "execution_count": 13,
   "metadata": {},
   "outputs": [],
   "source": [
    "# Use for loop to convert all data types into interger data types for all columns\n",
    "\n",
    "from sklearn.preprocessing import LabelEncoder\n",
    "label_encoders = LabelEncoder()\n",
    "\n",
    "label_encoders = {}\n",
    "categorical_columns = ['Date','AveragePrice','TotalVolume','PU_4046','PU_4225','PU_4770','TotalBags','SmallBags','LargeBags','XLargeBags','type','year','region']  # need to use columns_names for pandas & for numpy use range(n) instead\n",
    "\n",
    "for column in categorical_columns:\n",
    "    label_encoders[column] = LabelEncoder()\n",
    "    df[column] = label_encoders[column].fit_transform(df[column])  # if numpy instead of pandas use X[:, column] instead"
   ]
  },
  {
   "cell_type": "code",
   "execution_count": 14,
   "metadata": {},
   "outputs": [
    {
     "name": "stdout",
     "output_type": "stream",
     "text": [
      "<class 'pandas.core.frame.DataFrame'>\n",
      "RangeIndex: 18249 entries, 0 to 18248\n",
      "Data columns (total 14 columns):\n",
      " #   Column        Non-Null Count  Dtype\n",
      "---  ------        --------------  -----\n",
      " 0   Unnamed: 0    18249 non-null  int64\n",
      " 1   Date          18249 non-null  int32\n",
      " 2   AveragePrice  18249 non-null  int64\n",
      " 3   TotalVolume   18249 non-null  int64\n",
      " 4   PU_4046       18249 non-null  int64\n",
      " 5   PU_4225       18249 non-null  int64\n",
      " 6   PU_4770       18249 non-null  int64\n",
      " 7   TotalBags     18249 non-null  int64\n",
      " 8   SmallBags     18249 non-null  int64\n",
      " 9   LargeBags     18249 non-null  int64\n",
      " 10  XLargeBags    18249 non-null  int64\n",
      " 11  type          18249 non-null  int32\n",
      " 12  year          18249 non-null  int64\n",
      " 13  region        18249 non-null  int32\n",
      "dtypes: int32(3), int64(11)\n",
      "memory usage: 1.7 MB\n"
     ]
    }
   ],
   "source": [
    "# Checking datatypes after using label encoder for all columns\n",
    "df.info()"
   ]
  },
  {
   "cell_type": "code",
   "execution_count": 15,
   "metadata": {},
   "outputs": [
    {
     "data": {
      "text/html": [
       "<div>\n",
       "<style scoped>\n",
       "    .dataframe tbody tr th:only-of-type {\n",
       "        vertical-align: middle;\n",
       "    }\n",
       "\n",
       "    .dataframe tbody tr th {\n",
       "        vertical-align: top;\n",
       "    }\n",
       "\n",
       "    .dataframe thead th {\n",
       "        text-align: right;\n",
       "    }\n",
       "</style>\n",
       "<table border=\"1\" class=\"dataframe\">\n",
       "  <thead>\n",
       "    <tr style=\"text-align: right;\">\n",
       "      <th></th>\n",
       "      <th>Unnamed: 0</th>\n",
       "      <th>Date</th>\n",
       "      <th>AveragePrice</th>\n",
       "      <th>TotalVolume</th>\n",
       "      <th>PU_4046</th>\n",
       "      <th>PU_4225</th>\n",
       "      <th>PU_4770</th>\n",
       "      <th>TotalBags</th>\n",
       "      <th>SmallBags</th>\n",
       "      <th>LargeBags</th>\n",
       "      <th>XLargeBags</th>\n",
       "      <th>type</th>\n",
       "      <th>year</th>\n",
       "      <th>region</th>\n",
       "    </tr>\n",
       "  </thead>\n",
       "  <tbody>\n",
       "    <tr>\n",
       "      <th>0</th>\n",
       "      <td>0</td>\n",
       "      <td>51</td>\n",
       "      <td>86</td>\n",
       "      <td>7931</td>\n",
       "      <td>4383</td>\n",
       "      <td>10872</td>\n",
       "      <td>1400</td>\n",
       "      <td>5780</td>\n",
       "      <td>5782</td>\n",
       "      <td>1264</td>\n",
       "      <td>0</td>\n",
       "      <td>0</td>\n",
       "      <td>0</td>\n",
       "      <td>0</td>\n",
       "    </tr>\n",
       "    <tr>\n",
       "      <th>1</th>\n",
       "      <td>1</td>\n",
       "      <td>50</td>\n",
       "      <td>88</td>\n",
       "      <td>7645</td>\n",
       "      <td>3616</td>\n",
       "      <td>10213</td>\n",
       "      <td>1570</td>\n",
       "      <td>6013</td>\n",
       "      <td>5972</td>\n",
       "      <td>1288</td>\n",
       "      <td>0</td>\n",
       "      <td>0</td>\n",
       "      <td>0</td>\n",
       "      <td>0</td>\n",
       "    </tr>\n",
       "  </tbody>\n",
       "</table>\n",
       "</div>"
      ],
      "text/plain": [
       "   Unnamed: 0  Date  AveragePrice  TotalVolume  PU_4046  PU_4225  PU_4770  \\\n",
       "0           0    51            86         7931     4383    10872     1400   \n",
       "1           1    50            88         7645     3616    10213     1570   \n",
       "\n",
       "   TotalBags  SmallBags  LargeBags  XLargeBags  type  year  region  \n",
       "0       5780       5782       1264           0     0     0       0  \n",
       "1       6013       5972       1288           0     0     0       0  "
      ]
     },
     "execution_count": 15,
     "metadata": {},
     "output_type": "execute_result"
    }
   ],
   "source": [
    "df.head(2)"
   ]
  },
  {
   "cell_type": "markdown",
   "metadata": {},
   "source": [
    "# Statistical Data Analysis -"
   ]
  },
  {
   "cell_type": "code",
   "execution_count": 16,
   "metadata": {},
   "outputs": [
    {
     "data": {
      "text/plain": [
       "(18249, 14)"
      ]
     },
     "execution_count": 16,
     "metadata": {},
     "output_type": "execute_result"
    }
   ],
   "source": [
    "df.shape"
   ]
  },
  {
   "cell_type": "code",
   "execution_count": 17,
   "metadata": {
    "scrolled": true
   },
   "outputs": [
    {
     "data": {
      "text/html": [
       "<div>\n",
       "<style scoped>\n",
       "    .dataframe tbody tr th:only-of-type {\n",
       "        vertical-align: middle;\n",
       "    }\n",
       "\n",
       "    .dataframe tbody tr th {\n",
       "        vertical-align: top;\n",
       "    }\n",
       "\n",
       "    .dataframe thead th {\n",
       "        text-align: right;\n",
       "    }\n",
       "</style>\n",
       "<table border=\"1\" class=\"dataframe\">\n",
       "  <thead>\n",
       "    <tr style=\"text-align: right;\">\n",
       "      <th></th>\n",
       "      <th>Unnamed: 0</th>\n",
       "      <th>Date</th>\n",
       "      <th>AveragePrice</th>\n",
       "      <th>TotalVolume</th>\n",
       "      <th>PU_4046</th>\n",
       "      <th>PU_4225</th>\n",
       "      <th>PU_4770</th>\n",
       "      <th>TotalBags</th>\n",
       "      <th>SmallBags</th>\n",
       "      <th>LargeBags</th>\n",
       "      <th>XLargeBags</th>\n",
       "      <th>type</th>\n",
       "      <th>year</th>\n",
       "      <th>region</th>\n",
       "    </tr>\n",
       "  </thead>\n",
       "  <tbody>\n",
       "    <tr>\n",
       "      <th>count</th>\n",
       "      <td>18249.000000</td>\n",
       "      <td>18249.000000</td>\n",
       "      <td>18249.000000</td>\n",
       "      <td>18249.000000</td>\n",
       "      <td>18249.000000</td>\n",
       "      <td>18249.000000</td>\n",
       "      <td>18249.000000</td>\n",
       "      <td>18249.000000</td>\n",
       "      <td>18249.000000</td>\n",
       "      <td>18249.000000</td>\n",
       "      <td>18249.000000</td>\n",
       "      <td>18249.000000</td>\n",
       "      <td>18249.000000</td>\n",
       "      <td>18249.000000</td>\n",
       "    </tr>\n",
       "    <tr>\n",
       "      <th>mean</th>\n",
       "      <td>24.232232</td>\n",
       "      <td>83.997096</td>\n",
       "      <td>93.595265</td>\n",
       "      <td>9114.688312</td>\n",
       "      <td>8601.745356</td>\n",
       "      <td>8984.864376</td>\n",
       "      <td>4029.833142</td>\n",
       "      <td>8982.184777</td>\n",
       "      <td>8263.606115</td>\n",
       "      <td>6261.255850</td>\n",
       "      <td>893.316894</td>\n",
       "      <td>0.499918</td>\n",
       "      <td>1.147899</td>\n",
       "      <td>26.495644</td>\n",
       "    </tr>\n",
       "    <tr>\n",
       "      <th>std</th>\n",
       "      <td>15.481045</td>\n",
       "      <td>48.787638</td>\n",
       "      <td>40.253995</td>\n",
       "      <td>5265.433348</td>\n",
       "      <td>5232.888735</td>\n",
       "      <td>5258.854866</td>\n",
       "      <td>3996.027809</td>\n",
       "      <td>5253.461654</td>\n",
       "      <td>5168.860788</td>\n",
       "      <td>4852.398211</td>\n",
       "      <td>1569.392283</td>\n",
       "      <td>0.500014</td>\n",
       "      <td>0.939938</td>\n",
       "      <td>15.583788</td>\n",
       "    </tr>\n",
       "    <tr>\n",
       "      <th>min</th>\n",
       "      <td>0.000000</td>\n",
       "      <td>0.000000</td>\n",
       "      <td>0.000000</td>\n",
       "      <td>0.000000</td>\n",
       "      <td>0.000000</td>\n",
       "      <td>0.000000</td>\n",
       "      <td>0.000000</td>\n",
       "      <td>0.000000</td>\n",
       "      <td>0.000000</td>\n",
       "      <td>0.000000</td>\n",
       "      <td>0.000000</td>\n",
       "      <td>0.000000</td>\n",
       "      <td>0.000000</td>\n",
       "      <td>0.000000</td>\n",
       "    </tr>\n",
       "    <tr>\n",
       "      <th>25%</th>\n",
       "      <td>10.000000</td>\n",
       "      <td>42.000000</td>\n",
       "      <td>63.000000</td>\n",
       "      <td>4554.000000</td>\n",
       "      <td>4032.000000</td>\n",
       "      <td>4426.000000</td>\n",
       "      <td>0.000000</td>\n",
       "      <td>4414.000000</td>\n",
       "      <td>3651.000000</td>\n",
       "      <td>1479.000000</td>\n",
       "      <td>0.000000</td>\n",
       "      <td>0.000000</td>\n",
       "      <td>0.000000</td>\n",
       "      <td>13.000000</td>\n",
       "    </tr>\n",
       "    <tr>\n",
       "      <th>50%</th>\n",
       "      <td>24.000000</td>\n",
       "      <td>84.000000</td>\n",
       "      <td>90.000000</td>\n",
       "      <td>9113.000000</td>\n",
       "      <td>8579.000000</td>\n",
       "      <td>8979.000000</td>\n",
       "      <td>2993.000000</td>\n",
       "      <td>8973.000000</td>\n",
       "      <td>8199.000000</td>\n",
       "      <td>5969.000000</td>\n",
       "      <td>0.000000</td>\n",
       "      <td>0.000000</td>\n",
       "      <td>1.000000</td>\n",
       "      <td>26.000000</td>\n",
       "    </tr>\n",
       "    <tr>\n",
       "      <th>75%</th>\n",
       "      <td>38.000000</td>\n",
       "      <td>126.000000</td>\n",
       "      <td>119.000000</td>\n",
       "      <td>13675.000000</td>\n",
       "      <td>13139.000000</td>\n",
       "      <td>13540.000000</td>\n",
       "      <td>7508.000000</td>\n",
       "      <td>13534.000000</td>\n",
       "      <td>12758.000000</td>\n",
       "      <td>10520.000000</td>\n",
       "      <td>1270.000000</td>\n",
       "      <td>1.000000</td>\n",
       "      <td>2.000000</td>\n",
       "      <td>40.000000</td>\n",
       "    </tr>\n",
       "    <tr>\n",
       "      <th>max</th>\n",
       "      <td>52.000000</td>\n",
       "      <td>168.000000</td>\n",
       "      <td>258.000000</td>\n",
       "      <td>18236.000000</td>\n",
       "      <td>17701.000000</td>\n",
       "      <td>18102.000000</td>\n",
       "      <td>12070.000000</td>\n",
       "      <td>18096.000000</td>\n",
       "      <td>17320.000000</td>\n",
       "      <td>15081.000000</td>\n",
       "      <td>5587.000000</td>\n",
       "      <td>1.000000</td>\n",
       "      <td>3.000000</td>\n",
       "      <td>53.000000</td>\n",
       "    </tr>\n",
       "  </tbody>\n",
       "</table>\n",
       "</div>"
      ],
      "text/plain": [
       "         Unnamed: 0          Date  AveragePrice   TotalVolume       PU_4046  \\\n",
       "count  18249.000000  18249.000000  18249.000000  18249.000000  18249.000000   \n",
       "mean      24.232232     83.997096     93.595265   9114.688312   8601.745356   \n",
       "std       15.481045     48.787638     40.253995   5265.433348   5232.888735   \n",
       "min        0.000000      0.000000      0.000000      0.000000      0.000000   \n",
       "25%       10.000000     42.000000     63.000000   4554.000000   4032.000000   \n",
       "50%       24.000000     84.000000     90.000000   9113.000000   8579.000000   \n",
       "75%       38.000000    126.000000    119.000000  13675.000000  13139.000000   \n",
       "max       52.000000    168.000000    258.000000  18236.000000  17701.000000   \n",
       "\n",
       "            PU_4225       PU_4770     TotalBags     SmallBags     LargeBags  \\\n",
       "count  18249.000000  18249.000000  18249.000000  18249.000000  18249.000000   \n",
       "mean    8984.864376   4029.833142   8982.184777   8263.606115   6261.255850   \n",
       "std     5258.854866   3996.027809   5253.461654   5168.860788   4852.398211   \n",
       "min        0.000000      0.000000      0.000000      0.000000      0.000000   \n",
       "25%     4426.000000      0.000000   4414.000000   3651.000000   1479.000000   \n",
       "50%     8979.000000   2993.000000   8973.000000   8199.000000   5969.000000   \n",
       "75%    13540.000000   7508.000000  13534.000000  12758.000000  10520.000000   \n",
       "max    18102.000000  12070.000000  18096.000000  17320.000000  15081.000000   \n",
       "\n",
       "         XLargeBags          type          year        region  \n",
       "count  18249.000000  18249.000000  18249.000000  18249.000000  \n",
       "mean     893.316894      0.499918      1.147899     26.495644  \n",
       "std     1569.392283      0.500014      0.939938     15.583788  \n",
       "min        0.000000      0.000000      0.000000      0.000000  \n",
       "25%        0.000000      0.000000      0.000000     13.000000  \n",
       "50%        0.000000      0.000000      1.000000     26.000000  \n",
       "75%     1270.000000      1.000000      2.000000     40.000000  \n",
       "max     5587.000000      1.000000      3.000000     53.000000  "
      ]
     },
     "execution_count": 17,
     "metadata": {},
     "output_type": "execute_result"
    }
   ],
   "source": [
    "df.describe()"
   ]
  },
  {
   "cell_type": "markdown",
   "metadata": {},
   "source": [
    "# EDA - Analyse the data set stats using plots"
   ]
  },
  {
   "cell_type": "code",
   "execution_count": 18,
   "metadata": {},
   "outputs": [
    {
     "data": {
      "text/plain": [
       "<matplotlib.axes._subplots.AxesSubplot at 0x2bdae0fa288>"
      ]
     },
     "execution_count": 18,
     "metadata": {},
     "output_type": "execute_result"
    },
    {
     "data": {
      "image/png": "[encoded data removed]",
      "text/plain": [
       "<Figure size 432x288 with 2 Axes>"
      ]
     },
     "metadata": {
      "needs_background": "light"
     },
     "output_type": "display_data"
    }
   ],
   "source": [
    "# checking correlation using heatmap\n",
    "dfcor=df.corr()\n",
    "sns.heatmap(dfcor)"
   ]
  },
  {
   "cell_type": "markdown",
   "metadata": {},
   "source": [
    "Above correlation plot shows that column name 'TotalVolume','PU_4046','PU_4225','PU_4770','TotalBags','SmallBags','LargeBags','XLargeBags'\n",
    "are correlated."
   ]
  },
  {
   "cell_type": "markdown",
   "metadata": {},
   "source": [
    "# Data Visualization - Unvariate plot / Multivariate Plots"
   ]
  },
  {
   "cell_type": "code",
   "execution_count": 19,
   "metadata": {},
   "outputs": [
    {
     "data": {
      "image/png": "[encoded data removed]",
      "text/plain": [
       "<Figure size 432x288 with 15 Axes>"
      ]
     },
     "metadata": {
      "needs_background": "light"
     },
     "output_type": "display_data"
    }
   ],
   "source": [
    "# Data Visualization - Unvariate plot (box and whisker plots)\n",
    "df.plot(kind='box', subplots=True, layout=(3,5), sharex=False, sharey=False)\n",
    "plt.show()"
   ]
  },
  {
   "cell_type": "markdown",
   "metadata": {},
   "source": [
    "Above plots shows no outliers there in feature dataset. "
   ]
  },
  {
   "cell_type": "code",
   "execution_count": 20,
   "metadata": {},
   "outputs": [
    {
     "data": {
      "text/plain": [
       "Unnamed: 0      0.108334\n",
       "Date            0.000117\n",
       "AveragePrice    0.577300\n",
       "TotalVolume     0.000753\n",
       "PU_4046         0.016272\n",
       "PU_4225         0.003850\n",
       "PU_4770         0.510735\n",
       "TotalBags       0.007023\n",
       "SmallBags       0.048568\n",
       "LargeBags       0.188522\n",
       "XLargeBags      1.610157\n",
       "type            0.000329\n",
       "year            0.215339\n",
       "region          0.000030\n",
       "dtype: float64"
      ]
     },
     "execution_count": 20,
     "metadata": {},
     "output_type": "execute_result"
    }
   ],
   "source": [
    "# Checking for skewness for each of the column\n",
    "df.skew()"
   ]
  },
  {
   "cell_type": "markdown",
   "metadata": {},
   "source": [
    "Above results shows skewness is there only in XLargeBags column & no skewness in other columns,hence need to consider all columns in feature list.    "
   ]
  },
  {
   "cell_type": "code",
   "execution_count": 21,
   "metadata": {},
   "outputs": [],
   "source": [
    "# Preparing X & y \n",
    "\n",
    "import pandas as pd\n",
    "X = df[['AveragePrice','TotalVolume','PU_4046','PU_4225','PU_4770','TotalBags','SmallBags','LargeBags','XLargeBags']]\n",
    "y = df.region        # y is a vector, hence we use dot to access 'label'"
   ]
  },
  {
   "cell_type": "code",
   "execution_count": 22,
   "metadata": {},
   "outputs": [
    {
     "name": "stdout",
     "output_type": "stream",
     "text": [
      "<class 'pandas.core.frame.DataFrame'>\n",
      "(18249, 9)\n"
     ]
    }
   ],
   "source": [
    "print(type(X))\n",
    "print(X.shape)"
   ]
  },
  {
   "cell_type": "code",
   "execution_count": 23,
   "metadata": {},
   "outputs": [
    {
     "name": "stdout",
     "output_type": "stream",
     "text": [
      "<class 'pandas.core.series.Series'>\n",
      "(18249,)\n"
     ]
    }
   ],
   "source": [
    "print(type(y))\n",
    "print(y.shape)"
   ]
  },
  {
   "cell_type": "code",
   "execution_count": 24,
   "metadata": {},
   "outputs": [],
   "source": [
    "# Splitting X and y into training and testing sets\n",
    "\n",
    "from sklearn.model_selection import train_test_split\n",
    "X_train, X_test, y_train, y_test = train_test_split(X, y, test_size=0.30, random_state=42)"
   ]
  },
  {
   "cell_type": "code",
   "execution_count": 25,
   "metadata": {},
   "outputs": [
    {
     "data": {
      "text/plain": [
       "LogisticRegression(C=1.0, class_weight=None, dual=False, fit_intercept=True,\n",
       "                   intercept_scaling=1, l1_ratio=None, max_iter=100,\n",
       "                   multi_class='auto', n_jobs=None, penalty='l2',\n",
       "                   random_state=None, solver='lbfgs', tol=0.0001, verbose=0,\n",
       "                   warm_start=False)"
      ]
     },
     "execution_count": 25,
     "metadata": {},
     "output_type": "execute_result"
    }
   ],
   "source": [
    "# train a logistic regression model on the training set as target(region) is having categorical values.\n",
    "from sklearn.linear_model import LogisticRegression\n",
    "\n",
    "logreg = LogisticRegression()        # instantiate model\n",
    "logreg.fit(X_train, y_train)         # fit model"
   ]
  },
  {
   "cell_type": "code",
   "execution_count": 26,
   "metadata": {},
   "outputs": [
    {
     "name": "stdout",
     "output_type": "stream",
     "text": [
      "0.27671232876712326\n"
     ]
    }
   ],
   "source": [
    "# make class predictions for the testing set\n",
    "from sklearn import metrics\n",
    "\n",
    "y_pred_class = logreg.predict(X_test)\n",
    "\n",
    "# Classification accuracy: percentage of correct predictions\n",
    "print(metrics.accuracy_score(y_test, y_pred_class))"
   ]
  },
  {
   "cell_type": "code",
   "execution_count": 27,
   "metadata": {},
   "outputs": [],
   "source": [
    "# Load libraries\n",
    "\n",
    "from pandas import read_csv\n",
    "from sklearn.model_selection import train_test_split\n",
    "from sklearn.model_selection import cross_val_score\n",
    "from sklearn.metrics import classification_report\n",
    "from sklearn.metrics import confusion_matrix\n",
    "from sklearn.metrics import accuracy_score\n",
    "from sklearn.linear_model import LogisticRegression\n",
    "from sklearn.tree import DecisionTreeClassifier\n",
    "from sklearn.neighbors import KNeighborsClassifier\n",
    "from sklearn.discriminant_analysis import LinearDiscriminantAnalysis\n",
    "from sklearn.naive_bayes import GaussianNB\n",
    "from sklearn.svm import SVC"
   ]
  },
  {
   "cell_type": "code",
   "execution_count": 28,
   "metadata": {},
   "outputs": [
    {
     "name": "stdout",
     "output_type": "stream",
     "text": [
      "GridSearchCV(cv=None, error_score=nan,\n",
      "             estimator=Ridge(alpha=1.0, copy_X=True, fit_intercept=True,\n",
      "                             max_iter=None, normalize=False, random_state=None,\n",
      "                             solver='auto', tol=0.001),\n",
      "             iid='deprecated', n_jobs=None,\n",
      "             param_grid={'alpha': array([1.e+00, 1.e-01, 1.e-02, 1.e-03, 1.e-04, 0.e+00])},\n",
      "             pre_dispatch='2*n_jobs', refit=True, return_train_score=False,\n",
      "             scoring=None, verbose=0)\n",
      "0.48232313841634855\n",
      "0.0001\n"
     ]
    }
   ],
   "source": [
    "# Grid Search for Algorithm Tuning\n",
    "\n",
    "import numpy as np\n",
    "from sklearn import datasets\n",
    "from sklearn.linear_model import Ridge\n",
    "from sklearn.model_selection import GridSearchCV\n",
    "# load the diabetes datasets\n",
    "dataset = datasets.load_diabetes()\n",
    "# prepare a range of alpha values to test\n",
    "alphas = np.array([1,0.1,0.01,0.001,0.0001,0])\n",
    "# create and fit a ridge regression model, testing each alpha\n",
    "model = Ridge()\n",
    "grid = GridSearchCV(estimator=model, param_grid=dict(alpha=alphas))\n",
    "grid.fit(dataset.data, dataset.target)\n",
    "print(grid)\n",
    "# summarize the results of the grid search\n",
    "print(grid.best_score_)\n",
    "print(grid.best_estimator_.alpha)"
   ]
  },
  {
   "cell_type": "code",
   "execution_count": 29,
   "metadata": {},
   "outputs": [
    {
     "name": "stdout",
     "output_type": "stream",
     "text": [
      "RandomizedSearchCV(cv=None, error_score=nan,\n",
      "                   estimator=Ridge(alpha=1.0, copy_X=True, fit_intercept=True,\n",
      "                                   max_iter=None, normalize=False,\n",
      "                                   random_state=None, solver='auto',\n",
      "                                   tol=0.001),\n",
      "                   iid='deprecated', n_iter=100, n_jobs=None,\n",
      "                   param_distributions={'alpha': <scipy.stats._distn_infrastructure.rv_frozen object at 0x000002BDAE902BC8>},\n",
      "                   pre_dispatch='2*n_jobs', random_state=None, refit=True,\n",
      "                   return_train_score=False, scoring=None, verbose=0)\n",
      "0.48091804477655664\n",
      "0.034406762246746436\n"
     ]
    }
   ],
   "source": [
    "# Randomized Search for Algorithm Tuning\n",
    "\n",
    "import numpy as np\n",
    "from scipy.stats import uniform as sp_rand\n",
    "from sklearn import datasets\n",
    "from sklearn.linear_model import Ridge\n",
    "from sklearn.model_selection import RandomizedSearchCV\n",
    "# load the diabetes datasets\n",
    "dataset = datasets.load_diabetes()\n",
    "# prepare a uniform distribution to sample for the alpha parameter\n",
    "param_grid = {'alpha': sp_rand()}\n",
    "# create and fit a ridge regression model, testing random alpha values\n",
    "model = Ridge()\n",
    "rsearch = RandomizedSearchCV(estimator=model, param_distributions=param_grid, n_iter=100)\n",
    "rsearch.fit(dataset.data, dataset.target)\n",
    "print(rsearch)\n",
    "# summarize the results of the random parameter search\n",
    "print(rsearch.best_score_)\n",
    "print(rsearch.best_estimator_.alpha)"
   ]
  },
  {
   "cell_type": "code",
   "execution_count": 40,
   "metadata": {},
   "outputs": [
    {
     "name": "stdout",
     "output_type": "stream",
     "text": [
      "LR: 0.254421 (0.008443)\n",
      "LDA: 0.273679 (0.008702)\n",
      "KNN: 0.818614 (0.010950)\n",
      "CART: 0.775480 (0.009645)\n",
      "NB: 0.051041 (0.003841)\n",
      "SVM: 0.019806 (0.000356)\n"
     ]
    }
   ],
   "source": [
    "# Spot Check Algorithms\n",
    "\n",
    "models = []\n",
    "models.append(('LR', LogisticRegression(solver='liblinear', multi_class='ovr')))\n",
    "models.append(('LDA', LinearDiscriminantAnalysis()))\n",
    "models.append(('KNN', KNeighborsClassifier()))\n",
    "models.append(('CART', DecisionTreeClassifier()))\n",
    "models.append(('NB', GaussianNB()))\n",
    "models.append(('SVM', SVC(gamma='auto')))\n",
    "# evaluate each model in turn\n",
    "results = []\n",
    "names = []\n",
    "for name, model in models:    \n",
    "    kfold = StratifiedKFold(n_splits=10, random_state=42, shuffle=True)\n",
    "    cv_results = cross_val_score(model, X_train, y_train, cv=kfold, scoring='accuracy')\n",
    "    results.append(cv_results)\n",
    "    names.append(name)\n",
    "    print('%s: %f (%f)' % (name, cv_results.mean(), cv_results.std()))"
   ]
  },
  {
   "cell_type": "code",
   "execution_count": 34,
   "metadata": {},
   "outputs": [],
   "source": [
    "# Import required libraries \n",
    "\n",
    "import seaborn as sb\n",
    "from sklearn.naive_bayes import MultinomialNB\n",
    "from sklearn.svm import SVC\n",
    "from sklearn.tree import DecisionTreeClassifier\n",
    "from sklearn.neighbors import KNeighborsClassifier\n",
    "\n",
    "# From sklearn matrics import accuracy_score,confusion_matrix,classification_reports\n",
    "# Cross validation Libraries\n",
    "from sklearn.model_selection import cross_val_score\n",
    "from sklearn.model_selection import cross_val_predict\n",
    "from sklearn.metrics import confusion_matrix\n",
    "\n",
    "import warnings\n",
    "warnings.filterwarnings('ignore')"
   ]
  },
  {
   "cell_type": "code",
   "execution_count": 35,
   "metadata": {},
   "outputs": [
    {
     "name": "stdout",
     "output_type": "stream",
     "text": [
      "accuracy score= [0.73274918 0.77765608 0.69769989 0.68674699 0.70098576 0.70536692\n",
      " 0.61336254 0.72946331 0.76889376 0.59210526 0.43201754 0.49780702\n",
      " 0.37828947 0.58114035 0.57565789 0.55153509 0.48245614 0.56578947\n",
      " 0.62061404 0.53399123]\n",
      "mean scores <built-in method mean of numpy.ndarray object at 0x000002BDAE9158A0>\n",
      "std 0.10987456173841421\n",
      "Y prediction values\n",
      "[ 0  0  0 ... 44  2  2]\n"
     ]
    },
    {
     "data": {
      "text/plain": [
       "0.6112663707600416"
      ]
     },
     "execution_count": 35,
     "metadata": {},
     "output_type": "execute_result"
    }
   ],
   "source": [
    "# scoring parameters for classification\n",
    "# scoring =[accuracy,f1,f1_micro,f1_macro,roc_auc]\n",
    "# scoring =[r2,neg_mean_squared_error,explained_variance]\n",
    "\n",
    "sv=SVC()\n",
    "score=cross_val_score(sv,X,y,cv=20,scoring='accuracy')\n",
    "print('accuracy score=',score)\n",
    "print ('mean scores',score.mean)\n",
    "print('std',score.std())\n",
    "y_pred = cross_val_predict(sv,X,y,cv=20)\n",
    "\n",
    "print('Y prediction values')\n",
    "print(y_pred)\n",
    "\n",
    "conf_mat = confusion_matrix(y,y_pred)\n",
    "conf_mat\n",
    "\n",
    "from sklearn.metrics import accuracy_score\n",
    "accuracy_score(y,y_pred)"
   ]
  },
  {
   "cell_type": "code",
   "execution_count": 36,
   "metadata": {},
   "outputs": [
    {
     "name": "stdout",
     "output_type": "stream",
     "text": [
      "f1_score: [0.46361123 0.66699612 0.61257593 0.52255515 0.39591785]\n",
      "mean score: 0.5323312559711353\n",
      "stn deviation: 0.0979800628503577\n",
      "Y prediction values\n",
      "[ 0  0  0 ...  7 53 48]\n"
     ]
    },
    {
     "data": {
      "text/plain": [
       "0.7010247136829415"
      ]
     },
     "execution_count": 36,
     "metadata": {},
     "output_type": "execute_result"
    }
   ],
   "source": [
    "# Decision Tree Classifier (criterion='gini')\n",
    "# Decision Tree Classifier (criterion='entropy')\n",
    "# gini and entropy\n",
    "\n",
    "dtc=DecisionTreeClassifier(criterion='gini')\n",
    "score=cross_val_score(dtc,X,y,cv=5,scoring='f1_macro')\n",
    "\n",
    "print('f1_score:',score)\n",
    "print('mean score:',score.mean())\n",
    "print('stn deviation:',score.std())\n",
    "\n",
    "y_pred = cross_val_predict(dtc, X, y, cv=30)\n",
    "\n",
    "print('Y prediction values')\n",
    "print(y_pred)\n",
    "\n",
    "conf_mat = confusion_matrix(y, y_pred)\n",
    "conf_mat\n",
    "\n",
    "from sklearn.metrics import accuracy_score\n",
    "accuracy_score(y,y_pred)"
   ]
  },
  {
   "cell_type": "code",
   "execution_count": 37,
   "metadata": {},
   "outputs": [
    {
     "name": "stdout",
     "output_type": "stream",
     "text": [
      "accuracy score: [0.59506849 0.70684932 0.66575342 0.54356164 0.39380652]\n",
      "mean score: 0.5810078798094429\n",
      "stn deviation: 0.10923565706866394\n",
      "Y prediction values\n",
      "[ 0 49  0 ... 53 53 53]\n",
      "y_pred.shape (18249,)\n"
     ]
    },
    {
     "data": {
      "text/plain": [
       "0.7382870294262699"
      ]
     },
     "execution_count": 37,
     "metadata": {},
     "output_type": "execute_result"
    }
   ],
   "source": [
    "knn=KNeighborsClassifier()\n",
    "score=cross_val_score(knn,X,y,cv=5,scoring='accuracy')\n",
    "\n",
    "print('accuracy score:',score)\n",
    "print('mean score:',score.mean())\n",
    "print('stn deviation:',score.std())\n",
    "\n",
    "y_pred = cross_val_predict(knn, X, y, cv=25)\n",
    "\n",
    "print('Y prediction values')\n",
    "print(y_pred)\n",
    "\n",
    "print(\"y_pred.shape\",y_pred.shape)\n",
    "\n",
    "conf_mat = confusion_matrix(y, y_pred)\n",
    "conf_mat\n",
    "\n",
    "from sklearn.metrics import accuracy_score\n",
    "accuracy_score(y,y_pred)"
   ]
  },
  {
   "cell_type": "code",
   "execution_count": 38,
   "metadata": {},
   "outputs": [
    {
     "name": "stdout",
     "output_type": "stream",
     "text": [
      "[0.83972603 0.83013699 0.84657534 0.84520548 0.73424658 0.77534247\n",
      " 0.83561644 0.84109589 0.7260274  0.8369863  0.85753425 0.76986301\n",
      " 0.66712329 0.68630137 0.71232877 0.62739726 0.64657534 0.6739726\n",
      " 0.63972603 0.65753425 0.72328767 0.68493151 0.64383562 0.67808219\n",
      " 0.6776406 ]\n"
     ]
    },
    {
     "data": {
      "text/plain": [
       "0.7382870294262699"
      ]
     },
     "execution_count": 38,
     "metadata": {},
     "output_type": "execute_result"
    }
   ],
   "source": [
    "from sklearn.externals import joblib \n",
    "from sklearn.neighbors import KNeighborsClassifier\n",
    "\n",
    "joblib_file = \"joblib_knn.pkl\"             # Save to file in the current working directory\n",
    "joblib.dump(knn, joblib_file)\n",
    "joblib_knn = joblib.load(joblib_file)      # Load from file\n",
    "\n",
    "score=cross_val_score(knn,X,y,cv=25,scoring='accuracy')\n",
    "\n",
    "print(score)\n",
    "\n",
    "from sklearn.metrics import accuracy_score\n",
    "accuracy_score(y,y_pred)"
   ]
  },
  {
   "cell_type": "code",
   "execution_count": 39,
   "metadata": {},
   "outputs": [
    {
     "data": {
      "text/plain": [
       "<matplotlib.axes._subplots.AxesSubplot at 0x2bdae917ac8>"
      ]
     },
     "execution_count": 39,
     "metadata": {},
     "output_type": "execute_result"
    },
    {
     "data": {
      "image/png": "[encoded data removed]",
      "text/plain": [
       "<Figure size 432x288 with 1 Axes>"
      ]
     },
     "metadata": {
      "needs_background": "light"
     },
     "output_type": "display_data"
    }
   ],
   "source": [
    "# Visualization of predictions\n",
    "import seaborn as sns\n",
    "ax1 = sns.distplot(y_test, hist = False, color = 'r', label = 'actual')\n",
    "sns.distplot(y_pred, hist = False, color = 'b', label = 'prediction', ax = ax1)"
   ]
  },
  {
   "cell_type": "markdown",
   "metadata": {},
   "source": [
    "Conclusion-Avocado dataset gives best score for KNN model as 81% with 73% accuracy.\n",
    "This model shows that 'conventional' avacado type were highly available in Detroit region on 4th Sept2016"
   ]
  }
 ],
 "metadata": {
  "kernelspec": {
   "display_name": "Python 3",
   "language": "python",
   "name": "python3"
  },
  "language_info": {
   "codemirror_mode": {
    "name": "ipython",
    "version": 3
   },
   "file_extension": ".py",
   "mimetype": "text/x-python",
   "name": "python",
   "nbconvert_exporter": "python",
   "pygments_lexer": "ipython3",
   "version": "3.7.6"
  }
 },
 "nbformat": 4,
 "nbformat_minor": 4
}
