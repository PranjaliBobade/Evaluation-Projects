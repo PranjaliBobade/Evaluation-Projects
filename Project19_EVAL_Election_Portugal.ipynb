{
 "cells": [
  {
   "cell_type": "code",
   "execution_count": 1,
   "metadata": {},
   "outputs": [],
   "source": [
    "import pandas as pd\n",
    "from sklearn import preprocessing\n",
    "from matplotlib import pyplot as plt\n",
    "from sklearn.model_selection import train_test_split\n",
    "\n",
    "from sklearn.model_selection import StratifiedKFold\n",
    "from sklearn.metrics import classification_report\n",
    "from sklearn.metrics import confusion_matrix\n",
    "from sklearn.metrics import accuracy_score\n",
    "from sklearn.linear_model import LogisticRegression\n",
    "from sklearn.tree import DecisionTreeClassifier\n",
    "from sklearn.neighbors import KNeighborsClassifier\n",
    "from sklearn.discriminant_analysis import LinearDiscriminantAnalysis\n",
    "from sklearn.naive_bayes import GaussianNB\n",
    "from sklearn.svm import SVC\n",
    "\n",
    "import seaborn as sns\n",
    "import warnings\n",
    "warnings.filterwarnings('ignore')\n",
    "from sklearn.externals import joblib"
   ]
  },
  {
   "cell_type": "code",
   "execution_count": 16,
   "metadata": {},
   "outputs": [],
   "source": [
    "#import avacado data files\n",
    "df=pd.read_csv(\"F:/Pranjali/Data Science/Eval Project/Data Files/Electon_Portugal.csv\")"
   ]
  },
  {
   "cell_type": "code",
   "execution_count": 17,
   "metadata": {},
   "outputs": [
    {
     "data": {
      "text/html": [
       "<div>\n",
       "<style scoped>\n",
       "    .dataframe tbody tr th:only-of-type {\n",
       "        vertical-align: middle;\n",
       "    }\n",
       "\n",
       "    .dataframe tbody tr th {\n",
       "        vertical-align: top;\n",
       "    }\n",
       "\n",
       "    .dataframe thead th {\n",
       "        text-align: right;\n",
       "    }\n",
       "</style>\n",
       "<table border=\"1\" class=\"dataframe\">\n",
       "  <thead>\n",
       "    <tr style=\"text-align: right;\">\n",
       "      <th></th>\n",
       "      <th>TimeElapsed</th>\n",
       "      <th>time</th>\n",
       "      <th>territoryName</th>\n",
       "      <th>totalMandates</th>\n",
       "      <th>availableMandates</th>\n",
       "      <th>numParishes</th>\n",
       "      <th>numParishesApproved</th>\n",
       "      <th>blankVotes</th>\n",
       "      <th>blankVotesPercentage</th>\n",
       "      <th>nullVotes</th>\n",
       "      <th>...</th>\n",
       "      <th>prevotersPercentage</th>\n",
       "      <th>presubscribedVoters</th>\n",
       "      <th>pretotalVoters</th>\n",
       "      <th>Party</th>\n",
       "      <th>Mandates</th>\n",
       "      <th>Percentage</th>\n",
       "      <th>validVotesPercentage</th>\n",
       "      <th>Votes</th>\n",
       "      <th>Hondt</th>\n",
       "      <th>FinalMandates</th>\n",
       "    </tr>\n",
       "  </thead>\n",
       "  <tbody>\n",
       "    <tr>\n",
       "      <th>0</th>\n",
       "      <td>0</td>\n",
       "      <td>10/6/2019 20:10</td>\n",
       "      <td>Território Nacional</td>\n",
       "      <td>0</td>\n",
       "      <td>226</td>\n",
       "      <td>3092</td>\n",
       "      <td>1081</td>\n",
       "      <td>9652</td>\n",
       "      <td>2.5</td>\n",
       "      <td>8874</td>\n",
       "      <td>...</td>\n",
       "      <td>52.66</td>\n",
       "      <td>813743.0</td>\n",
       "      <td>428546.0</td>\n",
       "      <td>PS</td>\n",
       "      <td>0.0</td>\n",
       "      <td>38.29</td>\n",
       "      <td>40.22</td>\n",
       "      <td>147993.0</td>\n",
       "      <td>94.0</td>\n",
       "      <td>106.0</td>\n",
       "    </tr>\n",
       "    <tr>\n",
       "      <th>1</th>\n",
       "      <td>0</td>\n",
       "      <td>10/6/2019 20:10</td>\n",
       "      <td>Território Nacional</td>\n",
       "      <td>0</td>\n",
       "      <td>226</td>\n",
       "      <td>3092</td>\n",
       "      <td>1081</td>\n",
       "      <td>9652</td>\n",
       "      <td>2.5</td>\n",
       "      <td>8874</td>\n",
       "      <td>...</td>\n",
       "      <td>52.66</td>\n",
       "      <td>813743.0</td>\n",
       "      <td>428546.0</td>\n",
       "      <td>PPDPSD</td>\n",
       "      <td>0.0</td>\n",
       "      <td>33.28</td>\n",
       "      <td>34.95</td>\n",
       "      <td>128624.0</td>\n",
       "      <td>81.0</td>\n",
       "      <td>77.0</td>\n",
       "    </tr>\n",
       "  </tbody>\n",
       "</table>\n",
       "<p>2 rows × 28 columns</p>\n",
       "</div>"
      ],
      "text/plain": [
       "   TimeElapsed             time        territoryName  totalMandates  \\\n",
       "0            0  10/6/2019 20:10  Território Nacional              0   \n",
       "1            0  10/6/2019 20:10  Território Nacional              0   \n",
       "\n",
       "   availableMandates  numParishes  numParishesApproved  blankVotes  \\\n",
       "0                226         3092                 1081        9652   \n",
       "1                226         3092                 1081        9652   \n",
       "\n",
       "   blankVotesPercentage  nullVotes  ...  prevotersPercentage  \\\n",
       "0                   2.5       8874  ...                52.66   \n",
       "1                   2.5       8874  ...                52.66   \n",
       "\n",
       "   presubscribedVoters pretotalVoters   Party  Mandates  Percentage  \\\n",
       "0             813743.0       428546.0      PS       0.0       38.29   \n",
       "1             813743.0       428546.0  PPDPSD       0.0       33.28   \n",
       "\n",
       "   validVotesPercentage     Votes  Hondt  FinalMandates  \n",
       "0                 40.22  147993.0   94.0          106.0  \n",
       "1                 34.95  128624.0   81.0           77.0  \n",
       "\n",
       "[2 rows x 28 columns]"
      ]
     },
     "execution_count": 17,
     "metadata": {},
     "output_type": "execute_result"
    }
   ],
   "source": [
    "df.head(2)"
   ]
  },
  {
   "cell_type": "code",
   "execution_count": 18,
   "metadata": {},
   "outputs": [],
   "source": [
    "# replace NaN values\n",
    "\n",
    "import numpy as np\n",
    "\n",
    "df['TimeElapsed'].replace(np.NaN , df['TimeElapsed'].mean,inplace=True)\n",
    "df['totalMandates'].replace(np.NaN , df['totalMandates'].mean,inplace=True)\n",
    "df['availableMandates'].replace(np.NaN , df['availableMandates'].mean,inplace=True)\n",
    "df['numParishes'].replace(np.NaN , df['numParishes'].mean,inplace=True)\n",
    "df['numParishesApproved'].replace(np.NaN , df['numParishesApproved'].mean,inplace=True)\n",
    "df['blankVotes'].replace(np.NaN , df['blankVotes'].mean,inplace=True)\n",
    "df['blankVotesPercentage'].replace(np.NaN , df['blankVotesPercentage'].mean,inplace=True)\n",
    "df['nullVotes'].replace(np.NaN , df['nullVotes'].mean,inplace=True)\n",
    "df['validVotesPercentage'].replace(np.NaN , df['validVotesPercentage'].mean,inplace=True)\n",
    "df['nullVotesPercentage'].replace(np.NaN , df['nullVotesPercentage'].mean,inplace=True)\n",
    "df['votersPercentage'].replace(np.NaN , df['votersPercentage'].mean,inplace=True)\n",
    "df['pretotalVoters'].replace(np.NaN , df['pretotalVoters'].mean,inplace=True)\n"
   ]
  },
  {
   "cell_type": "code",
   "execution_count": 19,
   "metadata": {},
   "outputs": [
    {
     "data": {
      "text/plain": [
       "['TimeElapsed',\n",
       " 'time',\n",
       " 'territoryName',\n",
       " 'totalMandates',\n",
       " 'availableMandates',\n",
       " 'numParishes',\n",
       " 'numParishesApproved',\n",
       " 'blankVotes',\n",
       " 'blankVotesPercentage',\n",
       " 'nullVotes',\n",
       " 'nullVotesPercentage',\n",
       " 'votersPercentage',\n",
       " 'subscribedVoters',\n",
       " 'totalVoters',\n",
       " 'preblankVotes',\n",
       " 'preblankVotesPercentage',\n",
       " 'prenullVotes',\n",
       " 'prenullVotesPercentage',\n",
       " 'prevotersPercentage',\n",
       " 'presubscribedVoters',\n",
       " 'pretotalVoters',\n",
       " 'Party',\n",
       " 'Mandates',\n",
       " 'Percentage',\n",
       " 'validVotesPercentage',\n",
       " 'Votes',\n",
       " 'Hondt',\n",
       " 'FinalMandates']"
      ]
     },
     "execution_count": 19,
     "metadata": {},
     "output_type": "execute_result"
    }
   ],
   "source": [
    "list(df.columns.values) "
   ]
  },
  {
   "cell_type": "code",
   "execution_count": 20,
   "metadata": {},
   "outputs": [
    {
     "data": {
      "text/html": [
       "<div>\n",
       "<style scoped>\n",
       "    .dataframe tbody tr th:only-of-type {\n",
       "        vertical-align: middle;\n",
       "    }\n",
       "\n",
       "    .dataframe tbody tr th {\n",
       "        vertical-align: top;\n",
       "    }\n",
       "\n",
       "    .dataframe thead th {\n",
       "        text-align: right;\n",
       "    }\n",
       "</style>\n",
       "<table border=\"1\" class=\"dataframe\">\n",
       "  <thead>\n",
       "    <tr style=\"text-align: right;\">\n",
       "      <th></th>\n",
       "      <th>TimeElapsed</th>\n",
       "      <th>time</th>\n",
       "      <th>territoryName</th>\n",
       "      <th>totalMandates</th>\n",
       "      <th>availableMandates</th>\n",
       "      <th>numParishes</th>\n",
       "      <th>numParishesApproved</th>\n",
       "      <th>blankVotes</th>\n",
       "      <th>blankVotesPercentage</th>\n",
       "      <th>nullVotes</th>\n",
       "      <th>...</th>\n",
       "      <th>prevotersPercentage</th>\n",
       "      <th>presubscribedVoters</th>\n",
       "      <th>pretotalVoters</th>\n",
       "      <th>Party</th>\n",
       "      <th>Mandates</th>\n",
       "      <th>Percentage</th>\n",
       "      <th>validVotesPercentage</th>\n",
       "      <th>Votes</th>\n",
       "      <th>Hondt</th>\n",
       "      <th>FinalMandates</th>\n",
       "    </tr>\n",
       "  </thead>\n",
       "  <tbody>\n",
       "    <tr>\n",
       "      <th>0</th>\n",
       "      <td>0</td>\n",
       "      <td>10/6/2019 20:10</td>\n",
       "      <td>Território Nacional</td>\n",
       "      <td>0</td>\n",
       "      <td>226</td>\n",
       "      <td>3092</td>\n",
       "      <td>1081</td>\n",
       "      <td>9652</td>\n",
       "      <td>2.5</td>\n",
       "      <td>8874</td>\n",
       "      <td>...</td>\n",
       "      <td>52.66</td>\n",
       "      <td>813743.0</td>\n",
       "      <td>428546</td>\n",
       "      <td>PS</td>\n",
       "      <td>0.0</td>\n",
       "      <td>38.29</td>\n",
       "      <td>40.22</td>\n",
       "      <td>147993.0</td>\n",
       "      <td>94.0</td>\n",
       "      <td>106.0</td>\n",
       "    </tr>\n",
       "    <tr>\n",
       "      <th>1</th>\n",
       "      <td>0</td>\n",
       "      <td>10/6/2019 20:10</td>\n",
       "      <td>Território Nacional</td>\n",
       "      <td>0</td>\n",
       "      <td>226</td>\n",
       "      <td>3092</td>\n",
       "      <td>1081</td>\n",
       "      <td>9652</td>\n",
       "      <td>2.5</td>\n",
       "      <td>8874</td>\n",
       "      <td>...</td>\n",
       "      <td>52.66</td>\n",
       "      <td>813743.0</td>\n",
       "      <td>428546</td>\n",
       "      <td>PPDPSD</td>\n",
       "      <td>0.0</td>\n",
       "      <td>33.28</td>\n",
       "      <td>34.95</td>\n",
       "      <td>128624.0</td>\n",
       "      <td>81.0</td>\n",
       "      <td>77.0</td>\n",
       "    </tr>\n",
       "  </tbody>\n",
       "</table>\n",
       "<p>2 rows × 28 columns</p>\n",
       "</div>"
      ],
      "text/plain": [
       "   TimeElapsed             time        territoryName  totalMandates  \\\n",
       "0            0  10/6/2019 20:10  Território Nacional              0   \n",
       "1            0  10/6/2019 20:10  Território Nacional              0   \n",
       "\n",
       "   availableMandates  numParishes  numParishesApproved  blankVotes  \\\n",
       "0                226         3092                 1081        9652   \n",
       "1                226         3092                 1081        9652   \n",
       "\n",
       "   blankVotesPercentage  nullVotes  ...  prevotersPercentage  \\\n",
       "0                   2.5       8874  ...                52.66   \n",
       "1                   2.5       8874  ...                52.66   \n",
       "\n",
       "   presubscribedVoters pretotalVoters   Party  Mandates  Percentage  \\\n",
       "0             813743.0         428546      PS       0.0       38.29   \n",
       "1             813743.0         428546  PPDPSD       0.0       33.28   \n",
       "\n",
       "   validVotesPercentage     Votes  Hondt  FinalMandates  \n",
       "0                 40.22  147993.0   94.0          106.0  \n",
       "1                 34.95  128624.0   81.0           77.0  \n",
       "\n",
       "[2 rows x 28 columns]"
      ]
     },
     "execution_count": 20,
     "metadata": {},
     "output_type": "execute_result"
    }
   ],
   "source": [
    "df.head(2)"
   ]
  },
  {
   "cell_type": "code",
   "execution_count": 21,
   "metadata": {},
   "outputs": [
    {
     "name": "stdout",
     "output_type": "stream",
     "text": [
      "<class 'pandas.core.frame.DataFrame'>\n",
      "RangeIndex: 19492 entries, 0 to 19491\n",
      "Data columns (total 28 columns):\n",
      " #   Column                   Non-Null Count  Dtype  \n",
      "---  ------                   --------------  -----  \n",
      " 0   TimeElapsed              19492 non-null  int64  \n",
      " 1   time                     19492 non-null  object \n",
      " 2   territoryName            19492 non-null  object \n",
      " 3   totalMandates            19492 non-null  int64  \n",
      " 4   availableMandates        19492 non-null  int64  \n",
      " 5   numParishes              19492 non-null  int64  \n",
      " 6   numParishesApproved      19492 non-null  int64  \n",
      " 7   blankVotes               19492 non-null  int64  \n",
      " 8   blankVotesPercentage     19492 non-null  float64\n",
      " 9   nullVotes                19492 non-null  int64  \n",
      " 10  nullVotesPercentage      19492 non-null  float64\n",
      " 11  votersPercentage         19492 non-null  float64\n",
      " 12  subscribedVoters         19492 non-null  object \n",
      " 13  totalVoters              19491 non-null  float64\n",
      " 14  preblankVotes            19491 non-null  float64\n",
      " 15  preblankVotesPercentage  19491 non-null  float64\n",
      " 16  prenullVotes             19491 non-null  float64\n",
      " 17  prenullVotesPercentage   19491 non-null  float64\n",
      " 18  prevotersPercentage      19491 non-null  float64\n",
      " 19  presubscribedVoters      19491 non-null  float64\n",
      " 20  pretotalVoters           19492 non-null  object \n",
      " 21  Party                    19491 non-null  object \n",
      " 22  Mandates                 19491 non-null  float64\n",
      " 23  Percentage               19491 non-null  float64\n",
      " 24  validVotesPercentage     19492 non-null  object \n",
      " 25  Votes                    19491 non-null  float64\n",
      " 26  Hondt                    19491 non-null  float64\n",
      " 27  FinalMandates            19491 non-null  float64\n",
      "dtypes: float64(15), int64(7), object(6)\n",
      "memory usage: 4.2+ MB\n"
     ]
    }
   ],
   "source": [
    "# Checking dataset data types\n",
    "df.info()"
   ]
  },
  {
   "cell_type": "code",
   "execution_count": 22,
   "metadata": {},
   "outputs": [
    {
     "data": {
      "text/plain": [
       "<matplotlib.axes._subplots.AxesSubplot at 0x208c5dcfc88>"
      ]
     },
     "execution_count": 22,
     "metadata": {},
     "output_type": "execute_result"
    },
    {
     "data": {
      "image/png": "[encoded data removed]",
      "text/plain": [
       "<Figure size 432x288 with 2 Axes>"
      ]
     },
     "metadata": {
      "needs_background": "light"
     },
     "output_type": "display_data"
    }
   ],
   "source": [
    "# checking correlation using heatmap\n",
    "\n",
    "dfcor=df.corr()\n",
    "sns.heatmap(dfcor)"
   ]
  },
  {
   "cell_type": "markdown",
   "metadata": {},
   "source": [
    "these columns are correlated to each other - totalMandates  , availableMandates , numParishes ,            \n",
    "numParishesApproved , blankVotes , nullVotes , preblankVotes , prenullVotes , presubscribedVoters , pretotalVoters"
   ]
  },
  {
   "cell_type": "code",
   "execution_count": 23,
   "metadata": {},
   "outputs": [
    {
     "name": "stdout",
     "output_type": "stream",
     "text": [
      "<class 'pandas.core.frame.DataFrame'>\n",
      "RangeIndex: 19492 entries, 0 to 19491\n",
      "Data columns (total 28 columns):\n",
      " #   Column                   Non-Null Count  Dtype  \n",
      "---  ------                   --------------  -----  \n",
      " 0   TimeElapsed              19492 non-null  int64  \n",
      " 1   time                     19492 non-null  object \n",
      " 2   territoryName            19492 non-null  object \n",
      " 3   totalMandates            19492 non-null  int64  \n",
      " 4   availableMandates        19492 non-null  int64  \n",
      " 5   numParishes              19492 non-null  int64  \n",
      " 6   numParishesApproved      19492 non-null  int64  \n",
      " 7   blankVotes               19492 non-null  int64  \n",
      " 8   blankVotesPercentage     19492 non-null  float64\n",
      " 9   nullVotes                19492 non-null  int64  \n",
      " 10  nullVotesPercentage      19492 non-null  float64\n",
      " 11  votersPercentage         19492 non-null  float64\n",
      " 12  subscribedVoters         19492 non-null  object \n",
      " 13  totalVoters              19491 non-null  float64\n",
      " 14  preblankVotes            19491 non-null  float64\n",
      " 15  preblankVotesPercentage  19491 non-null  float64\n",
      " 16  prenullVotes             19491 non-null  float64\n",
      " 17  prenullVotesPercentage   19491 non-null  float64\n",
      " 18  prevotersPercentage      19491 non-null  float64\n",
      " 19  presubscribedVoters      19491 non-null  float64\n",
      " 20  pretotalVoters           19492 non-null  object \n",
      " 21  Party                    19491 non-null  object \n",
      " 22  Mandates                 19491 non-null  float64\n",
      " 23  Percentage               19491 non-null  float64\n",
      " 24  validVotesPercentage     19492 non-null  object \n",
      " 25  Votes                    19491 non-null  float64\n",
      " 26  Hondt                    19491 non-null  float64\n",
      " 27  FinalMandates            19491 non-null  float64\n",
      "dtypes: float64(15), int64(7), object(6)\n",
      "memory usage: 4.2+ MB\n"
     ]
    }
   ],
   "source": [
    "df.info()"
   ]
  },
  {
   "cell_type": "code",
   "execution_count": 24,
   "metadata": {},
   "outputs": [
    {
     "data": {
      "text/plain": [
       "TimeElapsed                -0.005586\n",
       "totalMandates               5.336090\n",
       "availableMandates           4.866122\n",
       "numParishes                 3.903704\n",
       "numParishesApproved         4.253184\n",
       "blankVotes                  4.600903\n",
       "blankVotesPercentage        0.077738\n",
       "nullVotes                   4.595847\n",
       "nullVotesPercentage         0.846710\n",
       "votersPercentage           -1.150871\n",
       "totalVoters                 4.632565\n",
       "preblankVotes               4.636444\n",
       "preblankVotesPercentage     0.037168\n",
       "prenullVotes                4.643169\n",
       "prenullVotesPercentage      1.198112\n",
       "prevotersPercentage        -0.765792\n",
       "presubscribedVoters         4.648461\n",
       "Mandates                   17.121335\n",
       "Percentage                  2.545575\n",
       "Votes                      14.190572\n",
       "Hondt                      11.469376\n",
       "FinalMandates              12.367832\n",
       "dtype: float64"
      ]
     },
     "execution_count": 24,
     "metadata": {},
     "output_type": "execute_result"
    }
   ],
   "source": [
    "# lets check for skewness \n",
    "df.skew()"
   ]
  },
  {
   "cell_type": "code",
   "execution_count": 34,
   "metadata": {},
   "outputs": [],
   "source": [
    "# Use for loop to convert all data types into interger data types for all columns\n",
    "\n",
    "from sklearn.preprocessing import LabelEncoder\n",
    "label_encoders = LabelEncoder()\n",
    "\n",
    "label_encoders = {}\n",
    "categorical_columns = ['totalMandates', 'availableMandates', 'numParishes', 'numParishesApproved', 'blankVotes','nullVotes']  # need to use columns_names for pandas & for numpy use range(n) instead\n",
    "\n",
    "for column in categorical_columns:\n",
    "    label_encoders[column] = LabelEncoder()\n",
    "    df[column] = label_encoders[column].fit_transform(df[column])  # if numpy instead of pandas use X[:, column] instead"
   ]
  },
  {
   "cell_type": "markdown",
   "metadata": {},
   "source": [
    "column name - numParishes , blankVotesPercentage , nullVotesPercentage , votersPercentage having outliers "
   ]
  },
  {
   "cell_type": "code",
   "execution_count": 35,
   "metadata": {},
   "outputs": [],
   "source": [
    "import pandas as pd\n",
    "\n",
    "feature_cols = ['totalMandates', 'availableMandates', 'numParishes', 'numParishesApproved', 'blankVotes','nullVotes']\n",
    "\n",
    "X = df[feature_cols]\n",
    "y = df.totalMandates"
   ]
  },
  {
   "cell_type": "markdown",
   "metadata": {},
   "source": [
    "Applying linear regression with limited columns having correlation between them"
   ]
  },
  {
   "cell_type": "code",
   "execution_count": 36,
   "metadata": {},
   "outputs": [
    {
     "name": "stdout",
     "output_type": "stream",
     "text": [
      "<class 'pandas.core.frame.DataFrame'>\n",
      "(19492, 6)\n"
     ]
    }
   ],
   "source": [
    "print(type(X))\n",
    "print(X.shape)"
   ]
  },
  {
   "cell_type": "code",
   "execution_count": 37,
   "metadata": {},
   "outputs": [
    {
     "name": "stdout",
     "output_type": "stream",
     "text": [
      "<class 'pandas.core.series.Series'>\n",
      "(19492,)\n"
     ]
    }
   ],
   "source": [
    "print(type(y))\n",
    "print(y.shape)"
   ]
  },
  {
   "cell_type": "code",
   "execution_count": 38,
   "metadata": {},
   "outputs": [
    {
     "name": "stdout",
     "output_type": "stream",
     "text": [
      "(14619, 6)\n",
      "(4873, 6)\n",
      "(14619,)\n",
      "(4873,)\n"
     ]
    }
   ],
   "source": [
    "# Splitting X and y into training and testing sets\n",
    "\n",
    "from sklearn.model_selection import train_test_split\n",
    "X_train, X_test, y_train, y_test = train_test_split(X, y, random_state=42)\n",
    "\n",
    "# default split is 75% for training and 25% for testing\n",
    "print(X_train.shape)\n",
    "print(X_test.shape)\n",
    "print(y_train.shape)\n",
    "print(y_test.shape)"
   ]
  },
  {
   "cell_type": "code",
   "execution_count": 39,
   "metadata": {},
   "outputs": [
    {
     "data": {
      "text/plain": [
       "LinearRegression(copy_X=True, fit_intercept=True, n_jobs=None, normalize=False)"
      ]
     },
     "execution_count": 39,
     "metadata": {},
     "output_type": "execute_result"
    }
   ],
   "source": [
    "# Linear regression in scikit-learn\n",
    "from sklearn.linear_model import LinearRegression\n",
    "linreg = LinearRegression()\n",
    "\n",
    "# fit the model to the training data (learn the coefficients)\n",
    "linreg.fit(X_train, y_train)"
   ]
  },
  {
   "cell_type": "code",
   "execution_count": 40,
   "metadata": {},
   "outputs": [
    {
     "name": "stdout",
     "output_type": "stream",
     "text": [
      "-3.028688411177427e-13\n",
      "[ 1.00000000e+00 -3.05741026e-16  8.31258721e-16 -2.06901573e-16\n",
      "  1.06001534e-16 -6.71381745e-17]\n"
     ]
    }
   ],
   "source": [
    "# Interpreting model coefficients\n",
    "# print the intercept and coefficients\n",
    "\n",
    "print(linreg.intercept_)\n",
    "print(linreg.coef_)"
   ]
  },
  {
   "cell_type": "code",
   "execution_count": 41,
   "metadata": {},
   "outputs": [],
   "source": [
    "# make predictions on the testing set\n",
    "y_pred = linreg.predict(X_test)"
   ]
  },
  {
   "cell_type": "code",
   "execution_count": 42,
   "metadata": {},
   "outputs": [
    {
     "name": "stdout",
     "output_type": "stream",
     "text": [
      "GridSearchCV(cv=None, error_score=nan,\n",
      "             estimator=Ridge(alpha=1.0, copy_X=True, fit_intercept=True,\n",
      "                             max_iter=None, normalize=False, random_state=None,\n",
      "                             solver='auto', tol=0.001),\n",
      "             iid='deprecated', n_jobs=None,\n",
      "             param_grid={'alpha': array([1.e+00, 1.e-01, 1.e-02, 1.e-03, 1.e-04, 0.e+00])},\n",
      "             pre_dispatch='2*n_jobs', refit=True, return_train_score=False,\n",
      "             scoring=None, verbose=0)\n",
      "1.0\n",
      "0.001\n"
     ]
    }
   ],
   "source": [
    "import numpy as np\n",
    "from sklearn import datasets\n",
    "from sklearn.linear_model import Ridge\n",
    "from sklearn.model_selection import GridSearchCV\n",
    "\n",
    "# load the datasets\n",
    "dataset = df\n",
    "\n",
    "# prepare a range of alpha values to test\n",
    "alphas = np.array([1,0.1,0.01,0.001,0.0001,0])\n",
    "\n",
    "# create and fit a ridge regression model, testing each alpha\n",
    "model = Ridge()\n",
    "grid = GridSearchCV(estimator=model, param_grid=dict(alpha=alphas))\n",
    "grid.fit(X_train, y_train)    \n",
    "print(grid)\n",
    "\n",
    "# summarize the results of the grid search\n",
    "print(grid.best_score_)\n",
    "print(grid.best_estimator_.alpha)"
   ]
  },
  {
   "cell_type": "code",
   "execution_count": 43,
   "metadata": {},
   "outputs": [
    {
     "name": "stdout",
     "output_type": "stream",
     "text": [
      "RandomizedSearchCV(cv=None, error_score=nan,\n",
      "                   estimator=Ridge(alpha=1.0, copy_X=True, fit_intercept=True,\n",
      "                                   max_iter=None, normalize=False,\n",
      "                                   random_state=None, solver='auto',\n",
      "                                   tol=0.001),\n",
      "                   iid='deprecated', n_iter=100, n_jobs=None,\n",
      "                   param_distributions={'alpha': <scipy.stats._distn_infrastructure.rv_frozen object at 0x00000208C542F588>},\n",
      "                   pre_dispatch='2*n_jobs', random_state=None, refit=True,\n",
      "                   return_train_score=False, scoring=None, verbose=0)\n",
      "1.0\n",
      "0.00013161707817133106\n"
     ]
    }
   ],
   "source": [
    "# Randomized Search for Algorithm Tuning\n",
    "\n",
    "import numpy as np\n",
    "from scipy.stats import uniform as sp_rand\n",
    "from sklearn import datasets\n",
    "from sklearn.linear_model import Ridge\n",
    "from sklearn.model_selection import RandomizedSearchCV\n",
    "\n",
    "# load the datasets\n",
    "dataset = df\n",
    "\n",
    "# prepare a uniform distribution to sample for the alpha parameter\n",
    "param_grid = {'alpha': sp_rand()}\n",
    "\n",
    "# create and fit a ridge regression model, testing random alpha values\n",
    "model = Ridge()\n",
    "rsearch = RandomizedSearchCV(estimator=model, param_distributions=param_grid, n_iter=100)\n",
    "rsearch.fit(X_train, y_train) \n",
    "print(rsearch)\n",
    "\n",
    "# summarize the results of the random parameter search\n",
    "print(rsearch.best_score_)\n",
    "print(rsearch.best_estimator_.alpha)"
   ]
  },
  {
   "cell_type": "code",
   "execution_count": 44,
   "metadata": {},
   "outputs": [
    {
     "name": "stdout",
     "output_type": "stream",
     "text": [
      "Mean Accuracy Error:  2.9738526697773424e-13\n",
      "Mean Sqr Error:    2.1674521796024455e-25\n",
      "Root mean sqr error:  4.655590381039171e-13\n"
     ]
    }
   ],
   "source": [
    "# calculate MAE using scikit-learn\n",
    "from sklearn import metrics\n",
    "\n",
    "# Computing the MAE\n",
    "print(\"Mean Accuracy Error: \",metrics.mean_absolute_error(y_test, y_pred))\n",
    "\n",
    "# Computing the MSE\n",
    "print(\"Mean Sqr Error:   \",metrics.mean_squared_error(y_test, y_pred))\n",
    "\n",
    "# Computing the RMSE\n",
    "print(\"Root mean sqr error: \",np.sqrt(metrics.mean_squared_error(y_test, y_pred)))"
   ]
  },
  {
   "cell_type": "code",
   "execution_count": 45,
   "metadata": {},
   "outputs": [
    {
     "name": "stdout",
     "output_type": "stream",
     "text": [
      "max r2 score corresponds to 42  is  1.0\n"
     ]
    }
   ],
   "source": [
    "# Use for loop to iterate rstate to get the r2score.\n",
    "\n",
    "from sklearn.metrics import mean_absolute_error\n",
    "from sklearn.metrics import mean_squared_error\n",
    "from sklearn.metrics import r2_score\n",
    "from sklearn import linear_model\n",
    "\n",
    "# Split data using train_test_split method\n",
    "X_train, X_test, y_train, y_test = train_test_split(X, y,random_state = 42,test_size=0.30)\n",
    "\n",
    "max_rscore=0\n",
    "for r_state in range(42,101):\n",
    "    X_train, X_test, y_train, y_test = train_test_split(X, y,random_state = r_state,test_size=0.30)\n",
    "    regrn = linear_model.LinearRegression()\n",
    "    regrn.fit(X_train,y_train)\n",
    "    y_pred = regrn.predict(X_test)\n",
    "    r2_scr=r2_score(y_test,y_pred)\n",
    "    if r2_scr>max_rscore:\n",
    "        max_rscore=r2_scr\n",
    "        final_r_state=r_state\n",
    "print(\"max r2 score corresponds to\",final_r_state,\" is \",max_rscore)"
   ]
  },
  {
   "cell_type": "code",
   "execution_count": 46,
   "metadata": {},
   "outputs": [
    {
     "name": "stdout",
     "output_type": "stream",
     "text": [
      "linear lasso train score: 0.9998131817032871\n",
      "linear lasso test score: 0.999812791573403\n"
     ]
    }
   ],
   "source": [
    "from sklearn.linear_model import Lasso,Ridge\n",
    "from sklearn.model_selection import train_test_split\n",
    "\n",
    "# we can officially put values as 0.001,0.01,0.1,1.0 for alpha\n",
    "\n",
    "# will reduce the coefficient to zero (those feature are not informative)\n",
    "# Default value of alpha = 1.0\n",
    "# alpha =0.01\n",
    "\n",
    "ls=Lasso(alpha=1.0)\n",
    "ls.fit(X_train,y_train) \n",
    "ls.score(X_train,y_train)\n",
    "\n",
    "train_score=ls.score(X_train, y_train)\n",
    "test_score=ls.score(X_test, y_test)\n",
    "\n",
    "ls.coef_\n",
    "\n",
    "print (\"linear lasso train score:\", train_score)\n",
    "print (\"linear lasso test score:\", test_score)"
   ]
  },
  {
   "cell_type": "code",
   "execution_count": 47,
   "metadata": {},
   "outputs": [
    {
     "name": "stdout",
     "output_type": "stream",
     "text": [
      "Ridge train score: 0.9998131817032871\n",
      "Ridge test score: 0.999812791573403\n"
     ]
    }
   ],
   "source": [
    "# check if shape mismatch error thrown then check value of feature_names,coef ,both valu should be same only\n",
    "# try to minimize coe variable\n",
    "\n",
    "from sklearn.model_selection import train_test_split\n",
    "from sklearn.linear_model import LinearRegression\n",
    "from sklearn.linear_model import Ridge\n",
    "\n",
    "rd=Ridge(alpha=0.001)\n",
    "rd.fit(X_train,y_train) \n",
    "rd.score(X_train,y_train)\n",
    "\n",
    "\n",
    "Ridge_train_score=ls.score(X_train, y_train)\n",
    "Ridge_test_score=ls.score(X_test, y_test)\n",
    "\n",
    "ls.coef_\n",
    "\n",
    "print (\"Ridge train score:\", Ridge_train_score)\n",
    "print (\"Ridge test score:\", Ridge_test_score)"
   ]
  },
  {
   "cell_type": "code",
   "execution_count": 48,
   "metadata": {},
   "outputs": [
    {
     "name": "stdout",
     "output_type": "stream",
     "text": [
      "EL train score: 0.9998131817032871\n",
      "EL test score: 0.999812791573403\n"
     ]
    }
   ],
   "source": [
    "# check if shape mismatch error thrown then check value of feature_names,coef ,both valu should be same only\n",
    "# try to minimize coe variable\n",
    "\n",
    "# ElasticNet is a combination of both Lasso & Ridge\n",
    "\n",
    "from sklearn.model_selection import train_test_split\n",
    "from sklearn.linear_model import LinearRegression\n",
    "from sklearn.linear_model import Ridge\n",
    "from sklearn.linear_model import ElasticNet\n",
    "\n",
    "enr=ElasticNet(alpha=0.001)\n",
    "enr=ElasticNet()\n",
    "enr.fit(X_train,y_train)\n",
    "\n",
    "\n",
    "El_train_score=ls.score(X_train, y_train)\n",
    "El_test_score=ls.score(X_test, y_test)\n",
    "\n",
    "ls.coef_\n",
    "\n",
    "print (\"EL train score:\", El_train_score)\n",
    "print (\"EL test score:\", El_test_score)"
   ]
  },
  {
   "cell_type": "code",
   "execution_count": 49,
   "metadata": {},
   "outputs": [
    {
     "name": "stdout",
     "output_type": "stream",
     "text": [
      "Test score for linear regression: 100.00 %\n"
     ]
    }
   ],
   "source": [
    "from sklearn.externals import joblib\n",
    "\n",
    "joblib_file = \"joblib_regrn.pkl\"             # Save to file in the current working directory\n",
    "joblib.dump(regrn, joblib_file)\n",
    "joblib_regrn = joblib.load(joblib_file)      # Load from file\n",
    "score = joblib_regrn.score(X_test, y_test)   # Calculate the accuracy and predictions\n",
    "print(\"Test score for linear regression: {0:.2f} %\".format(100 * score))"
   ]
  },
  {
   "cell_type": "code",
   "execution_count": 50,
   "metadata": {},
   "outputs": [
    {
     "data": {
      "text/plain": [
       "<matplotlib.axes._subplots.AxesSubplot at 0x208c5f23448>"
      ]
     },
     "execution_count": 50,
     "metadata": {},
     "output_type": "execute_result"
    },
    {
     "data": {
      "image/png": "[encoded data removed]",
      "text/plain": [
       "<Figure size 432x288 with 1 Axes>"
      ]
     },
     "metadata": {
      "needs_background": "light"
     },
     "output_type": "display_data"
    }
   ],
   "source": [
    "# Visualization of predictions\n",
    "import seaborn as sns\n",
    "ax1 = sns.distplot(y_test, hist = False, color = 'r', label = 'actual')\n",
    "sns.distplot(y_pred, hist = False, color = 'b', label = 'prediction', ax = ax1)"
   ]
  },
  {
   "cell_type": "markdown",
   "metadata": {},
   "source": [
    "Conclusion-Portugal Election dataset gives 100% scorte for linear regression."
   ]
  }
 ],
 "metadata": {
  "kernelspec": {
   "display_name": "Python 3",
   "language": "python",
   "name": "python3"
  },
  "language_info": {
   "codemirror_mode": {
    "name": "ipython",
    "version": 3
   },
   "file_extension": ".py",
   "mimetype": "text/x-python",
   "name": "python",
   "nbconvert_exporter": "python",
   "pygments_lexer": "ipython3",
   "version": "3.7.6"
  }
 },
 "nbformat": 4,
 "nbformat_minor": 4
}
